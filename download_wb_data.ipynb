{
 "cells": [
  {
   "cell_type": "markdown",
   "metadata": {},
   "source": [
    "# Downloads wb data"
   ]
  },
  {
   "cell_type": "markdown",
   "metadata": {},
   "source": [
    "#### The new approach is to <u> divide percents by 100</u> in this notebook, at download time"
   ]
  },
  {
   "cell_type": "code",
   "execution_count": 4,
   "metadata": {
    "collapsed": false
   },
   "outputs": [
    {
     "name": "stdout",
     "output_type": "stream",
     "text": [
      "The autoreload extension is already loaded. To reload it, use:\n",
      "  %reload_ext autoreload\n"
     ]
    }
   ],
   "source": [
    "%load_ext autoreload\n",
    "%autoreload\n",
    "%matplotlib inline"
   ]
  },
  {
   "cell_type": "code",
   "execution_count": 5,
   "metadata": {
    "collapsed": false
   },
   "outputs": [],
   "source": [
    "from pandas_datareader import wb\n",
    "import pandas as pd\n",
    "import numpy as np\n",
    "import matplotlib.pyplot as plt\n",
    "from res_ind_lib import *\n",
    "\n",
    "import os, time\n",
    "from wb_api_wraper import *"
   ]
  },
  {
   "cell_type": "code",
   "execution_count": 6,
   "metadata": {
    "collapsed": false
   },
   "outputs": [
    {
     "name": "stderr",
     "output_type": "stream",
     "text": [
      "C:\\Users\\Admin\\Anaconda3\\lib\\site-packages\\pandas_datareader\\wb.py:159: FutureWarning: convert_objects is deprecated.  Use the data-type specific converters pd.to_datetime, pd.to_timedelta and pd.to_numeric.\n",
      "  out = out.convert_objects(convert_numeric=True)\n"
     ]
    }
   ],
   "source": [
    "#World Development Indicators\n",
    "gdp_pc_pp=get_wb_mrv('NY.GDP.PCAP.pp.kd',\"gdp_pc_pp\")#Gdp per capita ppp\n",
    "pop      =get_wb_mrv('SP.POP.TOTL'      ,\"pop\")#population\n",
    "gdp_pc_cd=get_wb_mrv('ny.gdp.pcap.cd'   ,\"gdp_pc_cd\")#gdp per capita mer\n",
    "gap2     =get_wb_mrv('1.0.PGap.2.5usd'  ,\"gap2\")#poverty gap at 2$\n",
    "head2    =get_wb_mrv('SI.POV.2DAY'      ,\"head2\")# povety count at 2$\n",
    "\n",
    "share1   =get_wb_mrv('SI.DST.FRST.20'   ,\"share1\")/100#share of income bottom 20%\n",
    "share2   =get_wb_mrv('SI.DST.02nd.20'   ,\"share2\")/100#share of income second \n",
    "share3   =get_wb_mrv('SI.DST.03rd.20'   ,\"share3\")/100#share of income 3rd\n",
    "share4   =get_wb_mrv('SI.DST.04th.20'   ,\"share4\")/100#share of income 4th\n",
    "share5   =get_wb_mrv('SI.DST.05th.20'   ,\"share5\")/100#share of income 5th\n",
    "\n",
    "#pahc = get_wb_mrv('SH.ACS.PROB.Q2.ZS','pahc')/100   #“problems in accessing health care (all concerns) (% of women)”\n",
    "bashs = get_wb_mrv('SH.STA.BRTC.ZS','bashs') /100# Births attended by skilled health staff (% of total)\n",
    "ophe = get_wb_mrv('SH.XPD.OOPC.TO.ZS','ophe')/100   # Out-of-pocket health expenditure (% of total expenditure on health)\n",
    "\n",
    "plgp = get_wb_mrv('SE.PRM.PRSL.ZS','plgp')/100   #'Persistence to last grade of primary, total (% of cohort)'\n",
    "\n",
    "\n",
    "#pseudo_employ = 1-get_wb_mrv(\"SL.UEM.TOTL.ZS\",\"pseudo_employ\")/100 # 'Unemployment, total (% of total labor force) (modeled ILO estimate)'\n",
    "unemp = get_wb_mrv(\"SL.UEM.TOTL.ZS\",\"unemp\")/100 # 'Unemployment, total (% of total labor force) (modeled ILO estimate)'"
   ]
  },
  {
   "cell_type": "code",
   "execution_count": 9,
   "metadata": {
    "collapsed": true
   },
   "outputs": [],
   "source": [
    "#Pandas display options\n",
    "pd.set_option('display.max_colwidth', 200)\n",
    "pd.set_option('display.width', 200)\n",
    "pd.set_option('display.precision', 10)\n",
    "pd.set_option('display.max_rows', 500)\n"
   ]
  },
  {
   "cell_type": "code",
   "execution_count": 19,
   "metadata": {
    "collapsed": false
   },
   "outputs": [
    {
     "data": {
      "text/html": [
       "<div>\n",
       "<table border=\"1\" class=\"dataframe\">\n",
       "  <thead>\n",
       "    <tr style=\"text-align: right;\">\n",
       "      <th></th>\n",
       "      <th>id</th>\n",
       "      <th>name</th>\n",
       "      <th>source</th>\n",
       "    </tr>\n",
       "  </thead>\n",
       "  <tbody>\n",
       "    <tr>\n",
       "      <th>11518</th>\n",
       "      <td>per_allsp.avt_q1_preT_tot</td>\n",
       "      <td>Average per capita transfer held by poorest quintile -All Social Protection and Labor (preT)</td>\n",
       "      <td>Global Social Protection</td>\n",
       "    </tr>\n",
       "    <tr>\n",
       "      <th>11519</th>\n",
       "      <td>per_allsp.avt_q1_rur</td>\n",
       "      <td>Average per capita transfer held by poorest quintile -All Social Protection and Labor -rural</td>\n",
       "      <td>Global Social Protection</td>\n",
       "    </tr>\n",
       "    <tr>\n",
       "      <th>11520</th>\n",
       "      <td>per_allsp.avt_q1_tot</td>\n",
       "      <td>Average per capita transfer held by poorest quintile -All Social Protection and Labor</td>\n",
       "      <td>Global Social Protection</td>\n",
       "    </tr>\n",
       "    <tr>\n",
       "      <th>11521</th>\n",
       "      <td>per_allsp.avt_q1_urb</td>\n",
       "      <td>Average per capita transfer held by poorest quintile -All Social Protection and Labor -urban</td>\n",
       "      <td>Global Social Protection</td>\n",
       "    </tr>\n",
       "    <tr>\n",
       "      <th>11810</th>\n",
       "      <td>per_lm_alllm.avt_q1_preT_tot</td>\n",
       "      <td>Average per capita transfer held by poorest quintile - All Labor Market (preT)</td>\n",
       "      <td>Global Social Protection</td>\n",
       "    </tr>\n",
       "    <tr>\n",
       "      <th>11811</th>\n",
       "      <td>per_lm_alllm.avt_q1_rur</td>\n",
       "      <td>Average per capita transfer held by poorest quintile - All Labor Market -rural</td>\n",
       "      <td>Global Social Protection</td>\n",
       "    </tr>\n",
       "    <tr>\n",
       "      <th>11812</th>\n",
       "      <td>per_lm_alllm.avt_q1_tot</td>\n",
       "      <td>Average per capita transfer held by poorest quintile - All Labor Market</td>\n",
       "      <td>Global Social Protection</td>\n",
       "    </tr>\n",
       "    <tr>\n",
       "      <th>11813</th>\n",
       "      <td>per_lm_alllm.avt_q1_urb</td>\n",
       "      <td>Average per capita transfer held by poorest quintile - All Labor Market -urban</td>\n",
       "      <td>Global Social Protection</td>\n",
       "    </tr>\n",
       "    <tr>\n",
       "      <th>12600</th>\n",
       "      <td>per_sa_allsa.avt_q1_preT_tot</td>\n",
       "      <td>Average per capita transfer held by poorest quintile - All Social Assistance (preT)</td>\n",
       "      <td>Global Social Protection</td>\n",
       "    </tr>\n",
       "    <tr>\n",
       "      <th>12601</th>\n",
       "      <td>per_sa_allsa.avt_q1_rur</td>\n",
       "      <td>Average per capita transfer held by poorest quintile - All Social Assistance -rural</td>\n",
       "      <td>Global Social Protection</td>\n",
       "    </tr>\n",
       "    <tr>\n",
       "      <th>12602</th>\n",
       "      <td>per_sa_allsa.avt_q1_tot</td>\n",
       "      <td>Average per capita transfer held by poorest quintile - All Social Assistance</td>\n",
       "      <td>Global Social Protection</td>\n",
       "    </tr>\n",
       "    <tr>\n",
       "      <th>12603</th>\n",
       "      <td>per_sa_allsa.avt_q1_urb</td>\n",
       "      <td>Average per capita transfer held by poorest quintile - All Social Assistance -urban</td>\n",
       "      <td>Global Social Protection</td>\n",
       "    </tr>\n",
       "    <tr>\n",
       "      <th>13934</th>\n",
       "      <td>per_si_allsi.avt_q1_preT_tot</td>\n",
       "      <td>Average per capita transfer held by poorest quintile - All Social Insurance (preT)</td>\n",
       "      <td>Global Social Protection</td>\n",
       "    </tr>\n",
       "    <tr>\n",
       "      <th>13935</th>\n",
       "      <td>per_si_allsi.avt_q1_rur</td>\n",
       "      <td>Average per capita transfer held by poorest quintile - All Social Insurance -rural</td>\n",
       "      <td>Global Social Protection</td>\n",
       "    </tr>\n",
       "    <tr>\n",
       "      <th>13936</th>\n",
       "      <td>per_si_allsi.avt_q1_tot</td>\n",
       "      <td>Average per capita transfer held by poorest quintile - All Social Insurance</td>\n",
       "      <td>Global Social Protection</td>\n",
       "    </tr>\n",
       "    <tr>\n",
       "      <th>13937</th>\n",
       "      <td>per_si_allsi.avt_q1_urb</td>\n",
       "      <td>Average per capita transfer held by poorest quintile - All Social Insurance -urban</td>\n",
       "      <td>Global Social Protection</td>\n",
       "    </tr>\n",
       "  </tbody>\n",
       "</table>\n",
       "</div>"
      ],
      "text/plain": [
       "                                 id                                                                                          name                    source\n",
       "11518     per_allsp.avt_q1_preT_tot  Average per capita transfer held by poorest quintile -All Social Protection and Labor (preT)  Global Social Protection\n",
       "11519          per_allsp.avt_q1_rur  Average per capita transfer held by poorest quintile -All Social Protection and Labor -rural  Global Social Protection\n",
       "11520          per_allsp.avt_q1_tot        Average per capita transfer held by poorest quintile -All Social Protection and Labor   Global Social Protection\n",
       "11521          per_allsp.avt_q1_urb  Average per capita transfer held by poorest quintile -All Social Protection and Labor -urban  Global Social Protection\n",
       "11810  per_lm_alllm.avt_q1_preT_tot                Average per capita transfer held by poorest quintile - All Labor Market (preT)  Global Social Protection\n",
       "11811       per_lm_alllm.avt_q1_rur                Average per capita transfer held by poorest quintile - All Labor Market -rural  Global Social Protection\n",
       "11812       per_lm_alllm.avt_q1_tot                      Average per capita transfer held by poorest quintile - All Labor Market   Global Social Protection\n",
       "11813       per_lm_alllm.avt_q1_urb                Average per capita transfer held by poorest quintile - All Labor Market -urban  Global Social Protection\n",
       "12600  per_sa_allsa.avt_q1_preT_tot           Average per capita transfer held by poorest quintile - All Social Assistance (preT)  Global Social Protection\n",
       "12601       per_sa_allsa.avt_q1_rur           Average per capita transfer held by poorest quintile - All Social Assistance -rural  Global Social Protection\n",
       "12602       per_sa_allsa.avt_q1_tot                 Average per capita transfer held by poorest quintile - All Social Assistance   Global Social Protection\n",
       "12603       per_sa_allsa.avt_q1_urb           Average per capita transfer held by poorest quintile - All Social Assistance -urban  Global Social Protection\n",
       "13934  per_si_allsi.avt_q1_preT_tot            Average per capita transfer held by poorest quintile - All Social Insurance (preT)  Global Social Protection\n",
       "13935       per_si_allsi.avt_q1_rur            Average per capita transfer held by poorest quintile - All Social Insurance -rural  Global Social Protection\n",
       "13936       per_si_allsi.avt_q1_tot                  Average per capita transfer held by poorest quintile - All Social Insurance   Global Social Protection\n",
       "13937       per_si_allsi.avt_q1_urb            Average per capita transfer held by poorest quintile - All Social Insurance -urban  Global Social Protection"
      ]
     },
     "execution_count": 19,
     "metadata": {},
     "output_type": "execute_result"
    }
   ],
   "source": [
    "search_wb(\"Average per capita transfer held by poorest quintile.*All\")"
   ]
  },
  {
   "cell_type": "code",
   "execution_count": 15,
   "metadata": {
    "collapsed": false
   },
   "outputs": [
    {
     "name": "stderr",
     "output_type": "stream",
     "text": [
      "C:\\Users\\Admin\\Anaconda3\\lib\\site-packages\\pandas_datareader\\wb.py:152: UserWarning: \n",
      "\n",
      "Invalid Indicators:\n",
      "\n",
      "per_rem.avt_q1_tot : No results from world bank.\n",
      "  warnings.warn(bad_ind_msgs)\n"
     ]
    },
    {
     "ename": "ValueError",
     "evalue": "No indicators returned data.",
     "output_type": "error",
     "traceback": [
      "\u001b[1;31m---------------------------------------------------------------------------\u001b[0m",
      "\u001b[1;31mValueError\u001b[0m                                Traceback (most recent call last)",
      "\u001b[1;32m<ipython-input-15-cb8ed5b06b6c>\u001b[0m in \u001b[0;36m<module>\u001b[1;34m()\u001b[0m\n\u001b[0;32m      2\u001b[0m \u001b[1;33m\u001b[0m\u001b[0m\n\u001b[0;32m      3\u001b[0m \u001b[1;31m#Averages\u001b[0m\u001b[1;33m\u001b[0m\u001b[1;33m\u001b[0m\u001b[0m\n\u001b[1;32m----> 4\u001b[1;33m \u001b[0mrem1\u001b[0m  \u001b[1;33m=\u001b[0m\u001b[0mget_wb_series\u001b[0m\u001b[1;33m(\u001b[0m\u001b[1;34m'per_rem.avt_q1_tot'\u001b[0m\u001b[1;33m,\u001b[0m\u001b[1;34m'rem1'\u001b[0m\u001b[1;33m)\u001b[0m \u001b[1;31m#Average per capita transfer held by poorest quintile - Private Transfers\u001b[0m\u001b[1;33m\u001b[0m\u001b[0m\n\u001b[0m\u001b[0;32m      5\u001b[0m \u001b[0mrem2\u001b[0m  \u001b[1;33m=\u001b[0m\u001b[0mget_wb_series\u001b[0m\u001b[1;33m(\u001b[0m\u001b[1;34m'per_rem.avt_q2_tot'\u001b[0m\u001b[1;33m,\u001b[0m\u001b[1;34m'rem2'\u001b[0m\u001b[1;33m)\u001b[0m \u001b[1;31m# - Private Transfers\u001b[0m\u001b[1;33m\u001b[0m\u001b[0m\n\u001b[0;32m      6\u001b[0m \u001b[0mrem3\u001b[0m  \u001b[1;33m=\u001b[0m\u001b[0mget_wb_series\u001b[0m\u001b[1;33m(\u001b[0m\u001b[1;34m'per_rem.avt_q3_tot'\u001b[0m\u001b[1;33m,\u001b[0m\u001b[1;34m'rem3'\u001b[0m\u001b[1;33m)\u001b[0m \u001b[1;31m# - Private Transfers\u001b[0m\u001b[1;33m\u001b[0m\u001b[0m\n",
      "\u001b[1;32mC:\\Users\\Admin\\Box Sync\\PYTHON - RESILIENCE\\resilience_indicator_pnas\\wb_api_wraper.py\u001b[0m in \u001b[0;36mget_wb_series\u001b[1;34m(wb_name, colname)\u001b[0m\n\u001b[0;32m     27\u001b[0m \u001b[1;32mdef\u001b[0m \u001b[0mget_wb_series\u001b[0m\u001b[1;33m(\u001b[0m\u001b[0mwb_name\u001b[0m\u001b[1;33m,\u001b[0m\u001b[0mcolname\u001b[0m\u001b[1;33m=\u001b[0m\u001b[1;34m'value'\u001b[0m\u001b[1;33m)\u001b[0m\u001b[1;33m:\u001b[0m\u001b[1;33m\u001b[0m\u001b[0m\n\u001b[0;32m     28\u001b[0m     \u001b[1;34m\"\"\"\"gets a pandas SERIES (instead of dataframe, for convinience) from wb data with all years and all countries, and a lotof nans\"\"\"\u001b[0m\u001b[1;33m\u001b[0m\u001b[0m\n\u001b[1;32m---> 29\u001b[1;33m     \u001b[1;32mreturn\u001b[0m \u001b[0mget_wb_df\u001b[0m\u001b[1;33m(\u001b[0m\u001b[0mwb_name\u001b[0m\u001b[1;33m,\u001b[0m\u001b[0mcolname\u001b[0m\u001b[1;33m)\u001b[0m\u001b[1;33m[\u001b[0m\u001b[0mcolname\u001b[0m\u001b[1;33m]\u001b[0m\u001b[1;33m\u001b[0m\u001b[0m\n\u001b[0m\u001b[0;32m     30\u001b[0m \u001b[1;33m\u001b[0m\u001b[0m\n\u001b[0;32m     31\u001b[0m \u001b[1;33m\u001b[0m\u001b[0m\n",
      "\u001b[1;32mC:\\Users\\Admin\\Box Sync\\PYTHON - RESILIENCE\\resilience_indicator_pnas\\wb_api_wraper.py\u001b[0m in \u001b[0;36mget_wb_df\u001b[1;34m(wb_name, colname)\u001b[0m\n\u001b[0;32m     20\u001b[0m     \u001b[1;34m\"\"\"gets a dataframe from wb data with all years and all countries, and a lot of nans\"\"\"\u001b[0m\u001b[1;33m\u001b[0m\u001b[0m\n\u001b[0;32m     21\u001b[0m     \u001b[1;31m#return all values\u001b[0m\u001b[1;33m\u001b[0m\u001b[1;33m\u001b[0m\u001b[0m\n\u001b[1;32m---> 22\u001b[1;33m     \u001b[0mwb_raw\u001b[0m  \u001b[1;33m=\u001b[0m\u001b[1;33m(\u001b[0m\u001b[0mwb\u001b[0m\u001b[1;33m.\u001b[0m\u001b[0mdownload\u001b[0m\u001b[1;33m(\u001b[0m\u001b[0mindicator\u001b[0m\u001b[1;33m=\u001b[0m\u001b[0mwb_name\u001b[0m\u001b[1;33m,\u001b[0m\u001b[0mstart\u001b[0m\u001b[1;33m=\u001b[0m\u001b[0mstart_year\u001b[0m\u001b[1;33m,\u001b[0m\u001b[0mend\u001b[0m\u001b[1;33m=\u001b[0m\u001b[0mtoday_year\u001b[0m\u001b[1;33m,\u001b[0m\u001b[0mcountry\u001b[0m\u001b[1;33m=\u001b[0m\u001b[1;34m\"all\"\u001b[0m\u001b[1;33m)\u001b[0m\u001b[1;33m)\u001b[0m\u001b[1;33m\u001b[0m\u001b[0m\n\u001b[0m\u001b[0;32m     23\u001b[0m     \u001b[1;31m#sensible name for the column\u001b[0m\u001b[1;33m\u001b[0m\u001b[1;33m\u001b[0m\u001b[0m\n\u001b[0;32m     24\u001b[0m     \u001b[1;31m# wb_raw.rename(columns={wb_raw.columns[0]: colname},inplace=True)\u001b[0m\u001b[1;33m\u001b[0m\u001b[1;33m\u001b[0m\u001b[0m\n",
      "\u001b[1;32mC:\\Users\\Admin\\Anaconda3\\lib\\site-packages\\pandas_datareader\\wb.py\u001b[0m in \u001b[0;36mdownload\u001b[1;34m(country, indicator, start, end, errors)\u001b[0m\n\u001b[0;32m    163\u001b[0m         \u001b[1;32mif\u001b[0m \u001b[0merrors\u001b[0m \u001b[1;33m==\u001b[0m \u001b[1;34m'ignore'\u001b[0m\u001b[1;33m:\u001b[0m\u001b[1;33m\u001b[0m\u001b[0m\n\u001b[0;32m    164\u001b[0m             \u001b[0mmsg\u001b[0m \u001b[1;33m+=\u001b[0m \u001b[1;34m\"  Set errors='warn' for more information.\"\u001b[0m\u001b[1;33m\u001b[0m\u001b[0m\n\u001b[1;32m--> 165\u001b[1;33m         \u001b[1;32mraise\u001b[0m \u001b[0mValueError\u001b[0m\u001b[1;33m(\u001b[0m\u001b[0mmsg\u001b[0m\u001b[1;33m)\u001b[0m\u001b[1;33m\u001b[0m\u001b[0m\n\u001b[0m\u001b[0;32m    166\u001b[0m \u001b[1;33m\u001b[0m\u001b[0m\n\u001b[0;32m    167\u001b[0m def _get_data(indicator=\"NY.GNS.ICTR.GN.ZS\", country='US',\n",
      "\u001b[1;31mValueError\u001b[0m: No indicators returned data."
     ]
    }
   ],
   "source": [
    "#Aspire\n",
    "\n",
    "#Averages\n",
    "rem1  =get_wb_series('per_rem.avt_q1_tot','rem1') #Average per capita transfer held by poorest quintile - Private Transfers   \n",
    "rem2  =get_wb_series('per_rem.avt_q2_tot','rem2') # - Private Transfers \n",
    "rem3  =get_wb_series('per_rem.avt_q3_tot','rem3') # - Private Transfers \n",
    "rem4  =get_wb_series('per_rem.avt_q4_tot','rem4') # - Private Transfers \n",
    "rem5  =get_wb_series('per_rem.avt_q5_tot','rem5') # - Private Transfers \n",
    "\n",
    "tra1_  =get_wb_series('per_allsp.avt_q1_tot','tra1') #Average per capita transfer held by poorest quintile -All  dolars PPP per day\n",
    "tra2_  =get_wb_series('per_allsp.avt_q2_tot','tra2') #Average per capita transfer held by -All \n",
    "tra3_  =get_wb_series('per_allsp.avt_q3_tot','tra3') #Average per capita transfer held by  -All \n",
    "tra4_  =get_wb_series('per_allsp.avt_q4_tot','tra4') #Average per capita transfer held by  -All \n",
    "tra5_  =get_wb_series('per_allsp.avt_q5_tot','tra5') #Average per capita transfer held by  -All \n",
    "\n",
    "\n",
    "#Adequacies\n",
    "ade1_remit  = get_wb_series('per_rem.adq_q1_tot', 'ade1_remit')/100 #Adequacy of benefits for Q1, Remittances\n",
    "ade2_remit  = get_wb_series('per_rem.adq_q2_tot', 'ade2_remit')/100 #Adequacy of benefits for Q2, Remittances\n",
    "ade3_remit  = get_wb_series('per_rem.adq_q3_tot', 'ade3_remit')/100 #Adequacy of benefits for Q3, Remittances\n",
    "ade4_remit  = get_wb_series('per_rem.adq_q4_tot', 'ade4_remit')/100 #Adequacy of benefits for Q4, Remittances\n",
    "ade5_remit  = get_wb_series('per_rem.adq_q5_tot', 'ade5_remit')/100 #Adequacy of benefits for Q5, Remittances\n",
    "\n",
    "ade1_allspl = get_wb_series('per_allsp.adq_q1_tot', 'ade1_allspl')/100 #Adequacy of benefits for Q1, All Social Protection and Labor\n",
    "ade2_allspl = get_wb_series('per_allsp.adq_q2_tot', 'ade2_allspl')/100 #Adequacy of benefits for Q2, All Social Protection and Labor\n",
    "ade3_allspl = get_wb_series('per_allsp.adq_q3_tot', 'ade3_allspl')/100 #Adequacy of benefits for Q3, All Social Protection and Labor\n",
    "ade4_allspl = get_wb_series('per_allsp.adq_q4_tot', 'ade4_allspl')/100 #Adequacy of benefits for Q4, All Social Protection and Labor\n",
    "ade5_allspl = get_wb_series('per_allsp.adq_q5_tot', 'ade5_allspl')/100 #Adequacy of benefits for Q5, All Social Protection and Labor\n",
    "\n",
    "#Coverage            \n",
    "cov1_remit  = get_wb_series('per_rem.cov_q1_tot','cov1_remit')/100 # Coverage for Q1, Remittances \n",
    "cov2_remit  = get_wb_series('per_rem.cov_q2_tot','cov2_remit')/100 # Coverage for Q2, Remittances \n",
    "cov3_remit  = get_wb_series('per_rem.cov_q3_tot','cov3_remit')/100 # Coverage for Q3, Remittances \n",
    "cov4_remit  = get_wb_series('per_rem.cov_q4_tot','cov4_remit')/100 # Coverage for Q4, Remittances \n",
    "cov5_remit  = get_wb_series('per_rem.cov_q5_tot','cov5_remit')/100 # Coverage for Q5, Remittances \n",
    "\n",
    "cov1_allspl = get_wb_series('per_allsp.cov_q1_tot','cov1')/100 #Coverage in poorest quintile (%) -All Social Protection and Labor \n",
    "cov2_allspl = get_wb_series('per_allsp.cov_q2_tot','cov2')/100 # Coverage in 2nd quintile (%) -All Social Protection and Labor \n",
    "cov3_allspl = get_wb_series('per_allsp.cov_q3_tot','cov3')/100 # Coverage in 3rd quintile (%) -All Social Protection and Labor \n",
    "cov4_allspl = get_wb_series('per_allsp.cov_q4_tot','cov4')/100 # Coverage in 4th quintile (%) -All Social Protection and Labor \n",
    "cov5_allspl = get_wb_series('per_allsp.cov_q5_tot','cov5')/100 # Coverage in 5th quintile (%) -All Social Protection and Labor\n"
   ]
  },
  {
   "cell_type": "code",
   "execution_count": null,
   "metadata": {
    "collapsed": false
   },
   "outputs": [],
   "source": [
    "t_1 = mrv(rem1 + tra1_)\n",
    "t_2 = mrv(rem2 + tra2_)\n",
    "t_3 = mrv(rem3 + tra3_)\n",
    "t_4 = mrv(rem4 + tra4_)\n",
    "t_5 = mrv(rem5 + tra5_)\n",
    "\n",
    "la_1 =mrv(( cov1_allspl * ade1_allspl + cov1_remit *ade1_remit))\n",
    "la_2 =mrv(( cov2_allspl * ade2_allspl + cov2_remit *ade2_remit))\n",
    "la_3 =mrv(( cov3_allspl * ade3_allspl + cov3_remit *ade3_remit))\n",
    "la_4 =mrv(( cov4_allspl * ade4_allspl + cov4_remit *ade4_remit))\n",
    "la_5 =mrv(( cov5_allspl * ade5_allspl + cov5_remit *ade5_remit))\n",
    "\n",
    "y_1= t_1/la_1\n",
    "y_2= t_2/la_2\n",
    "y_3= t_3/la_3\n",
    "y_4= t_4/la_4\n",
    "y_5= t_5/la_5\n"
   ]
  },
  {
   "cell_type": "code",
   "execution_count": 14,
   "metadata": {
    "collapsed": false
   },
   "outputs": [
    {
     "ename": "NameError",
     "evalue": "name 'ade1_remit' is not defined",
     "output_type": "error",
     "traceback": [
      "\u001b[1;31m---------------------------------------------------------------------------\u001b[0m",
      "\u001b[1;31mNameError\u001b[0m                                 Traceback (most recent call last)",
      "\u001b[1;32m<ipython-input-14-69caed3ac631>\u001b[0m in \u001b[0;36m<module>\u001b[1;34m()\u001b[0m\n\u001b[0;32m      1\u001b[0m \u001b[1;31m#These countries seem to get more than 100% income from transfers acording to ASPIRE\u001b[0m\u001b[1;33m\u001b[0m\u001b[1;33m\u001b[0m\u001b[0m\n\u001b[1;32m----> 2\u001b[1;33m \u001b[0mmrv\u001b[0m\u001b[1;33m(\u001b[0m\u001b[0made1_remit\u001b[0m\u001b[1;33m)\u001b[0m\u001b[1;33m.\u001b[0m\u001b[0mquery\u001b[0m\u001b[1;33m(\u001b[0m\u001b[1;34m\"ade1_remit>.95\"\u001b[0m\u001b[1;33m)\u001b[0m\u001b[1;33m\u001b[0m\u001b[0m\n\u001b[0m",
      "\u001b[1;31mNameError\u001b[0m: name 'ade1_remit' is not defined"
     ]
    }
   ],
   "source": [
    "#These countries seem to get more than 100% income from transfers acording to ASPIRE\n",
    "mrv(ade1_remit).query(\"ade1_remit>.95\")"
   ]
  },
  {
   "cell_type": "code",
   "execution_count": null,
   "metadata": {
    "collapsed": false
   },
   "outputs": [],
   "source": [
    "#Findex                                 \n",
    "loan40   =get_wb_mrv('WP11651_5.8'      ,\"loan40\")/100 #Loan in the past year                                  \n",
    "loan60   =get_wb_mrv('WP11651_5.9'      ,\"loan60\")/100 #Loaan in the past year                                  \n",
    "saved40  =get_wb_mrv('WP11648.8'        ,\"saved40\")/100 #Saved at a financial institution in the past year, bottom 40%      \n",
    "saved60  =get_wb_mrv('WP11648.9'        ,\"saved60\")/100 #Saved this year, income, top 60% (% age 15+)\n"
   ]
  },
  {
   "cell_type": "markdown",
   "metadata": {},
   "source": [
    "# New dataframe"
   ]
  },
  {
   "cell_type": "code",
   "execution_count": null,
   "metadata": {
    "collapsed": false
   },
   "outputs": [],
   "source": [
    "df = pd.concat([gdp_pc_pp,pop,share1,plgp,unemp],axis=1)\n",
    "df.index.names = ['country']"
   ]
  },
  {
   "cell_type": "code",
   "execution_count": null,
   "metadata": {
    "collapsed": false
   },
   "outputs": [],
   "source": [
    "#We take only savings as an insurance against destitution\n",
    "df[\"axfin_p\"] = saved40.saved40\n",
    "df[\"axfin_r\"] = saved60.saved60\n",
    "\n",
    "\n",
    "df[\"bashs\"] = bashs\n",
    "df[\"ophe\"] = ophe\n"
   ]
  },
  {
   "cell_type": "code",
   "execution_count": null,
   "metadata": {
    "collapsed": false
   },
   "outputs": [],
   "source": [
    "#Comptues share of income from transfers\n",
    "\n",
    "df[\"social_p\"]=la_1\n",
    "df[\"social_r\"]=(t_2+t_3+t_4+t_5)/(y_2+y_3+y_4+y_5)\n"
   ]
  },
  {
   "cell_type": "markdown",
   "metadata": {},
   "source": [
    "# Manual additions"
   ]
  },
  {
   "cell_type": "code",
   "execution_count": null,
   "metadata": {
    "collapsed": true
   },
   "outputs": [],
   "source": [
    "print(df.ix[[\"Ghana\",\"Poland\"],[\"social_p\",\"social_r\"]])\n",
    "\n",
    "\n",
    "#removes bad data points \n",
    "df.ix[[\"Ghana\",\"Poland\"],[\"social_p\",\"social_r\"]]=np.nan"
   ]
  },
  {
   "cell_type": "code",
   "execution_count": null,
   "metadata": {
    "collapsed": false
   },
   "outputs": [],
   "source": [
    "#GDP per capita from google (GDP per capita plays no role in the indicator. only usefull to plot the data)\n",
    "df.ix[\"Argentina\",\"gdp_pc_pp\"]=18600/10700 * 10405.\n",
    "df.ix[\"Syrian Arab Republic\",\"gdp_pc_pp\"]=5100/10700 * 10405.\n",
    "\n",
    "#assume these countries with recent conflicts have bad access to basic education\n",
    "#df.ix[\"Iraq\"][\"plgp\"] = df.plgp.min()\n",
    "\n",
    "#assumes these wealthy countries have good access to basic education and basic health care\n",
    "countries = ['Austria',  'Belgium',  'Denmark',  'France',  'Greece',  'Spain',  'Sweden',  'United Kingdom'] \n",
    "df.ix[countries,\"bashs\"]=df.bashs.max()\n",
    "df[\"axhealth\"]=(df.bashs+(1-df.ophe))/2\n",
    "\n",
    "\n",
    "countries = ['Australia', 'Canada', 'France', 'Ireland', 'United Kingdom', 'United States']\n",
    "df.ix[countries,\"plgp\"]=df.plgp.max()\n"
   ]
  },
  {
   "cell_type": "code",
   "execution_count": null,
   "metadata": {
    "collapsed": false
   },
   "outputs": [],
   "source": [
    "print(df.dropna().shape)\n",
    "df.dropna(how=\"all\",inplace=True)\n",
    "df.to_csv(\"wb_data.csv\")"
   ]
  },
  {
   "cell_type": "code",
   "execution_count": null,
   "metadata": {
    "collapsed": true
   },
   "outputs": [],
   "source": []
  }
 ],
 "metadata": {
  "kernelspec": {
   "display_name": "Python 3",
   "language": "python",
   "name": "python3"
  },
  "language_info": {
   "codemirror_mode": {
    "name": "ipython",
    "version": 3
   },
   "file_extension": ".py",
   "mimetype": "text/x-python",
   "name": "python",
   "nbconvert_exporter": "python",
   "pygments_lexer": "ipython3",
   "version": "3.4.4"
  }
 },
 "nbformat": 4,
 "nbformat_minor": 0
}
