{
 "cells": [
  {
   "cell_type": "markdown",
   "metadata": {},
   "source": [
    "# Downloads wb data"
   ]
  },
  {
   "cell_type": "markdown",
   "metadata": {},
   "source": [
    "#### The new approach is to <u> divide percents by 100</u> in this notebook, at download time"
   ]
  },
  {
   "cell_type": "code",
   "execution_count": 66,
   "metadata": {
    "collapsed": false
   },
   "outputs": [
    {
     "name": "stdout",
     "output_type": "stream",
     "text": [
      "The autoreload extension is already loaded. To reload it, use:\n",
      "  %reload_ext autoreload\n"
     ]
    }
   ],
   "source": [
    "%load_ext autoreload\n",
    "%autoreload\n",
    "%matplotlib inline"
   ]
  },
  {
   "cell_type": "code",
   "execution_count": 67,
   "metadata": {
    "collapsed": false
   },
   "outputs": [],
   "source": [
    "from pandas.io import wb\n",
    "import pandas as pd\n",
    "import numpy as np\n",
    "import matplotlib.pyplot as plt\n",
    "from res_ind_lib import *\n",
    "\n",
    "import os, time\n",
    "from wb_api_wraper import *"
   ]
  },
  {
   "cell_type": "code",
   "execution_count": 68,
   "metadata": {
    "collapsed": false
   },
   "outputs": [],
   "source": [
    "#World Development Indicators\n",
    "gdp_pc_pp=get_wb_mrv('NY.GDP.PCAP.pp.kd',\"gdp_pc_pp\")#Gdp per capita ppp\n",
    "pop      =get_wb_mrv('SP.POP.TOTL'      ,\"pop\")#population\n",
    "gdp_pc_cd=get_wb_mrv('ny.gdp.pcap.cd'   ,\"gdp_pc_cd\")#gdp per capita mer\n",
    "gap2     =get_wb_mrv('1.0.PGap.2.5usd'  ,\"gap2\")#poverty gap at 2$\n",
    "head2    =get_wb_mrv('SI.POV.2DAY'      ,\"head2\")# povety count at 2$\n",
    "\n",
    "share1   =get_wb_mrv('SI.DST.FRST.20'   ,\"share1\")/100#share of income bottom 20%\n",
    "share2   =get_wb_mrv('SI.DST.02nd.20'   ,\"share2\")/100#share of income second \n",
    "share3   =get_wb_mrv('SI.DST.03rd.20'   ,\"share3\")/100#share of income 3rd\n",
    "share4   =get_wb_mrv('SI.DST.04th.20'   ,\"share4\")/100#share of income 4th\n",
    "share5   =get_wb_mrv('SI.DST.05th.20'   ,\"share5\")/100#share of income 5th\n",
    "\n",
    "#pahc = get_wb_mrv('SH.ACS.PROB.Q2.ZS','pahc')/100   #“problems in accessing health care (all concerns) (% of women)”\n",
    "bashs = get_wb_mrv('SH.STA.BRTC.ZS','bashs') /100# Births attended by skilled health staff (% of total)\n",
    "ophe = get_wb_mrv('SH.XPD.OOPC.TO.ZS','ophe')/100   # Out-of-pocket health expenditure (% of total expenditure on health)\n",
    "\n",
    "plgp = get_wb_mrv('SE.PRM.PRSL.ZS','plgp')/100   #'Persistence to last grade of primary, total (% of cohort)'\n",
    "\n",
    "\n",
    "#pseudo_employ = 1-get_wb_mrv(\"SL.UEM.TOTL.ZS\",\"pseudo_employ\")/100 # 'Unemployment, total (% of total labor force) (modeled ILO estimate)'\n",
    "unemp = get_wb_mrv(\"SL.UEM.TOTL.ZS\",\"unemp\")/100 # 'Unemployment, total (% of total labor force) (modeled ILO estimate)'"
   ]
  },
  {
   "cell_type": "code",
   "execution_count": 69,
   "metadata": {
    "collapsed": false
   },
   "outputs": [],
   "source": [
    "#Aspire\n",
    "\n",
    "#Averages\n",
    "rem1  =get_wb_series('per_rem.avt_q1_tot','rem1') #Average per capita transfer held by poorest quintile - Private Transfers   \n",
    "rem2  =get_wb_series('per_rem.avt_q2_tot','rem2') # - Private Transfers \n",
    "rem3  =get_wb_series('per_rem.avt_q3_tot','rem3') # - Private Transfers \n",
    "rem4  =get_wb_series('per_rem.avt_q4_tot','rem4') # - Private Transfers \n",
    "rem5  =get_wb_series('per_rem.avt_q5_tot','rem5') # - Private Transfers \n",
    "\n",
    "tra1_  =get_wb_series('per_allsp.avt_q1_tot','tra1') #Average per capita transfer held by poorest quintile -All  dolars PPP per day\n",
    "tra2_  =get_wb_series('per_allsp.avt_q2_tot','tra2') #Average per capita transfer held by -All \n",
    "tra3_  =get_wb_series('per_allsp.avt_q3_tot','tra3') #Average per capita transfer held by  -All \n",
    "tra4_  =get_wb_series('per_allsp.avt_q4_tot','tra4') #Average per capita transfer held by  -All \n",
    "tra5_  =get_wb_series('per_allsp.avt_q5_tot','tra5') #Average per capita transfer held by  -All \n",
    "\n",
    "\n",
    "#Adequacies\n",
    "ade1_remit  = get_wb_series('per_rem.adq_q1_tot', 'ade1_remit')/100 #Adequacy of benefits for Q1, Remittances\n",
    "ade2_remit  = get_wb_series('per_rem.adq_q2_tot', 'ade2_remit')/100 #Adequacy of benefits for Q2, Remittances\n",
    "ade3_remit  = get_wb_series('per_rem.adq_q3_tot', 'ade3_remit')/100 #Adequacy of benefits for Q3, Remittances\n",
    "ade4_remit  = get_wb_series('per_rem.adq_q4_tot', 'ade4_remit')/100 #Adequacy of benefits for Q4, Remittances\n",
    "ade5_remit  = get_wb_series('per_rem.adq_q5_tot', 'ade5_remit')/100 #Adequacy of benefits for Q5, Remittances\n",
    "\n",
    "ade1_allspl = get_wb_series('per_allsp.adq_q1_tot', 'ade1_allspl')/100 #Adequacy of benefits for Q1, All Social Protection and Labor\n",
    "ade2_allspl = get_wb_series('per_allsp.adq_q2_tot', 'ade2_allspl')/100 #Adequacy of benefits for Q2, All Social Protection and Labor\n",
    "ade3_allspl = get_wb_series('per_allsp.adq_q3_tot', 'ade3_allspl')/100 #Adequacy of benefits for Q3, All Social Protection and Labor\n",
    "ade4_allspl = get_wb_series('per_allsp.adq_q4_tot', 'ade4_allspl')/100 #Adequacy of benefits for Q4, All Social Protection and Labor\n",
    "ade5_allspl = get_wb_series('per_allsp.adq_q5_tot', 'ade5_allspl')/100 #Adequacy of benefits for Q5, All Social Protection and Labor\n",
    "\n",
    "#Coverage            \n",
    "cov1_remit  = get_wb_series('per_rem.cov_q1_tot','cov1_remit')/100 # Coverage for Q1, Remittances \n",
    "cov2_remit  = get_wb_series('per_rem.cov_q2_tot','cov2_remit')/100 # Coverage for Q2, Remittances \n",
    "cov3_remit  = get_wb_series('per_rem.cov_q3_tot','cov3_remit')/100 # Coverage for Q3, Remittances \n",
    "cov4_remit  = get_wb_series('per_rem.cov_q4_tot','cov4_remit')/100 # Coverage for Q4, Remittances \n",
    "cov5_remit  = get_wb_series('per_rem.cov_q5_tot','cov5_remit')/100 # Coverage for Q5, Remittances \n",
    "\n",
    "cov1_allspl = get_wb_series('per_allsp.cov_q1_tot','cov1')/100 #Coverage in poorest quintile (%) -All Social Protection and Labor \n",
    "cov2_allspl = get_wb_series('per_allsp.cov_q2_tot','cov2')/100 # Coverage in 2nd quintile (%) -All Social Protection and Labor \n",
    "cov3_allspl = get_wb_series('per_allsp.cov_q3_tot','cov3')/100 # Coverage in 3rd quintile (%) -All Social Protection and Labor \n",
    "cov4_allspl = get_wb_series('per_allsp.cov_q4_tot','cov4')/100 # Coverage in 4th quintile (%) -All Social Protection and Labor \n",
    "cov5_allspl = get_wb_series('per_allsp.cov_q5_tot','cov5')/100 # Coverage in 5th quintile (%) -All Social Protection and Labor\n"
   ]
  },
  {
   "cell_type": "code",
   "execution_count": 70,
   "metadata": {
    "collapsed": false
   },
   "outputs": [],
   "source": [
    "t_1 = mrv(rem1 + tra1_)\n",
    "t_2 = mrv(rem2 + tra2_)\n",
    "t_3 = mrv(rem3 + tra3_)\n",
    "t_4 = mrv(rem4 + tra4_)\n",
    "t_5 = mrv(rem5 + tra5_)\n",
    "\n",
    "la_1 =mrv(( cov1_allspl * ade1_allspl + cov1_remit *ade1_remit))\n",
    "la_2 =mrv(( cov2_allspl * ade2_allspl + cov2_remit *ade2_remit))\n",
    "la_3 =mrv(( cov3_allspl * ade3_allspl + cov3_remit *ade3_remit))\n",
    "la_4 =mrv(( cov4_allspl * ade4_allspl + cov4_remit *ade4_remit))\n",
    "la_5 =mrv(( cov5_allspl * ade5_allspl + cov5_remit *ade5_remit))"
   ]
  },
  {
   "cell_type": "code",
   "execution_count": 71,
   "metadata": {
    "collapsed": false
   },
   "outputs": [
    {
     "data": {
      "text/html": [
       "<div style=\"max-height:1000px;max-width:1500px;overflow:auto;\">\n",
       "<table border=\"1\" class=\"dataframe\">\n",
       "  <thead>\n",
       "    <tr style=\"text-align: right;\">\n",
       "      <th></th>\n",
       "      <th>ade1_remit</th>\n",
       "    </tr>\n",
       "    <tr>\n",
       "      <th>country</th>\n",
       "      <th></th>\n",
       "    </tr>\n",
       "  </thead>\n",
       "  <tbody>\n",
       "    <tr>\n",
       "      <th>Cameroon</th>\n",
       "      <td>2.671097</td>\n",
       "    </tr>\n",
       "    <tr>\n",
       "      <th>Georgia</th>\n",
       "      <td>3.826571</td>\n",
       "    </tr>\n",
       "    <tr>\n",
       "      <th>Kyrgyz Republic</th>\n",
       "      <td>1.602502</td>\n",
       "    </tr>\n",
       "    <tr>\n",
       "      <th>Lesotho</th>\n",
       "      <td>3.399597</td>\n",
       "    </tr>\n",
       "  </tbody>\n",
       "</table>\n",
       "</div>"
      ],
      "text/plain": [
       "                 ade1_remit\n",
       "country                    \n",
       "Cameroon           2.671097\n",
       "Georgia            3.826571\n",
       "Kyrgyz Republic    1.602502\n",
       "Lesotho            3.399597"
      ]
     },
     "execution_count": 71,
     "metadata": {},
     "output_type": "execute_result"
    }
   ],
   "source": [
    "#These countries seem to get more than 100% income from transfers acording to ASPIRE\n",
    "mrv(ade1_remit).query(\"ade1_remit>.95\")"
   ]
  },
  {
   "cell_type": "code",
   "execution_count": 72,
   "metadata": {
    "collapsed": false
   },
   "outputs": [],
   "source": [
    "#Findex                                 \n",
    "loan40   =get_wb_mrv('WP11651_5.8'      ,\"loan40\")/100 #Loan in the past year                                  \n",
    "loan60   =get_wb_mrv('WP11651_5.9'      ,\"loan60\")/100 #Loaan in the past year                                  \n",
    "saved40  =get_wb_mrv('WP11648.8'        ,\"saved40\")/100 #Saved at a financial institution in the past year, bottom 40%      \n",
    "saved60  =get_wb_mrv('WP11648.9'        ,\"saved60\")/100 #Saved this year, income, top 60% (% age 15+)\n"
   ]
  },
  {
   "cell_type": "markdown",
   "metadata": {},
   "source": [
    "# New dataframe"
   ]
  },
  {
   "cell_type": "code",
   "execution_count": 73,
   "metadata": {
    "collapsed": false
   },
   "outputs": [],
   "source": [
    "df = pd.concat([gdp_pc_pp,pop,share1,plgp,unemp],axis=1)\n",
    "df.index.names = ['country']"
   ]
  },
  {
   "cell_type": "code",
   "execution_count": 74,
   "metadata": {
    "collapsed": false
   },
   "outputs": [],
   "source": [
    "#We take only savings as an insurance against destitution\n",
    "df[\"axfin_p\"] = saved40.saved40\n",
    "df[\"axfin_r\"] = saved60.saved60\n",
    "\n",
    "\n",
    "df[\"bashs\"] = bashs\n",
    "df[\"ophe\"] = ophe\n"
   ]
  },
  {
   "cell_type": "code",
   "execution_count": 75,
   "metadata": {
    "collapsed": false
   },
   "outputs": [],
   "source": [
    "#Comptues share of income from transfers\n",
    "y_1= t_1/la_1\n",
    "y_2= t_2/la_2\n",
    "y_3= t_3/la_3\n",
    "y_4= t_4/la_4\n",
    "y_5= t_5/la_5\n",
    "\n",
    "df[\"social_p\"]=la_1\n",
    "df[\"social_r\"]=(t_2+t_3+t_4+t_5)/(y_2+y_3+y_4+y_5)\n"
   ]
  },
  {
   "cell_type": "markdown",
   "metadata": {},
   "source": [
    "# Manual additions"
   ]
  },
  {
   "cell_type": "code",
   "execution_count": 80,
   "metadata": {
    "collapsed": true
   },
   "outputs": [],
   "source": [
    "#removes bad data points \n",
    "df.ix[[\"Ghana\",\"Poland\"],[\"social_p\",\"social_r\"]]=np.nan"
   ]
  },
  {
   "cell_type": "code",
   "execution_count": 81,
   "metadata": {
    "collapsed": false
   },
   "outputs": [],
   "source": [
    "#GDP per capita from google (GDP per capita plays no role in the indicator. only usefull to plot the data)\n",
    "df.ix[\"Argentina\",\"gdp_pc_pp\"]=18600/10700 * 10405.\n",
    "df.ix[\"Syrian Arab Republic\",\"gdp_pc_pp\"]=5100/10700 * 10405.\n",
    "\n",
    "#assume these countries with recent conflicts have bad access to basic education\n",
    "#df.ix[\"Iraq\"][\"plgp\"] = df.plgp.min()\n",
    "\n",
    "#assumes these wealthy countries have good access to basic education and basic health care\n",
    "countries = ['Austria',  'Belgium',  'Denmark',  'France',  'Greece',  'Spain',  'Sweden',  'United Kingdom'] \n",
    "df.ix[countries,\"bashs\"]=df.bashs.max()\n",
    "df[\"axhealth\"]=(df.bashs+(1-df.ophe))/2\n",
    "\n",
    "\n",
    "countries = ['Australia', 'Canada', 'France', 'Ireland', 'United Kingdom', 'United States']\n",
    "df.ix[countries,\"plgp\"]=df.plgp.max()\n"
   ]
  },
  {
   "cell_type": "code",
   "execution_count": 82,
   "metadata": {
    "collapsed": false
   },
   "outputs": [
    {
     "name": "stdout",
     "output_type": "stream",
     "text": [
      "(73, 12)\n"
     ]
    }
   ],
   "source": [
    "print(df.dropna().shape)\n",
    "df.dropna(how=\"all\",inplace=True)\n",
    "df.to_csv(\"wb_data.csv\")"
   ]
  },
  {
   "cell_type": "code",
   "execution_count": null,
   "metadata": {
    "collapsed": true
   },
   "outputs": [],
   "source": []
  }
 ],
 "metadata": {
  "kernelspec": {
   "display_name": "Python 3",
   "language": "python",
   "name": "python3"
  },
  "language_info": {
   "codemirror_mode": {
    "name": "ipython",
    "version": 3
   },
   "file_extension": ".py",
   "mimetype": "text/x-python",
   "name": "python",
   "nbconvert_exporter": "python",
   "pygments_lexer": "ipython3",
   "version": "3.4.1"
  }
 },
 "nbformat": 4,
 "nbformat_minor": 0
}
