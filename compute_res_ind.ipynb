{
 "cells": [
  {
   "cell_type": "code",
   "execution_count": 57,
   "metadata": {
    "collapsed": false
   },
   "outputs": [
    {
     "name": "stdout",
     "output_type": "stream",
     "text": [
      "The autoreload extension is already loaded. To reload it, use:\n",
      "  %reload_ext autoreload\n"
     ]
    }
   ],
   "source": [
    "%reset-f\n",
    "%load_ext autoreload\n",
    "%autoreload 2\n",
    "%matplotlib inline"
   ]
  },
  {
   "cell_type": "code",
   "execution_count": 58,
   "metadata": {
    "collapsed": false
   },
   "outputs": [],
   "source": [
    "from pandas.io import wb\n",
    "import pandas as pd\n",
    "import numpy as np\n",
    "import statsmodels.formula.api as sm\n",
    "import matplotlib.pyplot as plt\n",
    "%autoreload\n",
    "from res_ind_lib import *\n",
    "import os, time\n",
    "import warnings\n",
    "warnings.filterwarnings(\"always\",category=UserWarning)\n",
    "\n",
    "from sorted_nicely import *"
   ]
  },
  {
   "cell_type": "code",
   "execution_count": 59,
   "metadata": {
    "collapsed": true
   },
   "outputs": [],
   "source": [
    "\n",
    "pd.set_option('display.max_colwidth', 200)\n",
    "pd.set_option('display.width', 200)\n",
    "pd.set_option('display.precision', 10)\n",
    "pd.set_option('display.max_rows', 500)\n"
   ]
  },
  {
   "cell_type": "markdown",
   "metadata": {},
   "source": [
    "# Data"
   ]
  },
  {
   "cell_type": "markdown",
   "metadata": {},
   "source": [
    "###  from the world bank"
   ]
  },
  {
   "cell_type": "code",
   "execution_count": 60,
   "metadata": {
    "collapsed": false
   },
   "outputs": [
    {
     "data": {
      "text/plain": [
       "(73, 12)"
      ]
     },
     "execution_count": 60,
     "metadata": {},
     "output_type": "execute_result"
    }
   ],
   "source": [
    "nb_weeks = (time.time()-os.stat(\"wb_data.csv\").st_mtime )/(3600*24*7)\n",
    "if nb_weeks>20: \n",
    "    warnings.warn(\"World bank data are \"+str(int(nb_weeks))+\" weeks old. You may want to download them again.\")\n",
    "df=pd.read_csv(\"wb_data.csv\").set_index(\"country\")\n",
    "df.dropna().shape"
   ]
  },
  {
   "cell_type": "code",
   "execution_count": 61,
   "metadata": {
    "collapsed": false
   },
   "outputs": [],
   "source": [
    "#Income gorups for countries and HIPC status\n",
    "groups = pd.read_csv(\"income_groups.csv\",header =4,index_col=2).replace({\"ROM\":\"ROU\",\"ZAR\":\"COD\"})  #they used old iso3 country for Zair (Congo) and Romania\n",
    "groups= groups[[\"Code\",\"Region\",\"Income group\",\"Lending category\",\"Other\"]]\n",
    "groups.dropna(axis=0,how=\"all\",inplace=True);\n",
    "groups.rename(columns={\"Other\":\"HIPC\"},inplace=True)\n",
    "groups['HIPC'].fillna('norm',inplace=True)\n",
    "groups[\"Lending category\"].replace(\"..\",\"\",inplace=True)\n",
    "\n",
    "df[\"iso3\"]=groups[\"Code\"]\n"
   ]
  },
  {
   "cell_type": "code",
   "execution_count": 62,
   "metadata": {
    "collapsed": false
   },
   "outputs": [],
   "source": [
    "def names_to_wb_name(df_in,any_name_to_iso3,iso3_to_unique_name,common_name=\"iso3\",end_name=\"country\"):\n",
    "    \"\"\"Matches arbitrary country names from a dataset to world bank country names thru iso3 codes\"\"\"\n",
    "    \n",
    "    df=pd.DataFrame(df_in)\n",
    "    \n",
    "    index_name=df.index.name\n",
    "    \n",
    "    df[common_name]=any_name_to_iso3[common_name]\n",
    "    \n",
    "    #warns and prints if some countries are not recognized\n",
    "    cond = df[common_name].isnull()\n",
    "    if cond.sum()>0:\n",
    "        warnings.warn(\"Unrecognized countries in 1st argument 'df':\"+\", \".join((df.index[cond].values)))\n",
    "        warnings.warn(\"Correct 'df' or add lines to 2nd argument 'any_name_to_iso3'\")\n",
    "    \n",
    "    df=df.dropna()\n",
    "    \n",
    "    #warning if missing\n",
    "    df =df.reset_index().set_index(common_name)\n",
    "    df[end_name]=iso3_to_unique_name\n",
    "    cond = df[end_name].isnull()\n",
    "    if cond.sum()>0:\n",
    "        warnings.warn(\"this countries appear to be missing from 3rd argument 'iso3_to_unique_name':\"+\", \".join((df.index[cond])))\n",
    "\n",
    "           \n",
    "    #return df with original indexing\n",
    "    return df.dropna().set_index(index_name)"
   ]
  },
  {
   "cell_type": "markdown",
   "metadata": {},
   "source": [
    "### Definitions"
   ]
  },
  {
   "cell_type": "code",
   "execution_count": 63,
   "metadata": {
    "collapsed": false
   },
   "outputs": [],
   "source": [
    "# share of poor individuals, we chose the bottom 20\n",
    "ph=df[\"pov_head\"]=0.2 "
   ]
  },
  {
   "cell_type": "markdown",
   "metadata": {},
   "source": [
    "### HFA"
   ]
  },
  {
   "cell_type": "markdown",
   "metadata": {},
   "source": [
    "gets hfa data"
   ]
  },
  {
   "cell_type": "code",
   "execution_count": 64,
   "metadata": {
    "collapsed": false
   },
   "outputs": [],
   "source": [
    "# READ THE LAST HFA DATA\n",
    "hfa_newest =   pd.read_csv(\"HFA_all_2011_2013.csv\").rename(columns={\"ISO 3\":\"iso3\",\"Country name\":\"country\"}).set_index(\"country\")\n",
    "\n",
    "# READ THE PREVIOUS HFA DATA\n",
    "hfa_previous = pd.read_csv(\"HFA_all_2009_2011.csv\").rename(columns={\"ISO 3\":\"iso3\",\"Country name\":\"country\"}).set_index(\"country\")\n",
    "\n",
    "#most recent values... if no 2011-2013 reporting, we use 2009-2011\n",
    "hfa=hfa_newest.fillna(hfa_previous)\n",
    "\n",
    "# access to early warning = priority for action 2, indicator 3 of the HFA\n",
    "hfa[\"shew\"]=1/5*hfa[\"P2-C3\"] # between zero and 1. \n",
    "\n",
    "# ability to scale up = average of priority for action 5 of the HFA\n",
    "#hfa[\"prepare_scaleup_old\"]=(hfa[\"P5-C1\"]+hfa[\"P5-C2\"]+hfa[\"P5-C4\"])/3/5 # between zero and 1\n",
    "hfa[\"prepare_scaleup\"]=(hfa[\"P4-C2\"]+hfa[\"P5-C2\"]+hfa[\"P4-C5\"])/3/5 # between zero and 1\n",
    "hfa[\"finance_pre\"] = hfa[\"P5-C3\"]/5 #betwenn 0 and 1\n"
   ]
  },
  {
   "cell_type": "markdown",
   "metadata": {},
   "source": [
    "matches names with wb names"
   ]
  },
  {
   "cell_type": "code",
   "execution_count": 65,
   "metadata": {
    "collapsed": false
   },
   "outputs": [],
   "source": [
    "#this table matches country names rendered in several ways to their actual iso2 and iso3 codes\n",
    "any_name_to_iso3 =pd.read_csv(\"names_to_iso.csv\").set_index(\"country\")\n",
    "#this tables has WB country names and iso3 countries\n",
    "iso3_to_unique_name = pd.read_csv(\"iso3_to_wb_name.csv\").set_index(\"iso3\")\n",
    "\n",
    "#matches names in HFA to  names\n",
    "df[[\"shew\",\"prepare_scaleup\",\"finance_pre\"]]= names_to_wb_name(hfa[[\"shew\",\"prepare_scaleup\",\"finance_pre\"]],any_name_to_iso3,iso3_to_unique_name) \n",
    "\n",
    "# Assumes that no HFA reporting means no preparation\n",
    "df[[\"shew\",\"prepare_scaleup\",\"finance_pre\"]] = df[[\"shew\",\"prepare_scaleup\",\"finance_pre\"]].fillna(0)"
   ]
  },
  {
   "cell_type": "markdown",
   "metadata": {},
   "source": [
    "### EUsilc and other countries"
   ]
  },
  {
   "cell_type": "code",
   "execution_count": 66,
   "metadata": {
    "collapsed": false
   },
   "outputs": [],
   "source": [
    "silc = pd.read_csv(\"social_ratios.csv\")\n",
    "#EU cuntry code to iso2 \n",
    "silc[\"iso2\"]=silc[\"cc\"].replace({\"EL\":\"GR\",\"UK\":\"GB\"}) #Greece and UK\n",
    "silc.set_index(\"iso2\",inplace=True)\n",
    "\n",
    "#iso3 to wb country name table\n",
    "iso3_to_wb=pd.read_csv(\"iso3_to_wb_name.csv\").set_index(\"iso3\")\n",
    "\n",
    "#iso2 to iso3 table\n",
    "iso2_iso3 = pd.read_csv(\"names_to_iso.csv\")[[\"iso2\",\"iso3\"]].drop_duplicates().set_index(\"iso3\") #the tables has more lines than countries to account for several ways of writing country names\n",
    "\n",
    "#iso2 to WB \n",
    "iso2_iso3[\"country\"]=iso3_to_wb[\"country\"]\n",
    "iso2_country=iso2_iso3.reset_index().set_index(\"iso2\")\n",
    "\n",
    "#indexes this data by WB country\n",
    "silc[\"country\"]=iso2_country[\"country\"]\n",
    "silc.set_index(\"country\",inplace=True)\n",
    "#silc.drop_duplicates(inplace=True)\n",
    "\n",
    "#Monitoring differences between SILC and ASPIRE\n",
    "#hop=df.ix[silc.index,[\"social_p\",\"social_r\"]].dropna().rename(columns=dict(social_p = \"s_p_aspire\", social_r=\"s_r_aspire\"))\n",
    "#hop[[\"sp_silc\",\"sr_silc\"]]= silc.ix[hop.index,[\"social_p\",\"social_r\"]]\n",
    "#plt.scatter(x=hop.sp_silc,y=hop.s_p_aspire), plt.scatter(x=hop.sr_silc,y=hop.s_r_aspire,c=\"red\")\n",
    "\n",
    "df.ix[silc.index,[\"social_p\",\"social_r\"]]=silc[[\"social_p\",\"social_r\"]]"
   ]
  },
  {
   "cell_type": "markdown",
   "metadata": {},
   "source": [
    "### Country Ratings"
   ]
  },
  {
   "cell_type": "code",
   "execution_count": 67,
   "metadata": {
    "collapsed": false
   },
   "outputs": [
    {
     "name": "stderr",
     "output_type": "stream",
     "text": [
      "C:\\Users\\Admin\\Anaconda3\\lib\\site-packages\\IPython\\kernel\\__main__.py:5: UserWarning: Credit ratings are 14 weeks old. Get new ones at http://www.tradingeconomics.com/country-list/rating\n"
     ]
    }
   ],
   "source": [
    "#Reads the data and check its not too old\n",
    "the_credit_rating_file =\"cred_rat.csv\"\n",
    "nb_weeks = (time.time()-os.stat(the_credit_rating_file).st_mtime )/(3600*24*7)\n",
    "if nb_weeks>3: \n",
    "    warnings.warn(\"Credit ratings are \"+str(int(nb_weeks))+\" weeks old. Get new ones at http://www.tradingeconomics.com/country-list/rating\")\n",
    "ratings_raw  =pd.read_csv(the_credit_rating_file,dtype=\"str\").dropna(how=\"all\")\n",
    "ratings_raw=ratings_raw.rename(columns={\"Unnamed: 0\": \"country_in_ratings\"}).set_index(\"country_in_ratings\")[[\"S&P\",\"Moody's\",\"Fitch\"]]\n",
    "ratings_raw.rename(index=str.strip,inplace=True)\n",
    "\n",
    "#this table matches country names rendered in several ways to their actual iso2 and iso3 codes\n",
    "names_to_iso =pd.read_csv(\"names_to_iso.csv\").set_index(\"country\")\n",
    "\n",
    "#this tables has WB country names and iso3 countries\n",
    "iso_country = pd.read_csv(\"iso3_to_wb_name.csv\").set_index(\"iso3\")\n",
    "\n",
    "ratings_raw =  names_to_wb_name(ratings_raw,names_to_iso,iso_country)\n",
    "#ratings_raw=ratings_raw.reset_index().set_index(\"country\")\n",
    "\n",
    "def mystriper(string):\n",
    "    \"\"\"strip blanks and converts everythng to lower case\"\"\"\n",
    "    if type(string)==str:\n",
    "        return str.strip(string).lower()\n",
    "    else:\n",
    "        return string\n",
    "        \n",
    "#to lower case and strips blanks\n",
    "ratings_raw=ratings_raw.applymap(mystriper)    \n",
    "\n",
    "#Transforms ratings letters into 1-100 numbers\n",
    "rat_disc = pd.read_csv(\"cred_rat_dict.csv\")\n",
    "ratings=ratings_raw\n",
    "ratings[\"S&P\"].replace(rat_disc[\"s&p\"].values,rat_disc[\"s&p_score\"].values,inplace=True)\n",
    "ratings[\"Moody's\"].replace(rat_disc[\"moodys\"].values,rat_disc[\"moodys_score\"].values,inplace=True)\n",
    "ratings[\"Fitch\"].replace(rat_disc[\"fitch\"].values,rat_disc[\"fitch_score\"].values,inplace=True)\n",
    "df[\"rating\"]=ratings.mean(axis=1)/100\n",
    "\n",
    "df[\"rating\"].fillna(0,inplace=True)  #assumes no rating is bad rating\n"
   ]
  },
  {
   "cell_type": "markdown",
   "metadata": {},
   "source": [
    "### Capital data"
   ]
  },
  {
   "cell_type": "code",
   "execution_count": 68,
   "metadata": {
    "collapsed": false
   },
   "outputs": [],
   "source": [
    "#data arranged from Penn tables\n",
    "k_data=pd.read_csv(\"capital_data.csv\")[[\"code\",\"cgdpo\",\"ck\"]].replace({\"ROM\":\"ROU\",\"ZAR\":\"COD\"}).rename(columns={\"cgdpo\":\"prod_from_k\",\"ck\":\"k\"})#Zair is congo\n",
    "\n",
    "#matches names in the dataset with world bank country names\n",
    "iso_country = pd.read_csv(\"iso3_to_wb_name.csv\").set_index(\"iso3\")\n",
    "k_data.set_index(\"code\",inplace=True)\n",
    "k_data[\"country\"]=iso_country[\"country\"]\n",
    "cond = k_data[\"country\"].isnull()\n",
    "if cond.sum()>0:\n",
    "     warnings.warn(\"this countries appear to be missing from iso3_to_wb_name.csv: \"+\" , \".join(k_data.index[cond].values))\n",
    "k_data=k_data.reset_index().set_index(\"country\")\n",
    "\n",
    "# average productivity of capital\n",
    "df[\"avg_prod_k\"]=k_data[\"prod_from_k\"]/k_data[\"k\"]\n"
   ]
  },
  {
   "cell_type": "markdown",
   "metadata": {},
   "source": [
    "###Hazard (protection)"
   ]
  },
  {
   "cell_type": "code",
   "execution_count": 69,
   "metadata": {
    "collapsed": false
   },
   "outputs": [],
   "source": [
    "#assumed a function of the income group\n",
    "protection_assumptions = pd.read_csv(\"protection_level_assumptions.csv\").set_index(\"Income group\")\n",
    "df[\"protection\"]=groups[\"Income group\"].replace(protection_assumptions[\"protection\"])"
   ]
  },
  {
   "cell_type": "markdown",
   "metadata": {},
   "source": [
    "### Exposure (population in flood-prone areas)"
   ]
  },
  {
   "cell_type": "code",
   "execution_count": 70,
   "metadata": {
    "collapsed": false
   },
   "outputs": [],
   "source": [
    "#Esposure data \n",
    "expo = pd.read_csv(\"exposure_econ_return_period.csv\",index_col=\"country\");\n",
    "\n",
    "\"\"\"pd.read_csv(\"exposure_econ_return_period_FALSE.csv)\",\n",
    "                usecols=[\"ISO\",\"people_affected_RP10flood_percent\"],\n",
    "                index_col=\"ISO\")\n",
    "\n",
    "\n",
    "expo[\"country\"]=iso3_to_wb_name[\"country\"]\n",
    "\"\"\"\n",
    "\n",
    "df[\"faref\"]=df[\"fa\"]=expo[\"100\"]\n",
    "\n",
    "#Exposure bias\n",
    "pe=df[\"peref\"] =df[\"pe\"]=.2\n",
    "\n",
    "fa_ratios = expo.div(df[\"fa\"],axis=0).dropna()\n",
    "\n",
    "fa_ratios[\"2\"]=fa_ratios[\"5\"] #assumes flat exposure before 5 yr rp\n",
    "\n",
    "#print(fa_ratios.columns)\n",
    "#fa_ratios[(fa_ratios==0)]=1e-6 #tiny exposure where no exposure\n",
    "\n",
    "fa_ratios.columns=map(lambda x:\"fa_ratio_\"+x,fa_ratios.columns)\n",
    "fa_ratios = fa_ratios.reindex_axis(sorted_nicely(fa_ratios.columns), axis=1)\n",
    "\n",
    "df[fa_ratios.columns]=fa_ratios"
   ]
  },
  {
   "cell_type": "code",
   "execution_count": 71,
   "metadata": {
    "collapsed": true
   },
   "outputs": [],
   "source": [
    "iso3_to_wb_name = pd.read_csv(\"iso3_to_wb_name.csv\").set_index(\"iso3\")\n"
   ]
  },
  {
   "cell_type": "markdown",
   "metadata": {},
   "source": [
    "### Vulnerability"
   ]
  },
  {
   "cell_type": "code",
   "execution_count": 72,
   "metadata": {
    "collapsed": false
   },
   "outputs": [
    {
     "name": "stderr",
     "output_type": "stream",
     "text": [
      "C:\\Users\\Admin\\Anaconda3\\lib\\site-packages\\IPython\\kernel\\__main__.py:10: UserWarning: this countries appear to be missing from iso3_to_wb_name.csv: ALA , ATA , BES , BVT , IOT , CXR , CCK , FLK , GUF , ATF , GIB , GLP , GGY , HMD , VAT , JEY , MTQ , MYT , MSR , NFK , PCN , REU , BLM , SHN , SPM , SGS , SJM , TKL , UMI , WLF , ESH.\n",
      "These are: Aland Islands , Antarctica , Bonaire , Bouvet Island , British Indian Ocean Territory , Christmas Island , the Cocos (Keeling) Islands , the Falkland Islands (Malvinas) , French Guiana , the French Southern Territories , Gibraltar , Guadeloupe , Guernsey , Heard Island and McDonald Islands , the Holy See (Vatican City State) , Jersey , Martinique , Mayotte , Montserrat , Norfolk Island , Pitcairn , Reunion , Saint Barthelemy , Saint Helena , Saint Pierre and Miquelon , South Georgia and the South Sandwich Islands , Svalbard and Jan Mayen , Tokelau , the United States Minor Outlying Islands , Wallis and Futuna , Western Sahara\n"
     ]
    }
   ],
   "source": [
    "#Reads data from pager\n",
    "pager=pd.read_csv(\"pager_vulnerabilities.csv\",\n",
    "                  usecols=[\"ISO-3digit\",\"R_1\",\"R_2\",\"R_3\",\"VV_1\",\"VV_2\",\"VV_3\",\"Country Name\"],\n",
    "                  index_col=\"ISO-3digit\")\n",
    "\n",
    "#indexes pager data by country        \n",
    "pager[\"country\"]=iso3_to_wb_name[\"country\"]\n",
    "cond = pager[\"country\"].isnull()\n",
    "if cond.sum()>0:\n",
    "     warnings.warn(\"this countries appear to be missing from iso3_to_wb_name.csv: \"+\" , \".join(pager.index[cond].values)+\".\\nThese are: \"+\" , \".join(pager.ix[cond,\"Country Name\"].values) )\n",
    "pager[\"country\"]=iso3_to_wb_name[\"country\"]\n",
    "hop=pager.dropna().reset_index().set_index(\"country\")\n",
    "\n",
    "#sorts vulnerabilites according to income\n",
    "share =hop[[\"R_1\",\"R_2\",\"R_3\"]]\n",
    "damrat=hop[[\"VV_1\",\"VV_2\",\"VV_3\"]]\n",
    "\n",
    "damrat.columns=[\"R_1\",\"R_2\",\"R_3\"]\n",
    "p=(share.cumsum(axis=1)-.20).clip(lower=0)\n",
    "poor=(share-p).clip(lower=0)\n",
    "\n",
    "\n",
    "vp=(poor*damrat).sum(axis=1)/poor.sum(axis=1)\n",
    "rich=share-poor\n",
    "\n",
    "vr=(rich*damrat).sum(axis=1)/rich.sum(axis=1)\n"
   ]
  },
  {
   "cell_type": "code",
   "execution_count": 73,
   "metadata": {
    "collapsed": false
   },
   "outputs": [],
   "source": [
    "#Expresses vulnerability as total and bias\n",
    "\n",
    "fa=df[\"fa\"]\n",
    "pe=df[\"peref\"] =df[\"pe\"]\n",
    "fap=fa*(1+pe)\n",
    "far=(fa-ph*fap)/(1-ph)\n",
    "\n",
    "df[\"share1_ref\"]=df[\"share1\"]\n",
    "cp=   df[\"share1\"] /.2*df[\"gdp_pc_pp\"]\n",
    "cr=(1-df[\"share1\"])/.8*df[\"gdp_pc_pp\"]\n",
    "\n",
    "df[\"v\"]  = (ph*vp*cp*fap + (1-ph)*vr*cr*far)/(ph*cp*fap + (1-ph)*cr*far)\n",
    "df[\"pv\"] =  vp/df.v-1\n",
    "\n",
    "#vulnerability of diversified (shared) capital\n",
    "df[\"v_s\"]=vr"
   ]
  },
  {
   "cell_type": "markdown",
   "metadata": {},
   "source": [
    "\n",
    "\n",
    "### Homogenity of losses"
   ]
  },
  {
   "cell_type": "code",
   "execution_count": 74,
   "metadata": {
    "collapsed": false
   },
   "outputs": [],
   "source": [
    "#resds loss distribution in mumbai\n",
    "hop=pd.read_csv(\"losses_distribution_mumbai.csv\",index_col=0)[\"losses/asset_cost\"]\n",
    "# standard deviation of the underlying normal distribution\n",
    "s = np.log(hop).std() \n",
    "\n",
    "df[\"H\"]= np.exp (-s**2/2)\n"
   ]
  },
  {
   "cell_type": "markdown",
   "metadata": {},
   "source": [
    "## Report missing data for the national studies"
   ]
  },
  {
   "cell_type": "code",
   "execution_count": 75,
   "metadata": {
    "collapsed": false
   },
   "outputs": [
    {
     "data": {
      "text/html": [
       "<div>\n",
       "<table border=\"1\" class=\"dataframe\">\n",
       "  <thead>\n",
       "    <tr style=\"text-align: right;\">\n",
       "      <th></th>\n",
       "      <th>nb_missing</th>\n",
       "      <th>missing_data</th>\n",
       "    </tr>\n",
       "    <tr>\n",
       "      <th>country</th>\n",
       "      <th></th>\n",
       "      <th></th>\n",
       "    </tr>\n",
       "  </thead>\n",
       "  <tbody>\n",
       "    <tr>\n",
       "      <th>Togo</th>\n",
       "      <td>1</td>\n",
       "      <td>social_p</td>\n",
       "    </tr>\n",
       "    <tr>\n",
       "      <th>Djibouti</th>\n",
       "      <td>1</td>\n",
       "      <td>unemp</td>\n",
       "    </tr>\n",
       "    <tr>\n",
       "      <th>Nicaragua</th>\n",
       "      <td>1</td>\n",
       "      <td>avg_prod_k</td>\n",
       "    </tr>\n",
       "    <tr>\n",
       "      <th>Iraq</th>\n",
       "      <td>1</td>\n",
       "      <td>plgp</td>\n",
       "    </tr>\n",
       "    <tr>\n",
       "      <th>Russian Federation</th>\n",
       "      <td>2</td>\n",
       "      <td>social_p, social_r</td>\n",
       "    </tr>\n",
       "  </tbody>\n",
       "</table>\n",
       "</div>"
      ],
      "text/plain": [
       "                    nb_missing        missing_data\n",
       "country                                           \n",
       "Togo                         1            social_p\n",
       "Djibouti                     1               unemp\n",
       "Nicaragua                    1          avg_prod_k\n",
       "Iraq                         1                plgp\n",
       "Russian Federation           2  social_p, social_r"
      ]
     },
     "execution_count": 75,
     "metadata": {},
     "output_type": "execute_result"
    }
   ],
   "source": [
    "def write_missing_data(s):\n",
    "    which = s[s.isnull()].index.values\n",
    "    return \", \".join(which)\n",
    "\n",
    "def count_missing_data(s):\n",
    "    return s.isnull().sum()\n",
    "\n",
    "report = pd.DataFrame()\n",
    "\n",
    "report[\"nb_missing\"]=df.apply(count_missing_data,axis=1)  \n",
    "report[\"missing_data\"]=df.apply(write_missing_data,axis=1)\n",
    "\n",
    "report  = report.ix[report[\"nb_missing\"]>0,:]\n",
    "report.sort(columns=\"nb_missing\",inplace=True)\n",
    "report.to_csv(\"missing_data_report.csv\")\n",
    "\n",
    "report.head()"
   ]
  },
  {
   "cell_type": "markdown",
   "metadata": {},
   "source": [
    "## manual parametrization"
   ]
  },
  {
   "cell_type": "code",
   "execution_count": 76,
   "metadata": {
    "collapsed": false
   },
   "outputs": [],
   "source": [
    "# no ripple effects\n",
    "df[\"alpha\"] =1 \n",
    "\n",
    "#Reconstruction time\n",
    "df[\"T_rebuild_K\"] = 3\n",
    "df[\"T_rebuild_L\"] = 40\n",
    "\n",
    "# how much early warning reduces vulnerability\n",
    "df[\"pi\"] = 0.2\n",
    "\n",
    "#income elasticity\n",
    "df[\"income_elast\"] = 1.5"
   ]
  },
  {
   "cell_type": "markdown",
   "metadata": {},
   "source": [
    "# Computes and saves national resilience"
   ]
  },
  {
   "cell_type": "markdown",
   "metadata": {},
   "source": [
    "Central cases"
   ]
  },
  {
   "cell_type": "code",
   "execution_count": 77,
   "metadata": {
    "collapsed": false
   },
   "outputs": [],
   "source": [
    "df[\"original_country\"]=df.index;\n",
    "#saves orginal dataframe before adding columns with results\n",
    "df.drop(\"iso3\", axis=1).to_csv(\"df_original.csv\")\n",
    "df.ix[\"France\"];"
   ]
  },
  {
   "cell_type": "code",
   "execution_count": 78,
   "metadata": {
    "collapsed": false
   },
   "outputs": [
    {
     "name": "stdout",
     "output_type": "stream",
     "text": [
      "nb countries with all data :90\n",
      "nb countries with all data and results :90\n"
     ]
    }
   ],
   "source": [
    "df_with_results=compute_resiliences(df.dropna())\n",
    "print(\"nb countries with all data :\"+str(df.dropna().shape[0]))\n",
    "print(\"nb countries with all data and results :\"+str(df_with_results[\"resilience\"].dropna().shape[0]))\n",
    "df_with_results.to_csv(\"df.csv\")\n"
   ]
  },
  {
   "cell_type": "code",
   "execution_count": 79,
   "metadata": {
    "collapsed": false
   },
   "outputs": [
    {
     "name": "stdout",
     "output_type": "stream",
     "text": [
      " Increasing the share of income of the bottom quintile by 1 percent in the 90 countries would increase asset losses from USD 102 to 103 billions per year       (+1.0 percent), but reduce welfare losses by 2.6 percent\n"
     ]
    }
   ],
   "source": [
    "#magic redistribution\n",
    "df_share1 = compute_resiliences( df.dropna().assign(share1=df.share1+1/100) )\n",
    "\n",
    "#welfare losses\n",
    "wa=df_with_results.total_equivalent_cost.sum()*1e-9\n",
    "wb=df_share1.total_equivalent_cost.sum()*1e-9\n",
    "\n",
    "#asset losses\n",
    "ka = (df_with_results.dKtot/df.protection).sum()*1e-9\n",
    "kb = (df_share1.dKtot/df_share1.protection).sum()*1e-9\n",
    "\n",
    "print(\" Increasing the share of income of the bottom quintile by 1 percent in the 90 countries \\\n",
    "would increase asset losses from USD {ka:0.0f} to {kb:0.0f} billions per year \\\n",
    "      (+{XX:.1f} percent), but reduce welfare losses by {YY:.2} percent\".format(\n",
    "        XX=100*(kb-ka)/ka,ka=ka,kb=kb,YY=100*(wa-wb)/wa)\n",
    "     )"
   ]
  },
  {
   "cell_type": "markdown",
   "metadata": {},
   "source": [
    "Basic reporting"
   ]
  },
  {
   "cell_type": "code",
   "execution_count": 80,
   "metadata": {
    "collapsed": false
   },
   "outputs": [
    {
     "data": {
      "text/plain": [
       "'Resilience averages 58% across our sample, ranging from 25% to 81%'"
      ]
     },
     "execution_count": 80,
     "metadata": {},
     "output_type": "execute_result"
    }
   ],
   "source": [
    "#Some stats\n",
    "a=df_with_results.resilience;\n",
    "a.min()*100,a.mean()*100,a.max()*100\n",
    "\"Resilience averages {mean:.0%} across our sample, ranging from {min:.0%} to {max:.0%}\".format(min=a.min(),mean=a.mean(),max=a.max())"
   ]
  },
  {
   "cell_type": "code",
   "execution_count": 81,
   "metadata": {
    "collapsed": false
   },
   "outputs": [],
   "source": [
    "#Outputs table with main results\n",
    "to_output = ['gdp_pc_pp', 'pop',\"protection\",\"fa\",\"v\",\"resilience\",\"risk\"]\n",
    "a=df_with_results[to_output].copy()\n",
    "a.loc[:,[\"fa\",\"v\",\"resilience\",\"risk\"]]=100*a[[\"fa\",\"v\",\"resilience\",\"risk\"]]\n",
    "desc=pd.read_csv(\"inputs_info.csv\").set_index('key')[\"descriptor\"]\n",
    "a.rename(columns=desc).dropna().to_excel(\"results.xlsx\")\n"
   ]
  },
  {
   "cell_type": "markdown",
   "metadata": {},
   "source": [
    "##sensitivity anlysis"
   ]
  },
  {
   "cell_type": "code",
   "execution_count": 82,
   "metadata": {
    "collapsed": true
   },
   "outputs": [],
   "source": [
    "def def_ref_values(df):\n",
    "    df[\"peref\"]=df[\"pe\"]\n",
    "    df[\"faref\"]=df[\"fa\"]\n",
    "    df[\"share1_ref\"]=df[\"share1\"]\n",
    "    vp,vr =unpack_v(df.v,df.pv,df.fa,df.pe,df.pov_head,df.share1)\n",
    "    df[\"v_s\"] = vr\n",
    "    return df\n"
   ]
  },
  {
   "cell_type": "code",
   "execution_count": 85,
   "metadata": {
    "collapsed": false
   },
   "outputs": [],
   "source": [
    "country_sens_list=[\"Malawi\",\"Sweden\"]\n",
    "#reads paramters to be varied\n",
    "alt_params=pd.read_csv(\"alt_params.csv\")\n",
    "\n",
    "df_sensit = pd.DataFrame(columns=df.columns)\n",
    "\n",
    "#for c in country_sens_list:\n",
    "for c in df.dropna().index: #senstitivity for all countries\n",
    "    for p in alt_params.index.tolist():\n",
    "        param = alt_params.ix[p,\"param\"]\n",
    "        \n",
    "        new_value = alt_params.ix[p,\"value\"]\n",
    "        if new_value[0] in \"/*\":\n",
    "            new_value = str(df.ix[c,param])+new_value         \n",
    "        new_value = eval(new_value)\n",
    "        \n",
    "        d = c+\" $({name}={nv:2.0f}\\%)$\".format(name=alt_params.ix[p,\"formated_name\"],nv=100*new_value)\n",
    "        df_sensit.ix[d] = df.ix[c]\n",
    "        df_sensit.ix[d,param] =new_value\n",
    "        df_sensit.ix[d,\"original_country\"]=c\n",
    "        \n",
    "        #sets reference values \n",
    "        df_sensit =def_ref_values(df_sensit)\n",
    "        \n",
    "    \n",
    "    #special treatment for fa\n",
    "    df_sensit.ix[d,param] =new_value\n",
    "    \n",
    "\n",
    "\n",
    "    for param in [\"income_elast\"]:\n",
    "        for new_value in [1, 2]:\n",
    "            d = c+\" $(\\eta=\"+str(new_value)+\")$\"\n",
    "            df_sensit.ix[d] = df.ix[c]\n",
    "            df_sensit.ix[d,param] =new_value\n",
    "            df_sensit.ix[d,\"original_country\"]=c\n",
    "\n",
    "df_sensit.index.name=\"country\"; #after adding indices pandas forgets their \n",
    "df_sensit.drop(\"iso3\", axis=1).to_csv(\"df_sensit_input.csv\")\n",
    "compute_resiliences(df_sensit).to_csv(\"df_sensit_results.csv\")"
   ]
  },
  {
   "cell_type": "markdown",
   "metadata": {
    "collapsed": true
   },
   "source": [
    "#Ex post studies"
   ]
  },
  {
   "cell_type": "code",
   "execution_count": 86,
   "metadata": {
    "collapsed": false
   },
   "outputs": [
    {
     "data": {
      "text/html": [
       "<div>\n",
       "<table border=\"1\" class=\"dataframe\">\n",
       "  <thead>\n",
       "    <tr style=\"text-align: right;\">\n",
       "      <th></th>\n",
       "      <th>total_equivalent_cost</th>\n",
       "      <th>dKtot</th>\n",
       "    </tr>\n",
       "    <tr>\n",
       "      <th>place</th>\n",
       "      <th></th>\n",
       "      <th></th>\n",
       "    </tr>\n",
       "  </thead>\n",
       "  <tbody>\n",
       "    <tr>\n",
       "      <th>Mumbai</th>\n",
       "      <td>5.300409209e+10</td>\n",
       "      <td>3.455702347e+10</td>\n",
       "    </tr>\n",
       "    <tr>\n",
       "      <th>fa_.95</th>\n",
       "      <td>5.035290054e+10</td>\n",
       "      <td>3.282917230e+10</td>\n",
       "    </tr>\n",
       "    <tr>\n",
       "      <th>v_.95</th>\n",
       "      <td>5.028305015e+10</td>\n",
       "      <td>3.282917230e+10</td>\n",
       "    </tr>\n",
       "    <tr>\n",
       "      <th>double_sigma</th>\n",
       "      <td>4.779834316e+10</td>\n",
       "      <td>3.455702347e+10</td>\n",
       "    </tr>\n",
       "    <tr>\n",
       "      <th>rebuild_one_third</th>\n",
       "      <td>5.105727164e+10</td>\n",
       "      <td>3.455702347e+10</td>\n",
       "    </tr>\n",
       "    <tr>\n",
       "      <th>double_social</th>\n",
       "      <td>4.836123423e+10</td>\n",
       "      <td>3.455702347e+10</td>\n",
       "    </tr>\n",
       "    <tr>\n",
       "      <th>halve_pv</th>\n",
       "      <td>4.984960676e+10</td>\n",
       "      <td>3.455702347e+10</td>\n",
       "    </tr>\n",
       "    <tr>\n",
       "      <th>double_banks</th>\n",
       "      <td>5.283438550e+10</td>\n",
       "      <td>3.455702347e+10</td>\n",
       "    </tr>\n",
       "    <tr>\n",
       "      <th>share1_ten_percent</th>\n",
       "      <td>5.130791535e+10</td>\n",
       "      <td>3.494304698e+10</td>\n",
       "    </tr>\n",
       "  </tbody>\n",
       "</table>\n",
       "</div>"
      ],
      "text/plain": [
       "                    total_equivalent_cost            dKtot\n",
       "place                                                     \n",
       "Mumbai                    5.300409209e+10  3.455702347e+10\n",
       "fa_.95                    5.035290054e+10  3.282917230e+10\n",
       "v_.95                     5.028305015e+10  3.282917230e+10\n",
       "double_sigma              4.779834316e+10  3.455702347e+10\n",
       "rebuild_one_third         5.105727164e+10  3.455702347e+10\n",
       "double_social             4.836123423e+10  3.455702347e+10\n",
       "halve_pv                  4.984960676e+10  3.455702347e+10\n",
       "double_banks              5.283438550e+10  3.455702347e+10\n",
       "share1_ten_percent        5.130791535e+10  3.494304698e+10"
      ]
     },
     "execution_count": 86,
     "metadata": {},
     "output_type": "execute_result"
    }
   ],
   "source": [
    "##Reads data\n",
    "expost_=pd.read_csv(\"expost_studies.csv\",index_col=\"place\")\n",
    "\n",
    "#fills the altnerative lines with default values\n",
    "expost = expost_.fillna( value=expost_.ix[\"Mumbai\"],axis=0)\n",
    "\n",
    "#dummy \"ref\" dimensions (for the derivatives)\n",
    "expost = def_ref_values(expost)\n",
    "\n",
    "#Computes resilience\n",
    "ep=compute_resiliences(expost,kind=\"expost\")\n",
    "\n",
    "#Report\n",
    "ep[expost_.columns]=expost_\n",
    "ep.to_csv(\"expost_studies_with_results.csv\")\n",
    "cost_metrics = [\"total_equivalent_cost\",\"dKtot\"]\n",
    "ep[cost_metrics]"
   ]
  },
  {
   "cell_type": "markdown",
   "metadata": {},
   "source": [
    "###Sensitivity analysis on Mumbai"
   ]
  },
  {
   "cell_type": "code",
   "execution_count": 87,
   "metadata": {
    "collapsed": false
   },
   "outputs": [],
   "source": [
    "import pyDOE as doe"
   ]
  },
  {
   "cell_type": "code",
   "execution_count": 88,
   "metadata": {
    "collapsed": false
   },
   "outputs": [
    {
     "data": {
      "text/plain": [
       "Index(['place', 'gdp_pc_pp', 'pop', 'share1', 'shew', 'plgp', 'unemp', 'axfin_p', 'axfin_r', 'axhealth', 'social_p', 'social_r', 'iso3', 'pov_head', 'avg_prod_k', 'fa', 'pe', 'H', 'alpha',\n",
       "       'T_rebuild_K', 'T_rebuild_L', 'pi', 'income_elast', 'v', 'pv', 'sigma_p', 'sigma_r', 'share_nat_income'],\n",
       "      dtype='object')"
      ]
     },
     "execution_count": 88,
     "metadata": {},
     "output_type": "execute_result"
    }
   ],
   "source": [
    "pd.read_csv(\"expost_studies.csv\").columns"
   ]
  },
  {
   "cell_type": "code",
   "execution_count": 89,
   "metadata": {
    "collapsed": false
   },
   "outputs": [
    {
     "name": "stdout",
     "output_type": "stream",
     "text": [
      "new candidate solution found with max,abs corrcoef = 0.8608120501821837\n",
      "new candidate solution found with max,abs corrcoef = 0.8458905407247883\n"
     ]
    },
    {
     "data": {
      "text/html": [
       "<div>\n",
       "<table border=\"1\" class=\"dataframe\">\n",
       "  <thead>\n",
       "    <tr style=\"text-align: right;\">\n",
       "      <th></th>\n",
       "      <th>share1</th>\n",
       "      <th>shew</th>\n",
       "      <th>plgp</th>\n",
       "      <th>unemp</th>\n",
       "      <th>axfin_p</th>\n",
       "      <th>axfin_r</th>\n",
       "      <th>axhealth</th>\n",
       "      <th>social_p</th>\n",
       "      <th>social_r</th>\n",
       "      <th>pov_head</th>\n",
       "      <th>...</th>\n",
       "      <th>H</th>\n",
       "      <th>alpha</th>\n",
       "      <th>T_rebuild_K</th>\n",
       "      <th>T_rebuild_L</th>\n",
       "      <th>pi</th>\n",
       "      <th>v</th>\n",
       "      <th>pv</th>\n",
       "      <th>sigma_p</th>\n",
       "      <th>sigma_r</th>\n",
       "      <th>share_nat_income</th>\n",
       "    </tr>\n",
       "  </thead>\n",
       "  <tbody>\n",
       "    <tr>\n",
       "      <th>0</th>\n",
       "      <td>1.112460515</td>\n",
       "      <td>1.085372164</td>\n",
       "      <td>0.844196755</td>\n",
       "      <td>1.270403258</td>\n",
       "      <td>1.289143496</td>\n",
       "      <td>1.129564348</td>\n",
       "      <td>0.931782174</td>\n",
       "      <td>0.946598509</td>\n",
       "      <td>1.256693203</td>\n",
       "      <td>1.119133547</td>\n",
       "      <td>...</td>\n",
       "      <td>0.821961857</td>\n",
       "      <td>1.232259776</td>\n",
       "      <td>0.960542342</td>\n",
       "      <td>1.202219319</td>\n",
       "      <td>0.916790197</td>\n",
       "      <td>0.978176979</td>\n",
       "      <td>0.682771303</td>\n",
       "      <td>0.799938650</td>\n",
       "      <td>1.255190781</td>\n",
       "      <td>1.116935262</td>\n",
       "    </tr>\n",
       "    <tr>\n",
       "      <th>1</th>\n",
       "      <td>0.733740125</td>\n",
       "      <td>0.976490773</td>\n",
       "      <td>1.039185938</td>\n",
       "      <td>0.676206114</td>\n",
       "      <td>1.041323178</td>\n",
       "      <td>1.308298574</td>\n",
       "      <td>0.832341815</td>\n",
       "      <td>0.783420587</td>\n",
       "      <td>1.207664827</td>\n",
       "      <td>1.157885518</td>\n",
       "      <td>...</td>\n",
       "      <td>0.890036600</td>\n",
       "      <td>0.857875676</td>\n",
       "      <td>1.002367039</td>\n",
       "      <td>1.117464527</td>\n",
       "      <td>0.697355354</td>\n",
       "      <td>1.128868366</td>\n",
       "      <td>0.995412907</td>\n",
       "      <td>1.014758073</td>\n",
       "      <td>0.689980822</td>\n",
       "      <td>0.713324258</td>\n",
       "    </tr>\n",
       "    <tr>\n",
       "      <th>2</th>\n",
       "      <td>0.868024751</td>\n",
       "      <td>1.240352416</td>\n",
       "      <td>1.039851752</td>\n",
       "      <td>1.071809226</td>\n",
       "      <td>0.872084805</td>\n",
       "      <td>1.170783960</td>\n",
       "      <td>1.078524402</td>\n",
       "      <td>1.070423871</td>\n",
       "      <td>0.930310210</td>\n",
       "      <td>0.966419891</td>\n",
       "      <td>...</td>\n",
       "      <td>0.742850997</td>\n",
       "      <td>1.203538815</td>\n",
       "      <td>0.990758621</td>\n",
       "      <td>1.126300215</td>\n",
       "      <td>1.314243545</td>\n",
       "      <td>1.204436762</td>\n",
       "      <td>1.254071425</td>\n",
       "      <td>0.791857534</td>\n",
       "      <td>0.857252935</td>\n",
       "      <td>0.890803962</td>\n",
       "    </tr>\n",
       "    <tr>\n",
       "      <th>3</th>\n",
       "      <td>0.862621721</td>\n",
       "      <td>0.746108714</td>\n",
       "      <td>0.930485899</td>\n",
       "      <td>1.233680856</td>\n",
       "      <td>0.999046027</td>\n",
       "      <td>0.695978834</td>\n",
       "      <td>0.892006478</td>\n",
       "      <td>0.765482930</td>\n",
       "      <td>0.929128483</td>\n",
       "      <td>0.701524879</td>\n",
       "      <td>...</td>\n",
       "      <td>0.971173830</td>\n",
       "      <td>0.900425547</td>\n",
       "      <td>0.995394560</td>\n",
       "      <td>0.753034358</td>\n",
       "      <td>1.173365043</td>\n",
       "      <td>0.779903705</td>\n",
       "      <td>0.773144823</td>\n",
       "      <td>0.693039911</td>\n",
       "      <td>0.860259676</td>\n",
       "      <td>0.918746385</td>\n",
       "    </tr>\n",
       "    <tr>\n",
       "      <th>4</th>\n",
       "      <td>1.039297269</td>\n",
       "      <td>0.931752531</td>\n",
       "      <td>1.094108403</td>\n",
       "      <td>1.006375181</td>\n",
       "      <td>1.065912025</td>\n",
       "      <td>0.670513087</td>\n",
       "      <td>0.669876363</td>\n",
       "      <td>0.694507427</td>\n",
       "      <td>0.671724238</td>\n",
       "      <td>0.854214050</td>\n",
       "      <td>...</td>\n",
       "      <td>0.763772906</td>\n",
       "      <td>0.789136279</td>\n",
       "      <td>0.886244952</td>\n",
       "      <td>0.838131126</td>\n",
       "      <td>0.871652390</td>\n",
       "      <td>0.737659283</td>\n",
       "      <td>0.696071113</td>\n",
       "      <td>0.806058465</td>\n",
       "      <td>1.031809593</td>\n",
       "      <td>1.221554141</td>\n",
       "    </tr>\n",
       "  </tbody>\n",
       "</table>\n",
       "<p>5 rows × 23 columns</p>\n",
       "</div>"
      ],
      "text/plain": [
       "        share1         shew         plgp        unemp      axfin_p      axfin_r     axhealth     social_p     social_r     pov_head        ...                   H        alpha  T_rebuild_K  \\\n",
       "0  1.112460515  1.085372164  0.844196755  1.270403258  1.289143496  1.129564348  0.931782174  0.946598509  1.256693203  1.119133547        ...         0.821961857  1.232259776  0.960542342   \n",
       "1  0.733740125  0.976490773  1.039185938  0.676206114  1.041323178  1.308298574  0.832341815  0.783420587  1.207664827  1.157885518        ...         0.890036600  0.857875676  1.002367039   \n",
       "2  0.868024751  1.240352416  1.039851752  1.071809226  0.872084805  1.170783960  1.078524402  1.070423871  0.930310210  0.966419891        ...         0.742850997  1.203538815  0.990758621   \n",
       "3  0.862621721  0.746108714  0.930485899  1.233680856  0.999046027  0.695978834  0.892006478  0.765482930  0.929128483  0.701524879        ...         0.971173830  0.900425547  0.995394560   \n",
       "4  1.039297269  0.931752531  1.094108403  1.006375181  1.065912025  0.670513087  0.669876363  0.694507427  0.671724238  0.854214050        ...         0.763772906  0.789136279  0.886244952   \n",
       "\n",
       "   T_rebuild_L           pi            v           pv      sigma_p      sigma_r  share_nat_income  \n",
       "0  1.202219319  0.916790197  0.978176979  0.682771303  0.799938650  1.255190781       1.116935262  \n",
       "1  1.117464527  0.697355354  1.128868366  0.995412907  1.014758073  0.689980822       0.713324258  \n",
       "2  1.126300215  1.314243545  1.204436762  1.254071425  0.791857534  0.857252935       0.890803962  \n",
       "3  0.753034358  1.173365043  0.779903705  0.773144823  0.693039911  0.860259676       0.918746385  \n",
       "4  0.838131126  0.871652390  0.737659283  0.696071113  0.806058465  1.031809593       1.221554141  \n",
       "\n",
       "[5 rows x 23 columns]"
      ]
     },
     "execution_count": 89,
     "metadata": {},
     "output_type": "execute_result"
    }
   ],
   "source": [
    "uncertain_dims = ['share1', 'shew', 'plgp', 'unemp',\n",
    "       'axfin_p', 'axfin_r', 'axhealth', 'social_p', 'social_r',\n",
    "       'pov_head', 'avg_prod_k', 'fa', 'pe', 'H', 'alpha', 'T_rebuild_K',\n",
    "       'T_rebuild_L', 'pi',  'v', 'pv', 'sigma_p',\n",
    "       'sigma_r', 'share_nat_income'] \n",
    "\n",
    "\n",
    "\n",
    "n=len(uncertain_dims)\n",
    "var = 1/3\n",
    "\n",
    "#other_dims = np.setdiff1d(expost.columns,uncertain_dims).tolist()\n",
    "\n",
    "#mutipliers between 1-var and 1+var\n",
    "aleas = 1+(2*var * pd.DataFrame(doe.lhs(n,samples=2200,criterion=\"corr\"),columns=uncertain_dims) -var)\n",
    "aleas\n",
    "\n",
    "#values that have to change as others\n",
    "#aleas[\"sigma_r\"]=aleas[\"sigma_p\"]\n",
    "aleas.head()"
   ]
  },
  {
   "cell_type": "code",
   "execution_count": 90,
   "metadata": {
    "collapsed": false
   },
   "outputs": [
    {
     "name": "stdout",
     "output_type": "stream",
     "text": [
      "22\n"
     ]
    },
    {
     "data": {
      "text/plain": [
       "'Income share of bottom quintile; Access to early warning; Basic education; Unemployment; Access to finance for poor people; Access to finance for non-poor people; Access to health care; Social protection for poor people; Social protection for non-poor people; Poverty headcount; Productivity of capital; Exposure; Exposure bias; Homogeneity of damages; Ripple effects; Time to reconstruct; Time to rebuild human capital; Avoided losses with early warning; Vulnerability without early warning; Asset-vulnerability bias; Risk sharing for poor people; Risk sharing for non-poor people'"
      ]
     },
     "execution_count": 90,
     "metadata": {},
     "output_type": "execute_result"
    }
   ],
   "source": [
    "uncertain_dims_described = pd.read_csv(\"inputs_info.csv\",index_col=\"key\", usecols=[\"key\",\"descriptor\"], squeeze=True)[uncertain_dims].dropna().tolist()\n",
    "print(len(uncertain_dims_described))\n",
    "\"; \".join(uncertain_dims_described)"
   ]
  },
  {
   "cell_type": "code",
   "execution_count": 91,
   "metadata": {
    "collapsed": false
   },
   "outputs": [],
   "source": [
    "mumbai   = expost.ix[[\"Mumbai\"]]\n",
    "policies = expost.drop(\"Mumbai\")"
   ]
  },
  {
   "cell_type": "code",
   "execution_count": 92,
   "metadata": {
    "collapsed": false
   },
   "outputs": [],
   "source": [
    "def compute_sensiv(aleas):\n",
    "    sensiv = pd.DataFrame(index=aleas.index, columns=pd.MultiIndex.from_product([policies.index,cost_metrics],names=[\"policy\",\"metric\"]))\n",
    "\n",
    "    for i in policies.index:\n",
    "        #appends aleas to ref case\n",
    "        ref = mumbai.append(aleas*mumbai[aleas.columns].transpose().squeeze()).fillna(method=\"pad\")\n",
    "        #adds vs, fare, etc.\n",
    "        ref = def_ref_values(ref)\n",
    "        #computes resiliences\n",
    "        ref=compute_resiliences(ref,kind=\"expost\").drop(\"iso3\",axis=1)\n",
    "\n",
    "        #appends alea\n",
    "        pol = policies.ix[[i]].append(aleas*policies.ix[i,aleas.columns].transpose().squeeze()).fillna(method=\"pad\")\n",
    "        #ref values\n",
    "        pol = def_ref_values(pol)\n",
    "        #resil\n",
    "        pol = compute_resiliences(pol,kind=\"expost\").drop(\"iso3\",axis=1)\n",
    "\n",
    "        #result change in percentage    \n",
    "        res = 100 * (pol-ref)[cost_metrics].dropna() / ref[cost_metrics]\n",
    "        sensiv[i]=res.dropna()\n",
    "\n",
    "    #clean numerical errors\n",
    "    sensiv[abs(sensiv)<1e-4]=0\n",
    "        \n",
    "    return sensiv"
   ]
  },
  {
   "cell_type": "code",
   "execution_count": 93,
   "metadata": {
    "collapsed": false
   },
   "outputs": [
    {
     "name": "stderr",
     "output_type": "stream",
     "text": [
      "C:\\Users\\Admin\\Anaconda3\\lib\\site-packages\\pandas\\core\\index.py:1414: RuntimeWarning: unorderable types: int() < str(), sort order is undefined for incomparable objects\n",
      "  \"incomparable objects\" % e, RuntimeWarning)\n"
     ]
    }
   ],
   "source": [
    "sensiv=compute_sensiv(aleas)\n",
    "\n",
    "alea_eta =pd.DataFrame([2/3,1,4/3],columns=[\"income_elast\"])\n",
    "sensiv_eta = compute_sensiv(alea_eta)"
   ]
  },
  {
   "cell_type": "code",
   "execution_count": 94,
   "metadata": {
    "collapsed": true
   },
   "outputs": [],
   "source": [
    "font = {'family' : 'serif',\n",
    "    'weight' : 'normal',\n",
    "    'size'   : 18}\n",
    "\n",
    "plt.rc('font', **font)\n",
    "\n",
    "plt.rcParams[\"legend.fancybox\"]=True\n",
    "\n",
    "#oranges\n",
    "col_a=\"#fdbb84\"\n",
    "col_b=\"#e34a33\"\n",
    "\n",
    "#blues\n",
    "col_c=\"#74a9cf\"\n",
    "col_d=\"#0570b0\"\n",
    "\n",
    "#fdbb84\n",
    "#e34a33\n",
    "\n"
   ]
  },
  {
   "cell_type": "code",
   "execution_count": 95,
   "metadata": {
    "collapsed": true
   },
   "outputs": [],
   "source": [
    "def autolabel(ax,rects,color):\n",
    "    # attach some text labels\n",
    "    for rect in rects:\n",
    "        y = rect.get_y()\n",
    "        h = rect.get_height()\n",
    "        height = y if y<0 else h\n",
    "        ax.text(rect.get_x()+rect.get_width()/2.,\n",
    "                height+np.sign(height)*.2,\n",
    "                ' %1.1f'%(height),\n",
    "                ha='left', va='top' if y<0 else 'bottom', color=color )\n",
    "        \n",
    "        "
   ]
  },
  {
   "cell_type": "code",
   "execution_count": 96,
   "metadata": {
    "collapsed": false,
    "scrolled": true
   },
   "outputs": [],
   "source": [
    "policy_descriptions= pd.read_csv(\"policy_descriptions.csv\",index_col=0,squeeze=True).str.replace('\\r\\n','\\n')\n",
    "\n",
    "def plot_sensiv(sensiv):\n",
    "    fig, ax = plt.subplots(figsize=(20,8))\n",
    "\n",
    "    width = 0.40  \n",
    "    err_range = [0.25,.75]\n",
    "\n",
    "    labels = sensiv.xs(\"dKtot\", axis=1, level=\"metric\").columns.values\n",
    "    n=len(labels)\n",
    "\n",
    "    ind=np.arange(n)\n",
    "\n",
    "    m=sensiv.xs(\"dKtot\", axis=1, level=\"metric\").mean()\n",
    "    rects1 = ax.bar(ind,\n",
    "            m,\n",
    "            color=col_a,\n",
    "            yerr=np.abs(sensiv.xs(\"dKtot\", axis=1, level=\"metric\").quantile(err_range).as_matrix()-m.as_matrix()),\n",
    "            edgecolor=col_b,\n",
    "            error_kw=dict(ecolor=col_b, lw=2, capsize=5, capthick=2),\n",
    "            width=width\n",
    "           )\n",
    "\n",
    "    m=sensiv.xs(\"total_equivalent_cost\", axis=1, level=\"metric\").mean()\n",
    "    rects2 = ax.bar(ind+width, \n",
    "            m,\n",
    "            color=col_c,\n",
    "            yerr=np.abs(sensiv.xs(\"total_equivalent_cost\", axis=1, level=\"metric\").quantile(err_range).as_matrix()-m.as_matrix()),\n",
    "            edgecolor=col_d,\n",
    "            error_kw=dict(ecolor=col_d, lw=2, capsize=5, capthick=2),\n",
    "            width=width\n",
    "            )\n",
    "\n",
    "    # add some text for labels, title and axes ticks\n",
    "    ax.set_ylabel('Relative change (%)')\n",
    "    ax.set_xticks(ind+width)\n",
    "    ax.set_xticklabels(policy_descriptions[labels]  )\n",
    "\n",
    "    ax.legend( (rects1[0], rects2[0]), ('Asset losses', 'Welfare losses'), loc=\"best\" )\n",
    "\n",
    "\n",
    "\n",
    "    #remove Y ticks \n",
    "    ax.spines['bottom']\n",
    "    ax.spines['right'].set_color('none')\n",
    "\n",
    "    ax.spines['top'].set_position('zero')\n",
    "    ax.spines['left'].set_color('none')\n",
    "\n",
    "    #removes ticks \n",
    "    for tic in ax.yaxis.get_major_ticks():\n",
    "        tic.tick1On = tic.tick2On = False\n",
    "\n",
    "    #remove names of sectors from wedge panel\n",
    "    plt.setp(ax.get_yticklabels(), visible=False);\n",
    "\n",
    "\n",
    "    autolabel(ax,rects1,col_b)\n",
    "    autolabel(ax,rects2,col_d)"
   ]
  },
  {
   "cell_type": "code",
   "execution_count": 97,
   "metadata": {
    "collapsed": false
   },
   "outputs": [
    {
     "data": {
      "image/png": "[encoded data removed]",
      "text/plain": [
       "<matplotlib.figure.Figure at 0x97df898>"
      ]
     },
     "metadata": {},
     "output_type": "display_data"
    }
   ],
   "source": [
    "plot_sensiv(sensiv)\n",
    "plt.savefig(\"mumbai_sensiv.png\",bbox_inches=\"tight\")"
   ]
  },
  {
   "cell_type": "code",
   "execution_count": 98,
   "metadata": {
    "collapsed": false
   },
   "outputs": [
    {
     "data": {
      "image/png": "[encoded data removed]",
      "text/plain": [
       "<matplotlib.figure.Figure at 0x52bee10>"
      ]
     },
     "metadata": {},
     "output_type": "display_data"
    }
   ],
   "source": [
    "plot_sensiv(sensiv_eta)\n",
    "plt.title(\"Effect of chosing $\\eta$ in [1,2]\")\n",
    "plt.savefig(\"mumbai_sensiv_eta.png\",bbox_inches=\"tight\")"
   ]
  },
  {
   "cell_type": "markdown",
   "metadata": {},
   "source": [
    "###Scatter plot to compare policies"
   ]
  },
  {
   "cell_type": "code",
   "execution_count": 99,
   "metadata": {
    "collapsed": false
   },
   "outputs": [],
   "source": [
    "mins = sensiv.min().min()\n",
    "maxs = sensiv.max().max()\n",
    "cent = .5*(maxs+mins)"
   ]
  },
  {
   "cell_type": "code",
   "execution_count": 100,
   "metadata": {
    "collapsed": false
   },
   "outputs": [
    {
     "data": {
      "image/png": "[encoded data removed]",
      "text/plain": [
       "<matplotlib.figure.Figure at 0xa8b35c0>"
      ]
     },
     "metadata": {},
     "output_type": "display_data"
    }
   ],
   "source": [
    "pols =['fa_.95', 'v_.95', 'double_sigma','rebuild_one_third','double_social',\n",
    "       'halve_pv', 'double_banks', 'share1_ten_percent']\n",
    "\n",
    "p=len(pols)\n",
    "fig,axes = plt.subplots(p,p,figsize=(20,20),sharex=True,sharey=True)\n",
    "for i in range(p):\n",
    "    for j in range(p):   \n",
    "        axes[i,j].axis(\"off\")\n",
    "        \n",
    "        if i==j:\n",
    "            axes[i,j].text(cent,cent, policy_descriptions[pols[i]],ha=\"center\",va=\"center\")\n",
    "        else:\n",
    "            #mind the trick here, axes is indexed as [line, column] while plots are drawn (x,y)\n",
    "            axes[i,j].plot([mins,maxs],[mins,maxs],color=\"gray\")\n",
    "            axes[i,j].scatter(\n",
    "                sensiv.xs(\"dKtot\", axis=1, level=\"metric\")[pols[j]],\n",
    "                sensiv.xs(\"dKtot\", axis=1, level=\"metric\")[pols[i]],\n",
    "                color =col_a, alpha=0.75,clip_on=False\n",
    "            );\n",
    "            axes[i,j].scatter(\n",
    "                sensiv.xs(\"total_equivalent_cost\", axis=1, level=\"metric\")[pols[j]],\n",
    "                sensiv.xs(\"total_equivalent_cost\", axis=1, level=\"metric\")[pols[i]],\n",
    "                color=col_d,alpha=0.10,clip_on=False\n",
    "            );\n",
    "            \n",
    "fig.savefig(\"scatter_policies_mumbai.png\",bbox_inches=\"tight\")                                          "
   ]
  },
  {
   "cell_type": "markdown",
   "metadata": {},
   "source": [
    "# Simple OLS"
   ]
  },
  {
   "cell_type": "code",
   "execution_count": 101,
   "metadata": {
    "collapsed": false
   },
   "outputs": [],
   "source": [
    "from statsmodels.formula.api import ols"
   ]
  },
  {
   "cell_type": "code",
   "execution_count": 102,
   "metadata": {
    "collapsed": false
   },
   "outputs": [
    {
     "data": {
      "text/html": [
       "<table class=\"simpletable\">\n",
       "<caption>OLS Regression Results</caption>\n",
       "<tr>\n",
       "  <th>Dep. Variable:</th>       <td>resilience</td>    <th>  R-squared:         </th> <td>   0.913</td>\n",
       "</tr>\n",
       "<tr>\n",
       "  <th>Model:</th>                   <td>OLS</td>       <th>  Adj. R-squared:    </th> <td>   0.891</td>\n",
       "</tr>\n",
       "<tr>\n",
       "  <th>Method:</th>             <td>Least Squares</td>  <th>  F-statistic:       </th> <td>   41.30</td>\n",
       "</tr>\n",
       "<tr>\n",
       "  <th>Date:</th>             <td>Tue, 21 Jul 2015</td> <th>  Prob (F-statistic):</th> <td>1.92e-30</td>\n",
       "</tr>\n",
       "<tr>\n",
       "  <th>Time:</th>                 <td>17:46:30</td>     <th>  Log-Likelihood:    </th> <td>  162.43</td>\n",
       "</tr>\n",
       "<tr>\n",
       "  <th>No. Observations:</th>      <td>    90</td>      <th>  AIC:               </th> <td>  -286.9</td>\n",
       "</tr>\n",
       "<tr>\n",
       "  <th>Df Residuals:</th>          <td>    71</td>      <th>  BIC:               </th> <td>  -239.4</td>\n",
       "</tr>\n",
       "<tr>\n",
       "  <th>Df Model:</th>              <td>    18</td>      <th>                     </th>     <td> </td>   \n",
       "</tr>\n",
       "<tr>\n",
       "  <th>Covariance Type:</th>      <td>nonrobust</td>    <th>                     </th>     <td> </td>   \n",
       "</tr>\n",
       "</table>\n",
       "<table class=\"simpletable\">\n",
       "<tr>\n",
       "         <td></td>            <th>coef</th>     <th>std err</th>      <th>t</th>      <th>P>|t|</th> <th>[95.0% Conf. Int.]</th> \n",
       "</tr>\n",
       "<tr>\n",
       "  <th>Intercept</th>       <td>    0.4212</td> <td>    0.056</td> <td>    7.511</td> <td> 0.000</td> <td>    0.309     0.533</td>\n",
       "</tr>\n",
       "<tr>\n",
       "  <th>avg_prod_k</th>      <td>   -0.4145</td> <td>    0.046</td> <td>   -8.953</td> <td> 0.000</td> <td>   -0.507    -0.322</td>\n",
       "</tr>\n",
       "<tr>\n",
       "  <th>axfin_p</th>         <td>   -0.0309</td> <td>    0.104</td> <td>   -0.299</td> <td> 0.766</td> <td>   -0.237     0.176</td>\n",
       "</tr>\n",
       "<tr>\n",
       "  <th>axfin_r</th>         <td>    0.0648</td> <td>    0.083</td> <td>    0.784</td> <td> 0.435</td> <td>   -0.100     0.230</td>\n",
       "</tr>\n",
       "<tr>\n",
       "  <th>axhealth</th>        <td>   -0.0750</td> <td>    0.055</td> <td>   -1.369</td> <td> 0.175</td> <td>   -0.184     0.034</td>\n",
       "</tr>\n",
       "<tr>\n",
       "  <th>fa</th>              <td>    0.0117</td> <td>    0.101</td> <td>    0.115</td> <td> 0.909</td> <td>   -0.190     0.213</td>\n",
       "</tr>\n",
       "<tr>\n",
       "  <th>finance_pre</th>     <td>    0.0195</td> <td>    0.050</td> <td>    0.390</td> <td> 0.698</td> <td>   -0.080     0.119</td>\n",
       "</tr>\n",
       "<tr>\n",
       "  <th>gdp_pc_pp</th>       <td>  -1.2e-06</td> <td> 1.34e-06</td> <td>   -0.894</td> <td> 0.374</td> <td>-3.88e-06  1.48e-06</td>\n",
       "</tr>\n",
       "<tr>\n",
       "  <th>pe</th>              <td>    0.0842</td> <td>    0.011</td> <td>    7.511</td> <td> 0.000</td> <td>    0.062     0.107</td>\n",
       "</tr>\n",
       "<tr>\n",
       "  <th>plgp</th>            <td>    0.1145</td> <td>    0.045</td> <td>    2.550</td> <td> 0.013</td> <td>    0.025     0.204</td>\n",
       "</tr>\n",
       "<tr>\n",
       "  <th>prepare_scaleup</th> <td>    0.0614</td> <td>    0.049</td> <td>    1.251</td> <td> 0.215</td> <td>   -0.036     0.159</td>\n",
       "</tr>\n",
       "<tr>\n",
       "  <th>protection</th>      <td>    0.0001</td> <td>    0.000</td> <td>    0.336</td> <td> 0.738</td> <td>   -0.001     0.001</td>\n",
       "</tr>\n",
       "<tr>\n",
       "  <th>pv</th>              <td>   -0.0485</td> <td>    0.008</td> <td>   -6.250</td> <td> 0.000</td> <td>   -0.064    -0.033</td>\n",
       "</tr>\n",
       "<tr>\n",
       "  <th>rating</th>          <td>    0.0372</td> <td>    0.032</td> <td>    1.176</td> <td> 0.244</td> <td>   -0.026     0.100</td>\n",
       "</tr>\n",
       "<tr>\n",
       "  <th>share1</th>          <td>    2.3150</td> <td>    0.351</td> <td>    6.588</td> <td> 0.000</td> <td>    1.614     3.016</td>\n",
       "</tr>\n",
       "<tr>\n",
       "  <th>shew</th>            <td>   -0.0191</td> <td>    0.042</td> <td>   -0.453</td> <td> 0.652</td> <td>   -0.103     0.065</td>\n",
       "</tr>\n",
       "<tr>\n",
       "  <th>social_p</th>        <td>    0.1850</td> <td>    0.037</td> <td>    5.044</td> <td> 0.000</td> <td>    0.112     0.258</td>\n",
       "</tr>\n",
       "<tr>\n",
       "  <th>social_r</th>        <td>    0.1140</td> <td>    0.059</td> <td>    1.926</td> <td> 0.058</td> <td>   -0.004     0.232</td>\n",
       "</tr>\n",
       "<tr>\n",
       "  <th>unemp</th>           <td>    0.0536</td> <td>    0.100</td> <td>    0.534</td> <td> 0.595</td> <td>   -0.147     0.254</td>\n",
       "</tr>\n",
       "<tr>\n",
       "  <th>v</th>               <td>   -0.0026</td> <td>    0.044</td> <td>   -0.060</td> <td> 0.952</td> <td>   -0.090     0.084</td>\n",
       "</tr>\n",
       "</table>\n",
       "<table class=\"simpletable\">\n",
       "<tr>\n",
       "  <th>Omnibus:</th>       <td>16.997</td> <th>  Durbin-Watson:     </th> <td>   2.037</td>\n",
       "</tr>\n",
       "<tr>\n",
       "  <th>Prob(Omnibus):</th> <td> 0.000</td> <th>  Jarque-Bera (JB):  </th> <td>  22.754</td>\n",
       "</tr>\n",
       "<tr>\n",
       "  <th>Skew:</th>          <td> 0.881</td> <th>  Prob(JB):          </th> <td>1.15e-05</td>\n",
       "</tr>\n",
       "<tr>\n",
       "  <th>Kurtosis:</th>      <td> 4.721</td> <th>  Cond. No.          </th> <td>5.11e+20</td>\n",
       "</tr>\n",
       "</table>"
      ],
      "text/plain": [
       "<class 'statsmodels.iolib.summary.Summary'>\n",
       "\"\"\"\n",
       "                            OLS Regression Results                            \n",
       "==============================================================================\n",
       "Dep. Variable:             resilience   R-squared:                       0.913\n",
       "Model:                            OLS   Adj. R-squared:                  0.891\n",
       "Method:                 Least Squares   F-statistic:                     41.30\n",
       "Date:                Tue, 21 Jul 2015   Prob (F-statistic):           1.92e-30\n",
       "Time:                        17:46:30   Log-Likelihood:                 162.43\n",
       "No. Observations:                  90   AIC:                            -286.9\n",
       "Df Residuals:                      71   BIC:                            -239.4\n",
       "Df Model:                          18                                         \n",
       "Covariance Type:            nonrobust                                         \n",
       "===================================================================================\n",
       "                      coef    std err          t      P>|t|      [95.0% Conf. Int.]\n",
       "-----------------------------------------------------------------------------------\n",
       "Intercept           0.4212      0.056      7.511      0.000         0.309     0.533\n",
       "avg_prod_k         -0.4145      0.046     -8.953      0.000        -0.507    -0.322\n",
       "axfin_p            -0.0309      0.104     -0.299      0.766        -0.237     0.176\n",
       "axfin_r             0.0648      0.083      0.784      0.435        -0.100     0.230\n",
       "axhealth           -0.0750      0.055     -1.369      0.175        -0.184     0.034\n",
       "fa                  0.0117      0.101      0.115      0.909        -0.190     0.213\n",
       "finance_pre         0.0195      0.050      0.390      0.698        -0.080     0.119\n",
       "gdp_pc_pp         -1.2e-06   1.34e-06     -0.894      0.374     -3.88e-06  1.48e-06\n",
       "pe                  0.0842      0.011      7.511      0.000         0.062     0.107\n",
       "plgp                0.1145      0.045      2.550      0.013         0.025     0.204\n",
       "prepare_scaleup     0.0614      0.049      1.251      0.215        -0.036     0.159\n",
       "protection          0.0001      0.000      0.336      0.738        -0.001     0.001\n",
       "pv                 -0.0485      0.008     -6.250      0.000        -0.064    -0.033\n",
       "rating              0.0372      0.032      1.176      0.244        -0.026     0.100\n",
       "share1              2.3150      0.351      6.588      0.000         1.614     3.016\n",
       "shew               -0.0191      0.042     -0.453      0.652        -0.103     0.065\n",
       "social_p            0.1850      0.037      5.044      0.000         0.112     0.258\n",
       "social_r            0.1140      0.059      1.926      0.058        -0.004     0.232\n",
       "unemp               0.0536      0.100      0.534      0.595        -0.147     0.254\n",
       "v                  -0.0026      0.044     -0.060      0.952        -0.090     0.084\n",
       "==============================================================================\n",
       "Omnibus:                       16.997   Durbin-Watson:                   2.037\n",
       "Prob(Omnibus):                  0.000   Jarque-Bera (JB):               22.754\n",
       "Skew:                           0.881   Prob(JB):                     1.15e-05\n",
       "Kurtosis:                       4.721   Cond. No.                     5.11e+20\n",
       "==============================================================================\n",
       "\n",
       "Warnings:\n",
       "[1] Standard Errors assume that the covariance matrix of the errors is correctly specified.\n",
       "[2] The smallest eigenvalue is 1.47e-31. This might indicate that there are\n",
       "strong multicollinearity problems or that the design matrix is singular.\n",
       "\"\"\""
      ]
     },
     "execution_count": 102,
     "metadata": {},
     "output_type": "execute_result"
    }
   ],
   "source": [
    "explicative_set = ['avg_prod_k', 'axfin_p', 'axfin_r', 'axhealth', 'fa', 'finance_pre', 'gdp_pc_pp', \n",
    "                   'pe', 'plgp', 'prepare_scaleup', 'protection', 'pv', 'rating', 'share1',\n",
    "                   'shew', 'social_p', 'social_r', 'unemp', 'v']\n",
    "\n",
    "formula =\"resilience ~ \"+\" + \".join(explicative_set) \n",
    "olsmodel=ols(formula,data=df_with_results).fit()\n",
    "\n",
    "a=olsmodel.summary()\n",
    "f = open('regression_against_intpus.csv', 'w')\n",
    "f.write(a.as_csv())\n",
    "f.close()\n",
    "a"
   ]
  },
  {
   "cell_type": "code",
   "execution_count": 103,
   "metadata": {
    "collapsed": false
   },
   "outputs": [],
   "source": [
    "b=olsmodel.params[olsmodel.pvalues<15e-2]\n",
    "b=b.reset_index()\n",
    "b[\"desc\"]=b[\"index\"].replace(pd.read_csv(\"inputs_info.csv\",usecols=[\"key\",\"descriptor\"],index_col=\"key\",squeeze=True))\n",
    "b.set_index(\"desc\")[0].to_csv(\"main_ols.csv\")"
   ]
  },
  {
   "cell_type": "code",
   "execution_count": 104,
   "metadata": {
    "collapsed": false
   },
   "outputs": [
    {
     "data": {
      "text/html": [
       "<div>\n",
       "<table border=\"1\" class=\"dataframe\">\n",
       "  <thead>\n",
       "    <tr style=\"text-align: right;\">\n",
       "      <th></th>\n",
       "      <th>index</th>\n",
       "      <th>0</th>\n",
       "      <th>desc</th>\n",
       "    </tr>\n",
       "  </thead>\n",
       "  <tbody>\n",
       "    <tr>\n",
       "      <th>1</th>\n",
       "      <td>avg_prod_k</td>\n",
       "      <td>-0.414473894</td>\n",
       "      <td>Productivity of capital</td>\n",
       "    </tr>\n",
       "    <tr>\n",
       "      <th>4</th>\n",
       "      <td>pv</td>\n",
       "      <td>-0.048505979</td>\n",
       "      <td>Asset-vulnerability bias</td>\n",
       "    </tr>\n",
       "    <tr>\n",
       "      <th>2</th>\n",
       "      <td>pe</td>\n",
       "      <td>0.084241070</td>\n",
       "      <td>Exposure bias</td>\n",
       "    </tr>\n",
       "    <tr>\n",
       "      <th>7</th>\n",
       "      <td>social_r</td>\n",
       "      <td>0.114028044</td>\n",
       "      <td>Social protection for non-poor people</td>\n",
       "    </tr>\n",
       "    <tr>\n",
       "      <th>3</th>\n",
       "      <td>plgp</td>\n",
       "      <td>0.114494641</td>\n",
       "      <td>Basic education</td>\n",
       "    </tr>\n",
       "    <tr>\n",
       "      <th>6</th>\n",
       "      <td>social_p</td>\n",
       "      <td>0.185043661</td>\n",
       "      <td>Social protection for poor people</td>\n",
       "    </tr>\n",
       "    <tr>\n",
       "      <th>0</th>\n",
       "      <td>Intercept</td>\n",
       "      <td>0.421205351</td>\n",
       "      <td>Intercept</td>\n",
       "    </tr>\n",
       "    <tr>\n",
       "      <th>5</th>\n",
       "      <td>share1</td>\n",
       "      <td>2.315034795</td>\n",
       "      <td>Income share of bottom quintile</td>\n",
       "    </tr>\n",
       "  </tbody>\n",
       "</table>\n",
       "</div>"
      ],
      "text/plain": [
       "        index            0                                   desc\n",
       "1  avg_prod_k -0.414473894                Productivity of capital\n",
       "4          pv -0.048505979               Asset-vulnerability bias\n",
       "2          pe  0.084241070                          Exposure bias\n",
       "7    social_r  0.114028044  Social protection for non-poor people\n",
       "3        plgp  0.114494641                        Basic education\n",
       "6    social_p  0.185043661      Social protection for poor people\n",
       "0   Intercept  0.421205351                              Intercept\n",
       "5      share1  2.315034795        Income share of bottom quintile"
      ]
     },
     "execution_count": 104,
     "metadata": {},
     "output_type": "execute_result"
    }
   ],
   "source": [
    "b.sort(columns=0)"
   ]
  },
  {
   "cell_type": "code",
   "execution_count": 105,
   "metadata": {
    "collapsed": false
   },
   "outputs": [
    {
     "data": {
      "text/html": [
       "<div>\n",
       "<table border=\"1\" class=\"dataframe\">\n",
       "  <thead>\n",
       "    <tr style=\"text-align: right;\">\n",
       "      <th></th>\n",
       "      <th>index</th>\n",
       "      <th>0</th>\n",
       "      <th>desc</th>\n",
       "    </tr>\n",
       "  </thead>\n",
       "  <tbody>\n",
       "    <tr>\n",
       "      <th>0</th>\n",
       "      <td>Intercept</td>\n",
       "      <td>0.421205351</td>\n",
       "      <td>Intercept</td>\n",
       "    </tr>\n",
       "    <tr>\n",
       "      <th>1</th>\n",
       "      <td>avg_prod_k</td>\n",
       "      <td>-0.414473894</td>\n",
       "      <td>Productivity of capital</td>\n",
       "    </tr>\n",
       "    <tr>\n",
       "      <th>2</th>\n",
       "      <td>pe</td>\n",
       "      <td>0.084241070</td>\n",
       "      <td>Exposure bias</td>\n",
       "    </tr>\n",
       "    <tr>\n",
       "      <th>3</th>\n",
       "      <td>plgp</td>\n",
       "      <td>0.114494641</td>\n",
       "      <td>Basic education</td>\n",
       "    </tr>\n",
       "    <tr>\n",
       "      <th>4</th>\n",
       "      <td>pv</td>\n",
       "      <td>-0.048505979</td>\n",
       "      <td>Asset-vulnerability bias</td>\n",
       "    </tr>\n",
       "    <tr>\n",
       "      <th>5</th>\n",
       "      <td>share1</td>\n",
       "      <td>2.315034795</td>\n",
       "      <td>Income share of bottom quintile</td>\n",
       "    </tr>\n",
       "    <tr>\n",
       "      <th>6</th>\n",
       "      <td>social_p</td>\n",
       "      <td>0.185043661</td>\n",
       "      <td>Social protection for poor people</td>\n",
       "    </tr>\n",
       "    <tr>\n",
       "      <th>7</th>\n",
       "      <td>social_r</td>\n",
       "      <td>0.114028044</td>\n",
       "      <td>Social protection for non-poor people</td>\n",
       "    </tr>\n",
       "  </tbody>\n",
       "</table>\n",
       "</div>"
      ],
      "text/plain": [
       "        index            0                                   desc\n",
       "0   Intercept  0.421205351                              Intercept\n",
       "1  avg_prod_k -0.414473894                Productivity of capital\n",
       "2          pe  0.084241070                          Exposure bias\n",
       "3        plgp  0.114494641                        Basic education\n",
       "4          pv -0.048505979               Asset-vulnerability bias\n",
       "5      share1  2.315034795        Income share of bottom quintile\n",
       "6    social_p  0.185043661      Social protection for poor people\n",
       "7    social_r  0.114028044  Social protection for non-poor people"
      ]
     },
     "execution_count": 105,
     "metadata": {},
     "output_type": "execute_result"
    }
   ],
   "source": [
    "b"
   ]
  },
  {
   "cell_type": "code",
   "execution_count": null,
   "metadata": {
    "collapsed": true
   },
   "outputs": [],
   "source": []
  },
  {
   "cell_type": "code",
   "execution_count": null,
   "metadata": {
    "collapsed": true
   },
   "outputs": [],
   "source": []
  }
 ],
 "metadata": {
  "kernelspec": {
   "display_name": "Python 3",
   "language": "python",
   "name": "python3"
  },
  "language_info": {
   "codemirror_mode": {
    "name": "ipython",
    "version": 3
   },
   "file_extension": ".py",
   "mimetype": "text/x-python",
   "name": "python",
   "nbconvert_exporter": "python",
   "pygments_lexer": "ipython3",
   "version": "3.4.1"
  }
 },
 "nbformat": 4,
 "nbformat_minor": 0
}
