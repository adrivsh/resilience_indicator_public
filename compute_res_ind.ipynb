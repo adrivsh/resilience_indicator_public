{
 "cells": [
  {
   "cell_type": "code",
   "execution_count": 1,
   "metadata": {
    "collapsed": false
   },
   "outputs": [],
   "source": [
    "%reset-f\n",
    "%load_ext autoreload\n",
    "%autoreload\n",
    "%matplotlib inline"
   ]
  },
  {
   "cell_type": "code",
   "execution_count": 2,
   "metadata": {
    "collapsed": false
   },
   "outputs": [],
   "source": [
    "from pandas.io import wb\n",
    "import pandas as pd\n",
    "import numpy as np\n",
    "import statsmodels.formula.api as sm\n",
    "import matplotlib.pyplot as plt\n",
    "%autoreload\n",
    "from res_ind_lib import *\n",
    "import os, time\n",
    "import warnings\n",
    "warnings.filterwarnings(\"always\",category=UserWarning)"
   ]
  },
  {
   "cell_type": "markdown",
   "metadata": {},
   "source": [
    "# Data"
   ]
  },
  {
   "cell_type": "markdown",
   "metadata": {},
   "source": [
    "###  from the world bank"
   ]
  },
  {
   "cell_type": "code",
   "execution_count": 3,
   "metadata": {
    "collapsed": false
   },
   "outputs": [
    {
     "data": {
      "text/plain": [
       "(75, 12)"
      ]
     },
     "execution_count": 3,
     "metadata": {},
     "output_type": "execute_result"
    }
   ],
   "source": [
    "nb_weeks = (time.time()-os.stat(\"wb_data.csv\").st_mtime )/(3600*24*7)\n",
    "if nb_weeks>10: \n",
    "    warnings.warn(\"World bank data are \"+str(int(nb_weeks))+\" weeks old. You may want to download them again.\")\n",
    "df=pd.read_csv(\"wb_data.csv\").set_index(\"country\")\n",
    "df.dropna().shape"
   ]
  },
  {
   "cell_type": "code",
   "execution_count": 4,
   "metadata": {
    "collapsed": false
   },
   "outputs": [],
   "source": [
    "#Income gorups for countries and HIPC status\n",
    "groups = pd.read_csv(\"income_groups.csv\",header =4,index_col=2).replace({\"ROM\":\"ROU\",\"ZAR\":\"COD\"})  #they used old iso3 country for Zair (Congo) and Romania\n",
    "groups= groups[[\"Code\",\"Region\",\"Income group\",\"Lending category\",\"Other\"]]\n",
    "groups.dropna(axis=0,how=\"all\",inplace=True);\n",
    "groups.rename(columns={\"Other\":\"HIPC\"},inplace=True)\n",
    "groups['HIPC'].fillna('norm',inplace=True)\n",
    "groups[\"Lending category\"].replace(\"..\",\"\",inplace=True)\n",
    "\n",
    "df[\"iso3\"]=groups[\"Code\"]\n"
   ]
  },
  {
   "cell_type": "code",
   "execution_count": 5,
   "metadata": {
    "collapsed": false
   },
   "outputs": [],
   "source": [
    "def names_to_wb_name(df_in,any_name_to_iso3,iso3_to_unique_name,common_name=\"iso3\",end_name=\"country\"):\n",
    "    \"\"\"Matches arbitrary country names from a dataset to world bank country names thru iso3 codes\"\"\"\n",
    "    \n",
    "    df=pd.DataFrame(df_in)\n",
    "    \n",
    "    index_name=df.index.name\n",
    "    \n",
    "    df[common_name]=any_name_to_iso3[common_name]\n",
    "    \n",
    "    #warns and prints if some countries are not recognized\n",
    "    cond = df[common_name].isnull()\n",
    "    if cond.sum()>0:\n",
    "        warnings.warn(\"Unrecognized countries in 1st argument 'df':\"+\", \".join((df.index[cond].values)))\n",
    "        warnings.warn(\"Correct 'df' or add lines to 2nd argument 'any_name_to_iso3'\")\n",
    "    \n",
    "    df=df.dropna()\n",
    "    \n",
    "    #warning if missing\n",
    "    df =df.reset_index().set_index(common_name)\n",
    "    df[end_name]=iso3_to_unique_name\n",
    "    cond = df[end_name].isnull()\n",
    "    if cond.sum()>0:\n",
    "        warnings.warn(\"this countries appear to be missing from 3rd argument 'iso3_to_unique_name':\"+\", \".join((df.index[cond])))\n",
    "\n",
    "           \n",
    "    #return df with original indexing\n",
    "    return df.dropna().set_index(index_name)"
   ]
  },
  {
   "cell_type": "markdown",
   "metadata": {},
   "source": [
    "### Definitions"
   ]
  },
  {
   "cell_type": "code",
   "execution_count": 6,
   "metadata": {
    "collapsed": false
   },
   "outputs": [],
   "source": [
    "# share of poor individuals, we chose the bottom 20\n",
    "ph=df[\"pov_head\"]=0.2 "
   ]
  },
  {
   "cell_type": "markdown",
   "metadata": {},
   "source": [
    "### HFA"
   ]
  },
  {
   "cell_type": "markdown",
   "metadata": {},
   "source": [
    "gets hfa data"
   ]
  },
  {
   "cell_type": "code",
   "execution_count": 7,
   "metadata": {
    "collapsed": false
   },
   "outputs": [],
   "source": [
    "# READ THE LAST HFA DATA\n",
    "hfa_newest =   pd.read_csv(\"HFA_all_2011_2013.csv\").rename(columns={\"ISO 3\":\"iso3\",\"Country name\":\"country\"}).set_index(\"country\")\n",
    "\n",
    "# READ THE PREVIOUS HFA DATA\n",
    "hfa_previous = pd.read_csv(\"HFA_all_2009_2011.csv\").rename(columns={\"ISO 3\":\"iso3\",\"Country name\":\"country\"}).set_index(\"country\")\n",
    "\n",
    "#most recent values... if no 2011-2013 reporting, we use 2009-2011\n",
    "hfa=hfa_newest.fillna(hfa_previous)\n",
    "\n",
    "# access to early warning = priority for action 2, indicator 3 of the HFA\n",
    "hfa[\"shew\"]=1/5*hfa[\"P2-C3\"] # between zero and 1. \n",
    "\n",
    "# ability to scale up = average of priority for action 5 of the HFA\n",
    "hfa[\"prepare_scaleup\"]=(hfa[\"P5-C1\"]+hfa[\"P5-C2\"]+hfa[\"P5-C4\"])/3/5 # between zero and 1\n",
    "hfa[\"finance_pre\"] = hfa[\"P5-C3\"]/5 #betwenn 0 and 1\n"
   ]
  },
  {
   "cell_type": "markdown",
   "metadata": {},
   "source": [
    "matches names with wb names"
   ]
  },
  {
   "cell_type": "code",
   "execution_count": 8,
   "metadata": {
    "collapsed": false
   },
   "outputs": [],
   "source": [
    "#this table matches country names rendered in several ways to their actual iso2 and iso3 codes\n",
    "any_name_to_iso3 =pd.read_csv(\"names_to_iso.csv\").set_index(\"country\")\n",
    "#this tables has WB country names and iso3 countries\n",
    "iso3_to_unique_name = pd.read_csv(\"iso3_to_wb_name.csv\").set_index(\"iso3\")\n",
    "\n",
    "#matches names in HFA to  names\n",
    "df[[\"shew\",\"prepare_scaleup\",\"finance_pre\"]]= names_to_wb_name(hfa[[\"shew\",\"prepare_scaleup\",\"finance_pre\"]],any_name_to_iso3,iso3_to_unique_name) \n",
    "\n",
    "# Assumes that no HFA reporting means no preparation\n",
    "df[[\"shew\",\"prepare_scaleup\",\"finance_pre\"]] = df[[\"shew\",\"prepare_scaleup\",\"finance_pre\"]].fillna(0)"
   ]
  },
  {
   "cell_type": "markdown",
   "metadata": {},
   "source": [
    "### EUsilc and other countries"
   ]
  },
  {
   "cell_type": "code",
   "execution_count": 9,
   "metadata": {
    "collapsed": false
   },
   "outputs": [],
   "source": [
    "silc = pd.read_csv(\"social_ratios.csv\")\n",
    "#EU cuntry code to iso2 \n",
    "silc[\"iso2\"]=silc[\"cc\"].replace({\"EL\":\"GR\",\"UK\":\"GB\"}) #Greece and UK\n",
    "silc.set_index(\"iso2\",inplace=True)\n",
    "\n",
    "#iso3 to wb country name table\n",
    "iso3_to_wb=pd.read_csv(\"iso3_to_wb_name.csv\").set_index(\"iso3\")\n",
    "\n",
    "#iso2 to iso3 table\n",
    "iso2_iso3 = pd.read_csv(\"names_to_iso.csv\")[[\"iso2\",\"iso3\"]].drop_duplicates().set_index(\"iso3\") #the tables has more lines than countries to account for several ways of writing country names\n",
    "\n",
    "#iso2 to WB \n",
    "iso2_iso3[\"country\"]=iso3_to_wb[\"country\"]\n",
    "iso2_country=iso2_iso3.reset_index().set_index(\"iso2\")\n",
    "\n",
    "#indexes this data by WB country\n",
    "silc[\"country\"]=iso2_country[\"country\"]\n",
    "silc.set_index(\"country\",inplace=True)\n",
    "#silc.drop_duplicates(inplace=True)\n",
    "silc[\"social_p\"]\n",
    "\n",
    "df.ix[silc.index,[\"social_p\",\"social_r\"]]=silc[[\"social_p\",\"social_r\"]]"
   ]
  },
  {
   "cell_type": "markdown",
   "metadata": {},
   "source": [
    "### Country Ratings"
   ]
  },
  {
   "cell_type": "code",
   "execution_count": 10,
   "metadata": {
    "collapsed": false
   },
   "outputs": [],
   "source": [
    "#Reads the data and check its not too old\n",
    "the_credit_rating_file =\"cred_rat.csv\"\n",
    "nb_weeks = (time.time()-os.stat(the_credit_rating_file).st_mtime )/(3600*24*7)\n",
    "if nb_weeks>3: \n",
    "    warnings.warn(\"Credit ratings are \"+str(int(nb_weeks))+\" weeks old. Get new ones at http://www.tradingeconomics.com/country-list/rating\")\n",
    "ratings_raw  =pd.read_csv(the_credit_rating_file,dtype=\"str\").dropna(how=\"all\")\n",
    "ratings_raw=ratings_raw.rename(columns={\"Unnamed: 0\": \"country_in_ratings\"}).set_index(\"country_in_ratings\")[[\"S&P\",\"Moody's\",\"Fitch\"]]\n",
    "ratings_raw.rename(index=str.strip,inplace=True)\n",
    "\n",
    "#this table matches country names rendered in several ways to their actual iso2 and iso3 codes\n",
    "names_to_iso =pd.read_csv(\"names_to_iso.csv\").set_index(\"country\")\n",
    "\n",
    "#this tables has WB country names and iso3 countries\n",
    "iso_country = pd.read_csv(\"iso3_to_wb_name.csv\").set_index(\"iso3\")\n",
    "\n",
    "ratings_raw =  names_to_wb_name(ratings_raw,names_to_iso,iso_country)\n",
    "#ratings_raw=ratings_raw.reset_index().set_index(\"country\")\n",
    "\n",
    "def mystriper(string):\n",
    "    \"\"\"strip blanks and converts everythng to lower case\"\"\"\n",
    "    if type(string)==str:\n",
    "        return str.strip(string).lower()\n",
    "    else:\n",
    "        return string\n",
    "        \n",
    "#to lower case and strips blanks\n",
    "ratings_raw=ratings_raw.applymap(mystriper)    \n",
    "\n",
    "#Transforms ratings letters into 1-100 numbers\n",
    "rat_disc = pd.read_csv(\"cred_rat_dict.csv\")\n",
    "ratings=ratings_raw\n",
    "ratings[\"S&P\"].replace(rat_disc[\"s&p\"].values,rat_disc[\"s&p_score\"].values,inplace=True)\n",
    "ratings[\"Moody's\"].replace(rat_disc[\"moodys\"].values,rat_disc[\"moodys_score\"].values,inplace=True)\n",
    "ratings[\"Fitch\"].replace(rat_disc[\"fitch\"].values,rat_disc[\"fitch_score\"].values,inplace=True)\n",
    "df[\"rating\"]=ratings.mean(axis=1)/100\n",
    "\n",
    "df[\"rating\"].fillna(0,inplace=True)  #assumes no rating is bad rating\n"
   ]
  },
  {
   "cell_type": "markdown",
   "metadata": {},
   "source": [
    "### Capital data"
   ]
  },
  {
   "cell_type": "code",
   "execution_count": 11,
   "metadata": {
    "collapsed": false
   },
   "outputs": [],
   "source": [
    "#data arranged from Penn tables\n",
    "k_data=pd.read_csv(\"capital_data.csv\")[[\"code\",\"cgdpo\",\"ck\"]].replace({\"ROM\":\"ROU\",\"ZAR\":\"COD\"}).rename(columns={\"cgdpo\":\"prod_from_k\",\"ck\":\"k\"})#Zair is congo\n",
    "\n",
    "#matches names in the dataset with world bank country names\n",
    "iso_country = pd.read_csv(\"iso3_to_wb_name.csv\").set_index(\"iso3\")\n",
    "k_data.set_index(\"code\",inplace=True)\n",
    "k_data[\"country\"]=iso_country[\"country\"]\n",
    "cond = k_data[\"country\"].isnull()\n",
    "if cond.sum()>0:\n",
    "     warnings.warn(\"this countries appear to be missing from iso3_to_wb_name.csv: \"+\" , \".join(k_data.index[cond].values))\n",
    "k_data=k_data.reset_index().set_index(\"country\")\n",
    "\n",
    "# average productivity of capital\n",
    "df[\"avg_prod_k\"]=k_data[\"prod_from_k\"]/k_data[\"k\"]\n"
   ]
  },
  {
   "cell_type": "markdown",
   "metadata": {},
   "source": [
    "###Hazard (protection)"
   ]
  },
  {
   "cell_type": "code",
   "execution_count": 12,
   "metadata": {
    "collapsed": false
   },
   "outputs": [],
   "source": [
    "#assumed a function of the income group\n",
    "protection_assumptions = pd.read_csv(\"protection_level_assumptions.csv\").set_index(\"Income group\")\n",
    "df[\"protection\"]=groups[\"Income group\"].replace(protection_assumptions[\"protection\"].to_dict())"
   ]
  },
  {
   "cell_type": "markdown",
   "metadata": {},
   "source": [
    "### Exposure (population in flood-prone areas)"
   ]
  },
  {
   "cell_type": "code",
   "execution_count": 13,
   "metadata": {
    "collapsed": false
   },
   "outputs": [],
   "source": [
    "#Esposure data \n",
    "expo = pd.read_csv(\"people_affected_flood.csv\").set_index(\"ISO\")[[\"people_affected_RP10flood_percent\"]]\n",
    "\n",
    "iso3_to_wb_name = pd.read_csv(\"iso3_to_wb_name.csv\").set_index(\"iso3\")\n",
    "expo[\"country\"]=iso3_to_wb_name[\"country\"]\n",
    "\n",
    "df[\"faref\"]=df[\"fa\"]=expo.reset_index().dropna().set_index(\"country\")[[\"people_affected_RP10flood_percent\"]].dropna()\n",
    "\n",
    "#Exposure bias\n",
    "pe=df[\"peref\"] =df[\"pe\"]=.2\n"
   ]
  },
  {
   "cell_type": "markdown",
   "metadata": {},
   "source": [
    "### Vulnerability"
   ]
  },
  {
   "cell_type": "code",
   "execution_count": 14,
   "metadata": {
    "collapsed": false
   },
   "outputs": [
    {
     "name": "stderr",
     "output_type": "stream",
     "text": [
      "C:\\Users\\Admin\\Anaconda3\\lib\\site-packages\\IPython\\kernel\\__main__.py:8: UserWarning: this countries appear to be missing from iso3_to_wb_name.csv: ALA , ATA , BES , BVT , IOT , CXR , CCK , FLK , GUF , ATF , GIB , GLP , GGY , HMD , VAT , JEY , MTQ , MYT , MSR , NFK , PCN , REU , BLM , SHN , SPM , SGS , SJM , TKL , UMI , WLF , ESH.\n",
      "These are: Aland Islands , Antarctica , Bonaire , Bouvet Island , British Indian Ocean Territory , Christmas Island , the Cocos (Keeling) Islands , the Falkland Islands (Malvinas) , French Guiana , the French Southern Territories , Gibraltar , Guadeloupe , Guernsey , Heard Island and McDonald Islands , the Holy See (Vatican City State) , Jersey , Martinique , Mayotte , Montserrat , Norfolk Island , Pitcairn , Reunion , Saint Barthelemy , Saint Helena , Saint Pierre and Miquelon , South Georgia and the South Sandwich Islands , Svalbard and Jan Mayen , Tokelau , the United States Minor Outlying Islands , Wallis and Futuna , Western Sahara\n"
     ]
    }
   ],
   "source": [
    "#Reads data from pager\n",
    "pager=pd.read_csv(\"pager_vulnerabilities.csv\")[[\"ISO-3digit\",\"R_1\",\"R_2\",\"R_3\",\"VV_1\",\"VV_2\",\"VV_3\",\"Country Name\"]].set_index(\"ISO-3digit\")\n",
    "\n",
    "#indexes pager data by country        \n",
    "pager[\"country\"]=iso3_to_wb_name[\"country\"]\n",
    "cond = pager[\"country\"].isnull()\n",
    "if cond.sum()>0:\n",
    "     warnings.warn(\"this countries appear to be missing from iso3_to_wb_name.csv: \"+\" , \".join(pager.index[cond].values)+\".\\nThese are: \"+\" , \".join(pager.ix[cond,\"Country Name\"].values) )\n",
    "pager[\"country\"]=iso3_to_wb_name[\"country\"]\n",
    "hop=pager.dropna().reset_index().set_index(\"country\")\n",
    "\n",
    "#sorts vulnerabilites according to income\n",
    "share =hop[[\"R_1\",\"R_2\",\"R_3\"]]\n",
    "damrat=hop[[\"VV_1\",\"VV_2\",\"VV_3\"]]\n",
    "\n",
    "damrat.columns=[\"R_1\",\"R_2\",\"R_3\"]\n",
    "p=(share.cumsum(axis=1)-.20)\n",
    "p[p<0]=0\n",
    "poor=share-p\n",
    "poor[poor<0]=0\n",
    "\n",
    "vp=(poor*damrat).sum(axis=1)/poor.sum(axis=1)\n",
    "rich=share-poor\n",
    "\n",
    "vr=(rich*damrat).sum(axis=1)/rich.sum(axis=1)\n"
   ]
  },
  {
   "cell_type": "code",
   "execution_count": 15,
   "metadata": {
    "collapsed": false
   },
   "outputs": [],
   "source": [
    "#Expresses vulnerability as total and bias\n",
    "\n",
    "fa=df[\"fa\"]\n",
    "pe=df[\"peref\"] =df[\"pe\"]\n",
    "fap=fa*(1+pe)\n",
    "far=(fa-ph*fap)/(1-ph)\n",
    "\n",
    "df[\"share1_ref\"]=df[\"share1\"]\n",
    "cp=   df[\"share1\"] /.2*df[\"gdp_pc_pp\"]\n",
    "cr=(1-df[\"share1\"])/.8*df[\"gdp_pc_pp\"]\n",
    "\n",
    "df[\"v\"]  = (ph*vp*cp*fap + (1-ph)*vr*cr*far)/(ph*cp*fap + (1-ph)*cr*far)\n",
    "df[\"pv\"] =  vp/df.v-1\n",
    "\n",
    "#vulnerability of diversified (shared) capital\n",
    "df[\"v_s\"]=vr"
   ]
  },
  {
   "cell_type": "markdown",
   "metadata": {},
   "source": [
    "\n",
    "\n",
    "### Homogenity of losses"
   ]
  },
  {
   "cell_type": "code",
   "execution_count": 16,
   "metadata": {
    "collapsed": false
   },
   "outputs": [],
   "source": [
    "#resds loss distribution in mumbai\n",
    "hop=pd.read_csv(\"losses_distribution_mumbai.csv\",index_col=0)[\"losses/asset_cost\"]\n",
    "# standard deviation of the underlying normal distribution\n",
    "s = np.log(hop).std() \n",
    "\n",
    "df[\"H\"]= np.exp (-s**2/2)\n"
   ]
  },
  {
   "cell_type": "markdown",
   "metadata": {},
   "source": [
    "## Report missing data for the national studies"
   ]
  },
  {
   "cell_type": "code",
   "execution_count": 17,
   "metadata": {
    "collapsed": false
   },
   "outputs": [
    {
     "data": {
      "text/html": [
       "<div style=\"max-height:1000px;max-width:1500px;overflow:auto;\">\n",
       "<table border=\"1\" class=\"dataframe\">\n",
       "  <thead>\n",
       "    <tr style=\"text-align: right;\">\n",
       "      <th></th>\n",
       "      <th>nb_missing</th>\n",
       "      <th>missing_data</th>\n",
       "    </tr>\n",
       "    <tr>\n",
       "      <th>country</th>\n",
       "      <th></th>\n",
       "      <th></th>\n",
       "    </tr>\n",
       "  </thead>\n",
       "  <tbody>\n",
       "    <tr>\n",
       "      <th>Djibouti</th>\n",
       "      <td>1</td>\n",
       "      <td>unemp</td>\n",
       "    </tr>\n",
       "    <tr>\n",
       "      <th>Togo</th>\n",
       "      <td>1</td>\n",
       "      <td>social_p</td>\n",
       "    </tr>\n",
       "    <tr>\n",
       "      <th>Nicaragua</th>\n",
       "      <td>1</td>\n",
       "      <td>avg_prod_k</td>\n",
       "    </tr>\n",
       "    <tr>\n",
       "      <th>Lesotho</th>\n",
       "      <td>2</td>\n",
       "      <td>social_p, social_r</td>\n",
       "    </tr>\n",
       "    <tr>\n",
       "      <th>Russian Federation</th>\n",
       "      <td>2</td>\n",
       "      <td>social_p, social_r</td>\n",
       "    </tr>\n",
       "  </tbody>\n",
       "</table>\n",
       "</div>"
      ],
      "text/plain": [
       "                    nb_missing        missing_data\n",
       "country                                           \n",
       "Djibouti                     1               unemp\n",
       "Togo                         1            social_p\n",
       "Nicaragua                    1          avg_prod_k\n",
       "Lesotho                      2  social_p, social_r\n",
       "Russian Federation           2  social_p, social_r"
      ]
     },
     "execution_count": 17,
     "metadata": {},
     "output_type": "execute_result"
    }
   ],
   "source": [
    "def write_missing_data(s):\n",
    "    which = s[s.isnull()].index.values\n",
    "    return \", \".join(which)\n",
    "\n",
    "def count_missing_data(s):\n",
    "    return s.isnull().sum()\n",
    "\n",
    "report = pd.DataFrame()\n",
    "\n",
    "report[\"nb_missing\"]=df.apply(count_missing_data,axis=1)  \n",
    "report[\"missing_data\"]=df.apply(write_missing_data,axis=1)\n",
    "\n",
    "report  = report.ix[report[\"nb_missing\"]>0,:]\n",
    "report.sort(columns=\"nb_missing\",inplace=True)\n",
    "report.to_csv(\"missing_data_report.csv\")\n",
    "\n",
    "report.head()"
   ]
  },
  {
   "cell_type": "markdown",
   "metadata": {},
   "source": [
    "## manual parametrization"
   ]
  },
  {
   "cell_type": "code",
   "execution_count": 18,
   "metadata": {
    "collapsed": false
   },
   "outputs": [],
   "source": [
    "# no ripple effects\n",
    "df[\"alpha\"] =0 \n",
    "\n",
    "#Reconstruction time\n",
    "df[\"T_rebuild_K\"] = 3\n",
    "df[\"T_rebuild_L\"] = 40\n",
    "\n",
    "# how much early warning reduces vulnerability\n",
    "df[\"pi\"] = 0.2\n",
    "\n",
    "#income elasticity\n",
    "df[\"income_elast\"] = 1.5"
   ]
  },
  {
   "cell_type": "markdown",
   "metadata": {},
   "source": [
    "##sensitivity anlysis"
   ]
  },
  {
   "cell_type": "code",
   "execution_count": 19,
   "metadata": {
    "collapsed": false
   },
   "outputs": [],
   "source": [
    "df[\"original_country\"]=df.index;\n",
    "\n",
    "country_sens_list=[\"Malawi\",\"Sweden\"]\n",
    "#reads paramters to be varied\n",
    "alt_params=pd.read_csv(\"alt_params.csv\",header=None,squeeze=True,index_col=0)\n",
    "\n",
    "df_sensit = pd.DataFrame(columns=df.columns)\n",
    "\n",
    "for c in country_sens_list:\n",
    "    for param in alt_params.index.tolist():\n",
    "        new_value = alt_params[param]\n",
    "        d = c+\"_\"+param+\"_\"+str(new_value)\n",
    "        df_sensit.ix[d] = df.ix[c]\n",
    "        df_sensit.ix[d,param] =new_value\n",
    "        df_sensit.ix[d,\"original_country\"]=c\n",
    "        \n",
    "for c in df.index:\n",
    "    for param in [\"income_elast\"]:\n",
    "        for new_value in [1, 2]:\n",
    "            d = c+\"_\"+param+\"_\"+str(new_value)\n",
    "            df_sensit.ix[d] = df.ix[c]\n",
    "            df_sensit.ix[d,param] =new_value\n",
    "            df_sensit.ix[d,\"original_country\"]=c        \n",
    "\n",
    "df_sensit.index.name=\"country\"; #after adding indices pandas forgets their name"
   ]
  },
  {
   "cell_type": "markdown",
   "metadata": {},
   "source": [
    "# Computes and saves national resilience"
   ]
  },
  {
   "cell_type": "markdown",
   "metadata": {},
   "source": [
    "Central cases"
   ]
  },
  {
   "cell_type": "code",
   "execution_count": 20,
   "metadata": {
    "collapsed": false
   },
   "outputs": [],
   "source": [
    "#saves orginal dataframe before adding columns with results\n",
    "df.drop(\"iso3\", axis=1).to_csv(\"df_original.csv\")"
   ]
  },
  {
   "cell_type": "code",
   "execution_count": 21,
   "metadata": {
    "collapsed": false
   },
   "outputs": [
    {
     "name": "stdout",
     "output_type": "stream",
     "text": [
      "nb countries with all data :92\n",
      "nb countries with all data and results :92\n"
     ]
    }
   ],
   "source": [
    "df_with_results=compute_resiliences(df)\n",
    "print(\"nb countries with all data :\"+str(df.dropna().shape[0]))\n",
    "print(\"nb countries with all data and results :\"+str(df_with_results[\"resilience\"].dropna().shape[0]))\n",
    "df_with_results.to_csv(\"df.csv\")"
   ]
  },
  {
   "cell_type": "markdown",
   "metadata": {},
   "source": [
    "Sensititvity analysis"
   ]
  },
  {
   "cell_type": "code",
   "execution_count": 22,
   "metadata": {
    "collapsed": true
   },
   "outputs": [],
   "source": [
    "df_sensit.drop(\"iso3\", axis=1).to_csv(\"df_sensit_input.csv\")"
   ]
  },
  {
   "cell_type": "code",
   "execution_count": 23,
   "metadata": {
    "collapsed": true
   },
   "outputs": [],
   "source": [
    "compute_resiliences(df_sensit).to_csv(\"df_sensit_results.csv\")"
   ]
  },
  {
   "cell_type": "markdown",
   "metadata": {},
   "source": [
    "Basic reporting"
   ]
  },
  {
   "cell_type": "code",
   "execution_count": 24,
   "metadata": {
    "collapsed": false
   },
   "outputs": [
    {
     "data": {
      "text/plain": [
       "(25.168421240309442, 57.740567949969154, 81.120823843089354)"
      ]
     },
     "execution_count": 24,
     "metadata": {},
     "output_type": "execute_result"
    }
   ],
   "source": [
    "#Some stats\n",
    "a=df_with_results.resilience;\n",
    "a.min()*100,a.mean()*100,a.max()*100"
   ]
  },
  {
   "cell_type": "code",
   "execution_count": 25,
   "metadata": {
    "collapsed": false
   },
   "outputs": [],
   "source": [
    "#Outputs table with main results\n",
    "to_output = ['gdp_pc_pp', 'pop',\"protection\",\"fa\",\"v\",\"resilience\",\"risk\"]\n",
    "desc=pd.read_csv(\"inputs_info.csv\").set_index('key')[\"descriptor\"]\n",
    "df_with_results[to_output].rename(columns=desc.to_dict()).dropna().to_excel(\"results.xlsx\")\n"
   ]
  },
  {
   "cell_type": "markdown",
   "metadata": {
    "collapsed": true
   },
   "source": [
    "#Ex post studies"
   ]
  },
  {
   "cell_type": "code",
   "execution_count": 26,
   "metadata": {
    "collapsed": false
   },
   "outputs": [],
   "source": [
    "#Reads the data\n",
    "expost = pd.read_csv(\"expost_studies.csv\").set_index(\"place\")\n",
    "\n",
    "#fills the altnerative lines with default values\n",
    "expost_filled = expost.fillna( value=expost.ix[\"Mumbai\"],axis=0)\n",
    "\n",
    "#Computes resilience\n",
    "ep=compute_resiliences(expost_filled,kind=\"ex-post\")\n",
    "\n",
    "#Report\n",
    "ep[expost.columns]=expost\n",
    "ep.to_csv(\"expost_studies_with_results.csv\")\n"
   ]
  },
  {
   "cell_type": "markdown",
   "metadata": {},
   "source": [
    "# Simple OLS"
   ]
  },
  {
   "cell_type": "code",
   "execution_count": 27,
   "metadata": {
    "collapsed": false
   },
   "outputs": [],
   "source": [
    "from statsmodels.formula.api import ols"
   ]
  },
  {
   "cell_type": "code",
   "execution_count": 28,
   "metadata": {
    "collapsed": false
   },
   "outputs": [
    {
     "data": {
      "text/html": [
       "<table class=\"simpletable\">\n",
       "<caption>OLS Regression Results</caption>\n",
       "<tr>\n",
       "  <th>Dep. Variable:</th>       <td>resilience</td>    <th>  R-squared:         </th> <td>   0.915</td>\n",
       "</tr>\n",
       "<tr>\n",
       "  <th>Model:</th>                   <td>OLS</td>       <th>  Adj. R-squared:    </th> <td>   0.895</td>\n",
       "</tr>\n",
       "<tr>\n",
       "  <th>Method:</th>             <td>Least Squares</td>  <th>  F-statistic:       </th> <td>   43.91</td>\n",
       "</tr>\n",
       "<tr>\n",
       "  <th>Date:</th>             <td>Mon, 13 Apr 2015</td> <th>  Prob (F-statistic):</th> <td>6.82e-32</td>\n",
       "</tr>\n",
       "<tr>\n",
       "  <th>Time:</th>                 <td>18:51:20</td>     <th>  Log-Likelihood:    </th> <td>  166.61</td>\n",
       "</tr>\n",
       "<tr>\n",
       "  <th>No. Observations:</th>      <td>    92</td>      <th>  AIC:               </th> <td>  -295.2</td>\n",
       "</tr>\n",
       "<tr>\n",
       "  <th>Df Residuals:</th>          <td>    73</td>      <th>  BIC:               </th> <td>  -247.3</td>\n",
       "</tr>\n",
       "<tr>\n",
       "  <th>Df Model:</th>              <td>    18</td>      <th>                     </th>     <td> </td>   \n",
       "</tr>\n",
       "<tr>\n",
       "  <th>Covariance Type:</th>      <td>nonrobust</td>    <th>                     </th>     <td> </td>   \n",
       "</tr>\n",
       "</table>\n",
       "<table class=\"simpletable\">\n",
       "<tr>\n",
       "         <td></td>            <th>coef</th>     <th>std err</th>      <th>t</th>      <th>P>|t|</th> <th>[95.0% Conf. Int.]</th> \n",
       "</tr>\n",
       "<tr>\n",
       "  <th>Intercept</th>       <td>    0.3998</td> <td>    0.055</td> <td>    7.252</td> <td> 0.000</td> <td>    0.290     0.510</td>\n",
       "</tr>\n",
       "<tr>\n",
       "  <th>avg_prod_k</th>      <td>   -0.4122</td> <td>    0.044</td> <td>   -9.464</td> <td> 0.000</td> <td>   -0.499    -0.325</td>\n",
       "</tr>\n",
       "<tr>\n",
       "  <th>axfin_p</th>         <td>   -0.1405</td> <td>    0.110</td> <td>   -1.282</td> <td> 0.204</td> <td>   -0.359     0.078</td>\n",
       "</tr>\n",
       "<tr>\n",
       "  <th>axfin_r</th>         <td>    0.1510</td> <td>    0.087</td> <td>    1.738</td> <td> 0.086</td> <td>   -0.022     0.324</td>\n",
       "</tr>\n",
       "<tr>\n",
       "  <th>axhealth</th>        <td>   -0.0449</td> <td>    0.052</td> <td>   -0.863</td> <td> 0.391</td> <td>   -0.149     0.059</td>\n",
       "</tr>\n",
       "<tr>\n",
       "  <th>fa</th>              <td>    0.0861</td> <td>    0.105</td> <td>    0.822</td> <td> 0.414</td> <td>   -0.123     0.295</td>\n",
       "</tr>\n",
       "<tr>\n",
       "  <th>finance_pre</th>     <td>   -0.0154</td> <td>    0.067</td> <td>   -0.229</td> <td> 0.819</td> <td>   -0.149     0.119</td>\n",
       "</tr>\n",
       "<tr>\n",
       "  <th>gdp_pc_pp</th>       <td>-1.388e-06</td> <td> 1.27e-06</td> <td>   -1.095</td> <td> 0.277</td> <td>-3.92e-06  1.14e-06</td>\n",
       "</tr>\n",
       "<tr>\n",
       "  <th>pe</th>              <td>    0.0800</td> <td>    0.011</td> <td>    7.252</td> <td> 0.000</td> <td>    0.058     0.102</td>\n",
       "</tr>\n",
       "<tr>\n",
       "  <th>plgp</th>            <td>    0.0924</td> <td>    0.036</td> <td>    2.585</td> <td> 0.012</td> <td>    0.021     0.164</td>\n",
       "</tr>\n",
       "<tr>\n",
       "  <th>prepare_scaleup</th> <td>    0.1054</td> <td>    0.068</td> <td>    1.540</td> <td> 0.128</td> <td>   -0.031     0.242</td>\n",
       "</tr>\n",
       "<tr>\n",
       "  <th>protection</th>      <td> 4.521e-05</td> <td>    0.000</td> <td>    0.123</td> <td> 0.902</td> <td>   -0.001     0.001</td>\n",
       "</tr>\n",
       "<tr>\n",
       "  <th>pv</th>              <td>   -0.0483</td> <td>    0.008</td> <td>   -6.332</td> <td> 0.000</td> <td>   -0.063    -0.033</td>\n",
       "</tr>\n",
       "<tr>\n",
       "  <th>rating</th>          <td>    0.0360</td> <td>    0.032</td> <td>    1.129</td> <td> 0.263</td> <td>   -0.028     0.099</td>\n",
       "</tr>\n",
       "<tr>\n",
       "  <th>share1</th>          <td>    2.3690</td> <td>    0.344</td> <td>    6.879</td> <td> 0.000</td> <td>    1.683     3.055</td>\n",
       "</tr>\n",
       "<tr>\n",
       "  <th>shew</th>            <td>   -0.0224</td> <td>    0.042</td> <td>   -0.530</td> <td> 0.598</td> <td>   -0.106     0.062</td>\n",
       "</tr>\n",
       "<tr>\n",
       "  <th>social_p</th>        <td>    0.1922</td> <td>    0.036</td> <td>    5.354</td> <td> 0.000</td> <td>    0.121     0.264</td>\n",
       "</tr>\n",
       "<tr>\n",
       "  <th>social_r</th>        <td>    0.1344</td> <td>    0.059</td> <td>    2.291</td> <td> 0.025</td> <td>    0.017     0.251</td>\n",
       "</tr>\n",
       "<tr>\n",
       "  <th>unemp</th>           <td>    0.0767</td> <td>    0.098</td> <td>    0.780</td> <td> 0.438</td> <td>   -0.119     0.273</td>\n",
       "</tr>\n",
       "<tr>\n",
       "  <th>v</th>               <td>   -0.0084</td> <td>    0.041</td> <td>   -0.202</td> <td> 0.841</td> <td>   -0.091     0.074</td>\n",
       "</tr>\n",
       "</table>\n",
       "<table class=\"simpletable\">\n",
       "<tr>\n",
       "  <th>Omnibus:</th>       <td>13.145</td> <th>  Durbin-Watson:     </th> <td>   2.073</td>\n",
       "</tr>\n",
       "<tr>\n",
       "  <th>Prob(Omnibus):</th> <td> 0.001</td> <th>  Jarque-Bera (JB):  </th> <td>  14.537</td>\n",
       "</tr>\n",
       "<tr>\n",
       "  <th>Skew:</th>          <td> 0.806</td> <th>  Prob(JB):          </th> <td>0.000697</td>\n",
       "</tr>\n",
       "<tr>\n",
       "  <th>Kurtosis:</th>      <td> 4.093</td> <th>  Cond. No.          </th> <td>2.76e+20</td>\n",
       "</tr>\n",
       "</table>"
      ],
      "text/plain": [
       "<class 'statsmodels.iolib.summary.Summary'>\n",
       "\"\"\"\n",
       "                            OLS Regression Results                            \n",
       "==============================================================================\n",
       "Dep. Variable:             resilience   R-squared:                       0.915\n",
       "Model:                            OLS   Adj. R-squared:                  0.895\n",
       "Method:                 Least Squares   F-statistic:                     43.91\n",
       "Date:                Mon, 13 Apr 2015   Prob (F-statistic):           6.82e-32\n",
       "Time:                        18:51:20   Log-Likelihood:                 166.61\n",
       "No. Observations:                  92   AIC:                            -295.2\n",
       "Df Residuals:                      73   BIC:                            -247.3\n",
       "Df Model:                          18                                         \n",
       "Covariance Type:            nonrobust                                         \n",
       "===================================================================================\n",
       "                      coef    std err          t      P>|t|      [95.0% Conf. Int.]\n",
       "-----------------------------------------------------------------------------------\n",
       "Intercept           0.3998      0.055      7.252      0.000         0.290     0.510\n",
       "avg_prod_k         -0.4122      0.044     -9.464      0.000        -0.499    -0.325\n",
       "axfin_p            -0.1405      0.110     -1.282      0.204        -0.359     0.078\n",
       "axfin_r             0.1510      0.087      1.738      0.086        -0.022     0.324\n",
       "axhealth           -0.0449      0.052     -0.863      0.391        -0.149     0.059\n",
       "fa                  0.0861      0.105      0.822      0.414        -0.123     0.295\n",
       "finance_pre        -0.0154      0.067     -0.229      0.819        -0.149     0.119\n",
       "gdp_pc_pp       -1.388e-06   1.27e-06     -1.095      0.277     -3.92e-06  1.14e-06\n",
       "pe                  0.0800      0.011      7.252      0.000         0.058     0.102\n",
       "plgp                0.0924      0.036      2.585      0.012         0.021     0.164\n",
       "prepare_scaleup     0.1054      0.068      1.540      0.128        -0.031     0.242\n",
       "protection       4.521e-05      0.000      0.123      0.902        -0.001     0.001\n",
       "pv                 -0.0483      0.008     -6.332      0.000        -0.063    -0.033\n",
       "rating              0.0360      0.032      1.129      0.263        -0.028     0.099\n",
       "share1              2.3690      0.344      6.879      0.000         1.683     3.055\n",
       "shew               -0.0224      0.042     -0.530      0.598        -0.106     0.062\n",
       "social_p            0.1922      0.036      5.354      0.000         0.121     0.264\n",
       "social_r            0.1344      0.059      2.291      0.025         0.017     0.251\n",
       "unemp               0.0767      0.098      0.780      0.438        -0.119     0.273\n",
       "v                  -0.0084      0.041     -0.202      0.841        -0.091     0.074\n",
       "==============================================================================\n",
       "Omnibus:                       13.145   Durbin-Watson:                   2.073\n",
       "Prob(Omnibus):                  0.001   Jarque-Bera (JB):               14.537\n",
       "Skew:                           0.806   Prob(JB):                     0.000697\n",
       "Kurtosis:                       4.093   Cond. No.                     2.76e+20\n",
       "==============================================================================\n",
       "\n",
       "Warnings:\n",
       "[1] Standard Errors assume that the covariance matrix of the errors is correctly specified.\n",
       "[2] The smallest eigenvalue is 5.07e-31. This might indicate that there are\n",
       "strong multicollinearity problems or that the design matrix is singular.\n",
       "\"\"\""
      ]
     },
     "execution_count": 28,
     "metadata": {},
     "output_type": "execute_result"
    }
   ],
   "source": [
    "explicative_set = ['avg_prod_k', 'axfin_p', 'axfin_r', 'axhealth', 'fa', 'finance_pre', 'gdp_pc_pp', \n",
    "                   'pe', 'plgp', 'prepare_scaleup', 'protection', 'pv', 'rating', 'share1',\n",
    "                   'shew', 'social_p', 'social_r', 'unemp', 'v']\n",
    "\n",
    "formula =\"resilience ~ \"+\" + \".join(explicative_set) \n",
    "olsmodel=ols(formula,data=df_with_results).fit()\n",
    "\n",
    "a=olsmodel.summary()\n",
    "f = open('regression_against_intpus.csv', 'w')\n",
    "f.write(a.as_csv())\n",
    "f.close()\n",
    "a"
   ]
  },
  {
   "cell_type": "code",
   "execution_count": 29,
   "metadata": {
    "collapsed": false
   },
   "outputs": [
    {
     "name": "stdout",
     "output_type": "stream",
     "text": [
      "\n",
      "<5%\n",
      "\n",
      "share1        2.369032\n",
      "Intercept     0.399846\n",
      "social_p      0.192215\n",
      "social_r      0.134449\n",
      "plgp          0.092380\n",
      "pe            0.079969\n",
      "pv           -0.048293\n",
      "avg_prod_k   -0.412229\n",
      "dtype: float64\n",
      "\n",
      "5-10%\n",
      "\n",
      "axfin_r    0.150968\n",
      "dtype: float64\n",
      "\n",
      "10-15%\n",
      "\n",
      "prepare_scaleup    0.105361\n",
      "dtype: float64\n",
      "\n",
      "not\n",
      "\n",
      "fa             0.086060\n",
      "unemp          0.076724\n",
      "rating         0.035963\n",
      "protection     0.000045\n",
      "gdp_pc_pp     -0.000001\n",
      "v             -0.008359\n",
      "finance_pre   -0.015404\n",
      "shew          -0.022361\n",
      "axhealth      -0.044903\n",
      "axfin_p       -0.140494\n",
      "dtype: float64\n"
     ]
    }
   ],
   "source": [
    "pvals=olsmodel.pvalues\n",
    "\n",
    "print(\"\\n<5%\\n\")\n",
    "print(olsmodel.params.ix[(pvals<5/100)].sort(inplace=False, ascending=False))\n",
    "\n",
    "print(\"\\n5-10%\\n\")\n",
    "print(olsmodel.params.ix[(pvals<10/100)&(pvals>5/100)].sort(inplace=False, ascending=False))\n",
    "\n",
    "print(\"\\n10-15%\\n\")\n",
    "pvals=olsmodel.pvalues\n",
    "print(olsmodel.params.ix[(pvals<15/100) & (pvals>10/100)].sort(inplace=False, ascending=False))\n",
    "\n",
    "print(\"\\nnot\\n\")\n",
    "pvals=olsmodel.pvalues\n",
    "print(olsmodel.params.ix[(pvals>15/100)].sort(inplace=False, ascending=False))\n",
    "\n"
   ]
  },
  {
   "cell_type": "code",
   "execution_count": null,
   "metadata": {
    "collapsed": true
   },
   "outputs": [],
   "source": []
  }
 ],
 "metadata": {
  "kernelspec": {
   "display_name": "Python 3",
   "language": "python",
   "name": "python3"
  },
  "language_info": {
   "codemirror_mode": {
    "name": "ipython",
    "version": 3
   },
   "file_extension": ".py",
   "mimetype": "text/x-python",
   "name": "python",
   "nbconvert_exporter": "python",
   "pygments_lexer": "ipython3",
   "version": "3.4.1"
  }
 },
 "nbformat": 4,
 "nbformat_minor": 0
}
