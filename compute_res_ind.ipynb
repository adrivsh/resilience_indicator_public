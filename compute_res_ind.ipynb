{
 "cells": [
  {
   "cell_type": "code",
   "execution_count": 1,
   "metadata": {
    "collapsed": false
   },
   "outputs": [],
   "source": [
    "%reset-f\n",
    "%load_ext autoreload\n",
    "%autoreload 2\n",
    "%matplotlib inline"
   ]
  },
  {
   "cell_type": "code",
   "execution_count": 2,
   "metadata": {
    "collapsed": false
   },
   "outputs": [],
   "source": [
    "\n",
    "import numpy as np\n",
    "\n",
    "from res_ind_lib import *\n",
    "\n",
    "\n",
    "import os, time\n",
    "\n",
    "import warnings\n",
    "warnings.filterwarnings(\"always\",category=UserWarning)\n",
    "\n",
    "from sorted_nicely import *\n",
    "from replace_with_warning import *"
   ]
  },
  {
   "cell_type": "code",
   "execution_count": 3,
   "metadata": {
    "collapsed": true
   },
   "outputs": [],
   "source": [
    "import pandas as pd\n",
    "\n",
    "#Pandas display options\n",
    "pd.set_option('display.max_colwidth', 200)\n",
    "pd.set_option('display.width', 200)\n",
    "pd.set_option('display.precision', 10)\n",
    "pd.set_option('display.max_rows', 500)\n"
   ]
  },
  {
   "cell_type": "markdown",
   "metadata": {},
   "source": [
    "# Options"
   ]
  },
  {
   "cell_type": "code",
   "execution_count": 4,
   "metadata": {
    "collapsed": true
   },
   "outputs": [],
   "source": [
    "protection_from_flopros = True"
   ]
  },
  {
   "cell_type": "markdown",
   "metadata": {},
   "source": [
    "### Country dictionaries"
   ]
  },
  {
   "cell_type": "code",
   "execution_count": 5,
   "metadata": {
    "collapsed": false
   },
   "outputs": [],
   "source": [
    "#Names to WB names\n",
    "any_to_wb = pd.read_csv(\"inputs/any_name_to_wb_name.csv\",index_col=\"any\",squeeze=True)\n"
   ]
  },
  {
   "cell_type": "markdown",
   "metadata": {},
   "source": [
    "# Data"
   ]
  },
  {
   "cell_type": "markdown",
   "metadata": {},
   "source": [
    "##  Economic data from the world bank"
   ]
  },
  {
   "cell_type": "code",
   "execution_count": 6,
   "metadata": {
    "collapsed": false
   },
   "outputs": [
    {
     "name": "stderr",
     "output_type": "stream",
     "text": [
      "C:\\Users\\Admin\\Anaconda3\\lib\\site-packages\\ipykernel\\__main__.py:3: UserWarning: World bank data are 23 weeks old. You may want to download them again.\n",
      "  app.launch_new_instance()\n"
     ]
    },
    {
     "data": {
      "text/plain": [
       "(73, 12)"
      ]
     },
     "execution_count": 6,
     "metadata": {},
     "output_type": "execute_result"
    }
   ],
   "source": [
    "nb_weeks = (time.time()-os.stat(\"inputs/wb_data.csv\").st_mtime )/(3600*24*7)\n",
    "if nb_weeks>20: \n",
    "    warnings.warn(\"World bank data are \"+str(int(nb_weeks))+\" weeks old. You may want to download them again.\")\n",
    "df=pd.read_csv(\"inputs/wb_data.csv\").set_index(\"country\")\n",
    "df.dropna().shape\n"
   ]
  },
  {
   "cell_type": "code",
   "execution_count": 7,
   "metadata": {
    "collapsed": false
   },
   "outputs": [],
   "source": [
    "#Income gorups for countries and HIPC status\n",
    "groups = pd.read_csv(\"inputs/income_groups.csv\",header =4,index_col=2).replace({\"ROM\":\"ROU\",\"ZAR\":\"COD\"})  #they used old iso3 country for Zair (Congo) and Romania\n",
    "groups= groups[[\"Code\",\"Region\",\"Income group\",\"Lending category\",\"Other\"]]\n",
    "groups.dropna(axis=0,how=\"all\",inplace=True);\n",
    "groups.rename(columns={\"Other\":\"HIPC\"},inplace=True)\n",
    "groups['HIPC'].fillna('',inplace=True)\n",
    "groups[\"Lending category\"].replace(\"..\",\"\",inplace=True)\n",
    "\n",
    "df[\"iso3\"]=groups[\"Code\"]\n"
   ]
  },
  {
   "cell_type": "markdown",
   "metadata": {},
   "source": [
    "### EUsilc and other countries"
   ]
  },
  {
   "cell_type": "code",
   "execution_count": 8,
   "metadata": {
    "collapsed": false
   },
   "outputs": [],
   "source": [
    "silc = pd.read_csv(\"inputs/social_ratios.csv\")\n",
    "#EU cuntry code to iso2 \n",
    "silc[\"iso2\"]=silc[\"cc\"].replace({\"EL\":\"GR\",\"UK\":\"GB\"}) #Greece and UK\n",
    "silc.set_index(\"iso2\",inplace=True)\n",
    "\n",
    "#iso3 to wb country name table\n",
    "iso3_to_wb=pd.read_csv(\"inputs/iso3_to_wb_name.csv\").set_index(\"iso3\")\n",
    "\n",
    "#iso2 to iso3 table\n",
    "iso2_iso3 = pd.read_csv(\"inputs/names_to_iso.csv\", usecols=[\"iso2\",\"iso3\"]).drop_duplicates().set_index(\"iso3\") #the tables has more lines than countries to account for several ways of writing country names\n",
    "\n",
    "#iso2 to WB \n",
    "iso2_iso3[\"country\"]=iso3_to_wb[\"country\"]\n",
    "iso2_country=iso2_iso3.reset_index().set_index(\"iso2\")\n",
    "\n",
    "#indexes this data by WB country\n",
    "silc[\"country\"]=iso2_country[\"country\"]\n",
    "silc.set_index(\"country\",inplace=True)\n",
    "#silc.drop_duplicates(inplace=True)\n",
    "\n",
    "#Monitoring differences between SILC and ASPIRE\n",
    "#hop=df.ix[silc.index,[\"social_p\",\"social_r\"]].dropna().rename(columns=dict(social_p = \"s_p_aspire\", social_r=\"s_r_aspire\"))\n",
    "#hop[[\"sp_silc\",\"sr_silc\"]]= silc.ix[hop.index,[\"social_p\",\"social_r\"]]\n",
    "#plt.scatter(x=hop.sp_silc,y=hop.s_p_aspire), plt.scatter(x=hop.sr_silc,y=hop.s_r_aspire,c=\"red\")\n",
    "\n",
    "df.ix[silc.index,[\"social_p\",\"social_r\"]]=silc[[\"social_p\",\"social_r\"]]"
   ]
  },
  {
   "cell_type": "markdown",
   "metadata": {},
   "source": [
    "### Definitions"
   ]
  },
  {
   "cell_type": "code",
   "execution_count": 9,
   "metadata": {
    "collapsed": false
   },
   "outputs": [],
   "source": [
    "# share of poor individuals, we chose the bottom 20\n",
    "ph=df[\"pov_head\"]=0.2 "
   ]
  },
  {
   "cell_type": "markdown",
   "metadata": {},
   "source": [
    "### HFA"
   ]
  },
  {
   "cell_type": "markdown",
   "metadata": {},
   "source": [
    "gets hfa data"
   ]
  },
  {
   "cell_type": "code",
   "execution_count": 10,
   "metadata": {
    "collapsed": false
   },
   "outputs": [],
   "source": [
    "# READ THE LAST HFA DATA\n",
    "hfa_newest =   pd.read_csv(\"inputs/HFA_all_2011_2013.csv\")\n",
    "hfa_newest[\"country\"]=replace_with_warning(hfa_newest[\"Country name\"],any_to_wb)\n",
    "\n",
    "# READ THE PREVIOUS HFA DATA\n",
    "hfa_previous = pd.read_csv(\"inputs/HFA_all_2009_2011.csv\")\n",
    "hfa_previous[\"country\"]=replace_with_warning(hfa_previous[\"Country name\"],any_to_wb)\n",
    "\n",
    "#most recent values... if no 2011-2013 reporting, we use 2009-2011\n",
    "hfa_oldnew=pd.concat([hfa_newest.set_index(\"country\"), hfa_previous.set_index(\"country\")], axis=1,keys=['new', 'old']) #this is important to  join the list of all countries\n",
    "hfa = hfa_oldnew[\"new\"].fillna(hfa_oldnew[\"old\"]);\n",
    "\n",
    "# access to early warning = priority for action 2, indicator 3 of the HFA\n",
    "hfa[\"shew\"]=1/5*hfa[\"P2-C3\"] # between zero and 1. \n",
    "\n",
    "# ability to scale up = average of priority for action 5 of the HFA\n",
    "hfa[\"prepare_scaleup\"]=(hfa[\"P4-C2\"]+hfa[\"P5-C2\"]+hfa[\"P4-C5\"])/3/5 # between zero and 1\n",
    "hfa[\"finance_pre\"] = hfa[\"P5-C3\"]/5 #betwenn 0 and 1\n",
    "\n",
    "\n",
    "df[[\"shew\",\"prepare_scaleup\",\"finance_pre\"]]=hfa[[\"shew\",\"prepare_scaleup\",\"finance_pre\"]]\n",
    "\n",
    "#assumes no reporting is bad situation (caution! do the fillna after inputing to df)\n",
    "df[[\"shew\",\"prepare_scaleup\",\"finance_pre\"]]=df[[\"shew\",\"prepare_scaleup\",\"finance_pre\"]].fillna(0)\n"
   ]
  },
  {
   "cell_type": "markdown",
   "metadata": {},
   "source": [
    "### Country Ratings"
   ]
  },
  {
   "cell_type": "code",
   "execution_count": 11,
   "metadata": {
    "collapsed": false
   },
   "outputs": [
    {
     "name": "stderr",
     "output_type": "stream",
     "text": [
      "C:\\Users\\Admin\\Anaconda3\\lib\\site-packages\\ipykernel\\__main__.py:5: UserWarning: Credit ratings are 23 weeks old. Get new ones at http://www.tradingeconomics.com/country-list/rating\n"
     ]
    }
   ],
   "source": [
    "#Reads the data and check its not too old\n",
    "the_credit_rating_file =\"inputs/cred_rat.csv\"\n",
    "nb_weeks = (time.time()-os.stat(the_credit_rating_file).st_mtime )/(3600*24*7)\n",
    "if nb_weeks>3: \n",
    "    warnings.warn(\"Credit ratings are \"+str(int(nb_weeks))+\" weeks old. Get new ones at http://www.tradingeconomics.com/country-list/rating\")\n",
    "ratings_raw  =pd.read_csv(the_credit_rating_file,dtype=\"str\").dropna(how=\"all\")\n",
    "ratings_raw=ratings_raw.rename(columns={\"Unnamed: 0\": \"country_in_ratings\"})[[\"country_in_ratings\",\"S&P\",\"Moody's\",\"Fitch\"]]\n",
    "\n",
    "#The creidt rating sources calls DR Congo just Congo\n",
    "ratings_raw.country_in_ratings= ratings_raw.country_in_ratings.str.strip().replace([\"Congo\"],[\"Congo, Dem. Rep.\"])\n",
    "\n",
    "ratings_raw[\"country\"]= replace_with_warning(ratings_raw.country_in_ratings.apply(str.strip),any_to_wb)\n",
    "\n",
    "ratings_raw=ratings_raw.set_index(\"country\")\n",
    "\n",
    "def mystriper(string):\n",
    "    \"\"\"strip blanks and converts everythng to lower case\"\"\"\n",
    "    if type(string)==str:\n",
    "        return str.strip(string).lower()\n",
    "    else:\n",
    "        return string\n",
    "        \n",
    "#to lower case and strips blanks\n",
    "ratings_raw=ratings_raw.applymap(mystriper)    \n",
    "\n",
    "#Transforms ratings letters into 1-100 numbers\n",
    "rat_disc = pd.read_csv(\"inputs/cred_rat_dict.csv\")\n",
    "ratings=ratings_raw\n",
    "ratings[\"S&P\"].replace(rat_disc[\"s&p\"].values,rat_disc[\"s&p_score\"].values,inplace=True)\n",
    "ratings[\"Moody's\"].replace(rat_disc[\"moodys\"].values,rat_disc[\"moodys_score\"].values,inplace=True)\n",
    "ratings[\"Fitch\"].replace(rat_disc[\"fitch\"].values,rat_disc[\"fitch_score\"].values,inplace=True)\n",
    "ratings[\"rating\"]=ratings.mean(axis=1)/100\n",
    "\n",
    "df[\"rating\"] = ratings[\"rating\"]\n",
    "df[\"rating\"].fillna(0,inplace=True)  #assumes no rating is bad rating"
   ]
  },
  {
   "cell_type": "markdown",
   "metadata": {},
   "source": [
    "### Capital data"
   ]
  },
  {
   "cell_type": "code",
   "execution_count": 12,
   "metadata": {
    "collapsed": false
   },
   "outputs": [],
   "source": [
    "#data arranged from Penn tables\n",
    "k_data=pd.read_csv(\"inputs/capital_data.csv\", usecols=[\"code\",\"cgdpo\",\"ck\"]).replace({\"ROM\":\"ROU\",\"ZAR\":\"COD\"}).rename(columns={\"cgdpo\":\"prod_from_k\",\"ck\":\"k\"})#Zair is congo\n",
    "\n",
    "#matches names in the dataset with world bank country names\n",
    "iso_country = pd.read_csv(\"inputs/iso3_to_wb_name.csv\", index_col=\"iso3\")\n",
    "k_data.set_index(\"code\",inplace=True)\n",
    "k_data[\"country\"]=iso_country[\"country\"]\n",
    "cond = k_data[\"country\"].isnull()\n",
    "if cond.sum()>0:\n",
    "     warnings.warn(\"this countries appear to be missing from iso3_to_wb_name.csv: \"+\" , \".join(k_data.index[cond].values))\n",
    "k_data=k_data.reset_index().set_index(\"country\")\n",
    "\n",
    "# average productivity of capital\n",
    "df[\"avg_prod_k\"]=k_data[\"prod_from_k\"]/k_data[\"k\"]\n"
   ]
  },
  {
   "cell_type": "markdown",
   "metadata": {},
   "source": [
    "### Hazard (protection)"
   ]
  },
  {
   "cell_type": "code",
   "execution_count": 13,
   "metadata": {
    "collapsed": false
   },
   "outputs": [],
   "source": [
    "#df.protection.head()\n",
    "if protection_from_flopros:\n",
    "#protection from FLOPROS\n",
    "    minrp = 1/2 #assumes nobody is flooded more than twice a year\n",
    "    df[\"protection\"]= pd.read_csv(\"inputs/protection_national_from_flopros.csv\", index_col=\"country\", squeeze=True \n",
    "                                 ).clip(lower=minrp)\n",
    "else:\n",
    "    #assumed a function of the income group\n",
    "    protection_assumptions = pd.read_csv(\"inputs/protection_level_assumptions.csv\", index_col=\"Income group\")\n",
    "    df[\"protection\"]=groups[\"Income group\"].replace(protection_assumptions[\"protection\"])\n"
   ]
  },
  {
   "cell_type": "markdown",
   "metadata": {},
   "source": [
    "### Exposure (population in flood-prone areas)"
   ]
  },
  {
   "cell_type": "code",
   "execution_count": 14,
   "metadata": {
    "collapsed": false
   },
   "outputs": [],
   "source": [
    "#Esposure data, by return peridd \n",
    "expo = pd.read_csv(\"inputs/exposure_econ_return_period.csv\",index_col=\"country\");\n",
    "\n",
    "\n",
    "df[\"fa\"]=expo[\"100\"]\n",
    "\n",
    "fa_ratios = expo.div(df[\"fa\"],axis=0).dropna()\n",
    "\n",
    "fa_ratios.columns=fa_ratios.columns.map(float)\n",
    "fa_ratios.columns\n",
    "\n",
    "fa_ratios=fa_ratios.sort_index(axis=1)\n",
    "\n",
    "fa_ratios.to_csv(\"inputs/fa_ratios.csv\")"
   ]
  },
  {
   "cell_type": "code",
   "execution_count": 15,
   "metadata": {
    "collapsed": true
   },
   "outputs": [],
   "source": [
    "def wavg(data,weights):\n",
    "    df_matched =pd.DataFrame({\"data\":data,\"weights\":weights}).dropna()\n",
    "    return (df_matched.data*df_matched.weights).sum()/df_matched.weights.sum()"
   ]
  },
  {
   "cell_type": "code",
   "execution_count": 16,
   "metadata": {
    "collapsed": false
   },
   "outputs": [],
   "source": [
    "#Exposure bias from WB DELTARES study\n",
    "PEB_wb_deltares = pd.read_csv(\"inputs/PEB_wb_deltares.csv\",skiprows=[0,1,2],usecols=[\"Country\",\"Nation-wide\"])\n",
    "PEB_wb_deltares[\"country\"] = replace_with_warning(PEB_wb_deltares[\"Country\"],any_to_wb)\n",
    "df[\"pe\"]= PEB_wb_deltares.set_index(\"country\").drop([\"Country\"],axis=1).squeeze()\n",
    "df[\"pe\"]=df[\"pe\"].fillna(wavg(df[\"pe\"],df[\"pop\"]))\n",
    "\n",
    "pe=df[\"pe\"]"
   ]
  },
  {
   "cell_type": "markdown",
   "metadata": {},
   "source": [
    "### Vulnerability"
   ]
  },
  {
   "cell_type": "code",
   "execution_count": 17,
   "metadata": {
    "collapsed": false
   },
   "outputs": [
    {
     "name": "stderr",
     "output_type": "stream",
     "text": [
      "C:\\Users\\Admin\\Anaconda3\\lib\\site-packages\\ipykernel\\__main__.py:10: UserWarning: this countries appear to be missing from iso3_to_wb_name.csv: ALA , ATA , BES , BVT , IOT , CXR , CCK , FLK , GUF , ATF , GIB , GLP , GGY , HMD , VAT , JEY , MTQ , MYT , MSR , NFK , PCN , REU , BLM , SHN , SPM , SGS , SJM , TKL , UMI , WLF , ESH.\n",
      "These are: Aland Islands , Antarctica , Bonaire , Bouvet Island , British Indian Ocean Territory , Christmas Island , the Cocos (Keeling) Islands , the Falkland Islands (Malvinas) , French Guiana , the French Southern Territories , Gibraltar , Guadeloupe , Guernsey , Heard Island and McDonald Islands , the Holy See (Vatican City State) , Jersey , Martinique , Mayotte , Montserrat , Norfolk Island , Pitcairn , Reunion , Saint Barthelemy , Saint Helena , Saint Pierre and Miquelon , South Georgia and the South Sandwich Islands , Svalbard and Jan Mayen , Tokelau , the United States Minor Outlying Islands , Wallis and Futuna , Western Sahara\n"
     ]
    }
   ],
   "source": [
    "#Reads data from pager\n",
    "pager=pd.read_csv(\"inputs/pager_vulnerabilities.csv\",\n",
    "                  usecols=[\"ISO-3digit\",\"R_1\",\"R_2\",\"R_3\",\"VV_1\",\"VV_2\",\"VV_3\",\"Country Name\"],\n",
    "                  index_col=\"ISO-3digit\")\n",
    "\n",
    "#indexes pager data by country        \n",
    "pager[\"country\"]=iso3_to_wb[\"country\"]\n",
    "cond = pager[\"country\"].isnull()\n",
    "if cond.sum()>0:\n",
    "     warnings.warn(\"this countries appear to be missing from iso3_to_wb_name.csv: \"+\" , \".join(pager.index[cond].values)+\".\\nThese are: \"+\" , \".join(pager.ix[cond,\"Country Name\"].values) )\n",
    "pager[\"country\"]=iso3_to_wb[\"country\"]\n",
    "hop=pager.dropna().reset_index().set_index(\"country\")\n",
    "\n",
    "#sorts vulnerabilites according to income\n",
    "share =hop[[\"R_1\",\"R_2\",\"R_3\"]]\n",
    "damrat=hop[[\"VV_1\",\"VV_2\",\"VV_3\"]]\n",
    "\n",
    "damrat.columns=[\"R_1\",\"R_2\",\"R_3\"]\n",
    "p=(share.cumsum(axis=1)-ph).clip(lower=0)\n",
    "poor=(share-p).clip(lower=0)\n",
    "\n",
    "\n",
    "vp=(poor*damrat).sum(axis=1)/poor.sum(axis=1)\n",
    "rich=share-poor\n",
    "\n",
    "vr=(rich*damrat).sum(axis=1)/rich.sum(axis=1)\n"
   ]
  },
  {
   "cell_type": "code",
   "execution_count": 18,
   "metadata": {
    "collapsed": false
   },
   "outputs": [],
   "source": [
    "#Expresses vulnerability as total and bias\n",
    "\n",
    "fa=df[\"fa\"]\n",
    "fap=fa*(1+pe)\n",
    "far=(fa-ph*fap)/(1-ph)\n",
    "\n",
    "cp=   df[\"share1\"] /.2*df[\"gdp_pc_pp\"]\n",
    "cr=(1-df[\"share1\"])/.8*df[\"gdp_pc_pp\"]\n",
    "\n",
    "df[\"v\"]  = (ph*vp*cp*fap + (1-ph)*vr*cr*far)/(ph*cp*fap + (1-ph)*cr*far)\n",
    "df[\"pv\"] =  vp/df.v-1\n",
    "\n",
    "#vulnerability of diversified (shared) capital\n",
    "df[\"v_s\"]=vr\n",
    "\n"
   ]
  },
  {
   "cell_type": "markdown",
   "metadata": {},
   "source": [
    "#### \"protected\" variables"
   ]
  },
  {
   "cell_type": "code",
   "execution_count": 19,
   "metadata": {
    "collapsed": true
   },
   "outputs": [],
   "source": [
    "df=def_ref_values(df)"
   ]
  },
  {
   "cell_type": "markdown",
   "metadata": {},
   "source": [
    "\n",
    "\n",
    "### Homogenity of losses"
   ]
  },
  {
   "cell_type": "code",
   "execution_count": 20,
   "metadata": {
    "collapsed": false
   },
   "outputs": [],
   "source": [
    "#resds loss distribution in mumbai\n",
    "hop=pd.read_csv(\"inputs/losses_distribution_mumbai.csv\",index_col=0)[\"losses/asset_cost\"]\n",
    "# standard deviation of the underlying normal distribution\n",
    "s = np.log(hop).std() \n",
    "\n",
    "df[\"H\"]= np.exp (-s**2/2)\n"
   ]
  },
  {
   "cell_type": "markdown",
   "metadata": {},
   "source": [
    "## Report missing data for the national studies"
   ]
  },
  {
   "cell_type": "code",
   "execution_count": 21,
   "metadata": {
    "collapsed": false
   },
   "outputs": [
    {
     "data": {
      "text/html": [
       "<div>\n",
       "<table border=\"1\" class=\"dataframe\">\n",
       "  <thead>\n",
       "    <tr style=\"text-align: right;\">\n",
       "      <th></th>\n",
       "      <th>nb_missing</th>\n",
       "      <th>missing_data</th>\n",
       "    </tr>\n",
       "    <tr>\n",
       "      <th>country</th>\n",
       "      <th></th>\n",
       "      <th></th>\n",
       "    </tr>\n",
       "  </thead>\n",
       "  <tbody>\n",
       "    <tr>\n",
       "      <th>Djibouti</th>\n",
       "      <td>1</td>\n",
       "      <td>unemp</td>\n",
       "    </tr>\n",
       "    <tr>\n",
       "      <th>Iraq</th>\n",
       "      <td>1</td>\n",
       "      <td>plgp</td>\n",
       "    </tr>\n",
       "    <tr>\n",
       "      <th>Togo</th>\n",
       "      <td>1</td>\n",
       "      <td>social_p</td>\n",
       "    </tr>\n",
       "    <tr>\n",
       "      <th>Nicaragua</th>\n",
       "      <td>1</td>\n",
       "      <td>avg_prod_k</td>\n",
       "    </tr>\n",
       "    <tr>\n",
       "      <th>Macedonia, FYR</th>\n",
       "      <td>2</td>\n",
       "      <td>social_p, social_r</td>\n",
       "    </tr>\n",
       "  </tbody>\n",
       "</table>\n",
       "</div>"
      ],
      "text/plain": [
       "                nb_missing        missing_data\n",
       "country                                       \n",
       "Djibouti                 1               unemp\n",
       "Iraq                     1                plgp\n",
       "Togo                     1            social_p\n",
       "Nicaragua                1          avg_prod_k\n",
       "Macedonia, FYR           2  social_p, social_r"
      ]
     },
     "execution_count": 21,
     "metadata": {},
     "output_type": "execute_result"
    }
   ],
   "source": [
    "def write_missing_data(s):\n",
    "    which = s[s.isnull()].index.values\n",
    "    return \", \".join(which)\n",
    "\n",
    "def count_missing_data(s):\n",
    "    return s.isnull().sum()\n",
    "\n",
    "report = pd.DataFrame()\n",
    "\n",
    "report[\"nb_missing\"]=df.apply(count_missing_data,axis=1)  \n",
    "report[\"missing_data\"]=df.apply(write_missing_data,axis=1)\n",
    "\n",
    "report  = report.ix[report[\"nb_missing\"]>0,:]\n",
    "report.sort_values(by=\"nb_missing\",inplace=True)\n",
    "report.to_csv(\"results/missing_data_report.csv\")\n",
    "\n",
    "report.head()"
   ]
  },
  {
   "cell_type": "markdown",
   "metadata": {},
   "source": [
    "## manual parametrization"
   ]
  },
  {
   "cell_type": "code",
   "execution_count": 22,
   "metadata": {
    "collapsed": false
   },
   "outputs": [],
   "source": [
    "# no ripple effects\n",
    "df[\"alpha\"] =1 \n",
    "\n",
    "#Reconstruction time\n",
    "df[\"T_rebuild_K\"] = 3\n",
    "df[\"T_rebuild_L\"] = 40\n",
    "\n",
    "# how much early warning reduces vulnerability\n",
    "df[\"pi\"] = 0.2\n",
    "\n",
    "#income elasticity\n",
    "df[\"income_elast\"] = 1.5"
   ]
  },
  {
   "cell_type": "code",
   "execution_count": 23,
   "metadata": {
    "collapsed": false
   },
   "outputs": [
    {
     "data": {
      "text/plain": [
       "(0.93709161246631767, 4.4576453933694689)"
      ]
     },
     "execution_count": 23,
     "metadata": {},
     "output_type": "execute_result"
    }
   ],
   "source": [
    "(df.social_p * cp).ix[\"Bolivia\"]/365, (df.social_r * cr).ix[\"Bolivia\"]/365"
   ]
  },
  {
   "cell_type": "markdown",
   "metadata": {},
   "source": [
    "# Computes and saves national resilience"
   ]
  },
  {
   "cell_type": "markdown",
   "metadata": {},
   "source": [
    "Central cases"
   ]
  },
  {
   "cell_type": "code",
   "execution_count": 24,
   "metadata": {
    "collapsed": false
   },
   "outputs": [],
   "source": [
    "df[\"original_country\"]=df.index;\n",
    "#saves orginal dataframe before adding columns with results\n",
    "df.drop(\"iso3\", axis=1).to_csv(\"results/df_original.csv\")\n",
    "df.ix[\"France\"];"
   ]
  },
  {
   "cell_type": "code",
   "execution_count": 25,
   "metadata": {
    "collapsed": true
   },
   "outputs": [],
   "source": [
    "args = dict(fa_ratios=fa_ratios, verbose_output=True)\n",
    "#args = dict()"
   ]
  },
  {
   "cell_type": "code",
   "execution_count": 26,
   "metadata": {
    "collapsed": false
   },
   "outputs": [
    {
     "name": "stdout",
     "output_type": "stream",
     "text": [
      "nb countries with all data :90\n",
      "nb countries with all data and results :90\n",
      "Resilience averages 61% across our sample, ranging from 25% to 86%\n",
      "Risk averages 0.690% across our sample, ranging from 0.004% (Netherlands) to 4.852% (Congo, Dem. Rep.)\n",
      " Increasing the share of income of the bottom quintile by 1 percent in the 90 countries would increase asset losses from USD 7.1 to 7.2 billions per year (+0.65 percent), but reduce welfare losses by 3.4 percent\n"
     ]
    },
    {
     "data": {
      "text/html": [
       "<div>\n",
       "<table border=\"1\" class=\"dataframe\">\n",
       "  <thead>\n",
       "    <tr style=\"text-align: right;\">\n",
       "      <th></th>\n",
       "      <th>protection</th>\n",
       "      <th>risk</th>\n",
       "      <th>v</th>\n",
       "      <th>fa</th>\n",
       "      <th>resilience</th>\n",
       "    </tr>\n",
       "    <tr>\n",
       "      <th>country</th>\n",
       "      <th></th>\n",
       "      <th></th>\n",
       "      <th></th>\n",
       "      <th></th>\n",
       "      <th></th>\n",
       "    </tr>\n",
       "  </thead>\n",
       "  <tbody>\n",
       "    <tr>\n",
       "      <th>Denmark</th>\n",
       "      <td>25.74</td>\n",
       "      <td>0.0001442347</td>\n",
       "      <td>0.1255456327</td>\n",
       "      <td>0.0054214952</td>\n",
       "      <td>0.7785517532</td>\n",
       "    </tr>\n",
       "    <tr>\n",
       "      <th>Netherlands</th>\n",
       "      <td>4489.59</td>\n",
       "      <td>0.0000394384</td>\n",
       "      <td>0.1282233263</td>\n",
       "      <td>0.3364405974</td>\n",
       "      <td>0.7530701744</td>\n",
       "    </tr>\n",
       "    <tr>\n",
       "      <th>Malawi</th>\n",
       "      <td>2.84</td>\n",
       "      <td>0.0123138410</td>\n",
       "      <td>0.3247000293</td>\n",
       "      <td>0.0175697219</td>\n",
       "      <td>0.5315805964</td>\n",
       "    </tr>\n",
       "    <tr>\n",
       "      <th>Bangladesh</th>\n",
       "      <td>50.00</td>\n",
       "      <td>0.0076002225</td>\n",
       "      <td>0.3799778384</td>\n",
       "      <td>0.2220788331</td>\n",
       "      <td>0.6420628477</td>\n",
       "    </tr>\n",
       "    <tr>\n",
       "      <th>Jamaica</th>\n",
       "      <td>0.50</td>\n",
       "      <td>0.0006032131</td>\n",
       "      <td>0.2674819826</td>\n",
       "      <td>0.0002613958</td>\n",
       "      <td>0.4953676161</td>\n",
       "    </tr>\n",
       "    <tr>\n",
       "      <th>Congo, Dem. Rep.</th>\n",
       "      <td>2.04</td>\n",
       "      <td>0.0485233824</td>\n",
       "      <td>0.5111220524</td>\n",
       "      <td>0.0271273538</td>\n",
       "      <td>0.6005394607</td>\n",
       "    </tr>\n",
       "  </tbody>\n",
       "</table>\n",
       "</div>"
      ],
      "text/plain": [
       "                  protection          risk             v            fa    resilience\n",
       "country                                                                             \n",
       "Denmark                25.74  0.0001442347  0.1255456327  0.0054214952  0.7785517532\n",
       "Netherlands          4489.59  0.0000394384  0.1282233263  0.3364405974  0.7530701744\n",
       "Malawi                  2.84  0.0123138410  0.3247000293  0.0175697219  0.5315805964\n",
       "Bangladesh             50.00  0.0076002225  0.3799778384  0.2220788331  0.6420628477\n",
       "Jamaica                 0.50  0.0006032131  0.2674819826  0.0002613958  0.4953676161\n",
       "Congo, Dem. Rep.        2.04  0.0485233824  0.5111220524  0.0271273538  0.6005394607"
      ]
     },
     "execution_count": 26,
     "metadata": {},
     "output_type": "execute_result"
    }
   ],
   "source": [
    "df_with_results=compute_resiliences(df.dropna(),**args)\n",
    "print(\"nb countries with all data :\"+str(df.dropna().shape[0]))\n",
    "\n",
    "nb_countries_all_results = df_with_results[\"resilience\"].dropna().shape[0]\n",
    "print(\"nb countries with all data and results :\"+str(nb_countries_all_results))\n",
    "df_with_results.to_csv(\"results/df.csv\",float_format=\"%.5f\")\n",
    "\n",
    "\n",
    "#Some stats\n",
    "a=df_with_results.resilience;\n",
    "a.min()*100,a.mean()*100,a.max()*100\n",
    "print(\"Resilience averages {mean:.0%} across our sample, ranging from {min:.0%} to {max:.0%}\".format(\n",
    "        min=a.min(),mean=a.mean(),max=a.max()))\n",
    "\n",
    "a=df_with_results.risk\n",
    "a.argmax(), a.max()\n",
    "print(\"Risk averages {mean:.03%} across our sample, ranging from {min:.03%} ({m}) to {max:.03%} ({M})\".format(\n",
    "    min=a.min(),mean=a.mean(),max=a.max(),m=a.argmin(),M=a.argmax()))\n",
    "\n",
    "\n",
    "#magic redistribution\n",
    "df_share1 = compute_resiliences( df.dropna().assign(share1=df.share1+1/100), **args )\n",
    "\n",
    "#welfare losses\n",
    "wa=df_with_results.total_equivalent_cost.sum()*1e-9\n",
    "wb=df_share1.total_equivalent_cost.sum()*1e-9\n",
    "\n",
    "#asset losses\n",
    "ka = (df_with_results.dKtot/df.protection).sum()*1e-9\n",
    "kb = (df_share1.dKtot/df_share1.protection).sum()*1e-9\n",
    "\n",
    "print(\" Increasing the share of income of the bottom quintile by 1 percent in the {nb} countries \\\n",
    "would increase asset losses from USD {ka:0.1f} to {kb:0.1f} billions per year \\\n",
    "(+{XX:.2f} percent), but reduce welfare losses by {YY:.2} percent\".format(\n",
    "        XX=100*(kb-ka)/ka,ka=ka,kb=kb,YY=100*(wa-wb)/wa,nb=nb_countries_all_results))\n",
    "\n",
    "\n",
    "df_with_results.ix[[\"Denmark\", \"Netherlands\",\"Malawi\", \"Bangladesh\", \"Jamaica\", \"Congo, Dem. Rep.\"],[\"protection\", \"risk\", \"v\",\"fa\", \"resilience\"]]"
   ]
  },
  {
   "cell_type": "markdown",
   "metadata": {},
   "source": [
    " # Basic reporting"
   ]
  },
  {
   "cell_type": "code",
   "execution_count": 27,
   "metadata": {
    "collapsed": false
   },
   "outputs": [
    {
     "data": {
      "text/html": [
       "<div>\n",
       "<table border=\"1\" class=\"dataframe\">\n",
       "  <thead>\n",
       "    <tr style=\"text-align: right;\">\n",
       "      <th></th>\n",
       "      <th>gdp_pc_pp</th>\n",
       "      <th>pop</th>\n",
       "      <th>protection</th>\n",
       "      <th>v</th>\n",
       "      <th>resilience</th>\n",
       "      <th>risk</th>\n",
       "      <th>fa_in_gdp</th>\n",
       "    </tr>\n",
       "    <tr>\n",
       "      <th>country</th>\n",
       "      <th></th>\n",
       "      <th></th>\n",
       "      <th></th>\n",
       "      <th></th>\n",
       "      <th></th>\n",
       "      <th></th>\n",
       "      <th></th>\n",
       "    </tr>\n",
       "  </thead>\n",
       "  <tbody>\n",
       "    <tr>\n",
       "      <th>Albania</th>\n",
       "      <td>9960.9407258136</td>\n",
       "      <td>2897366.0000000023</td>\n",
       "      <td>15.54</td>\n",
       "      <td>33.8132339888</td>\n",
       "      <td>71.0211454641</td>\n",
       "      <td>1.1855183194</td>\n",
       "      <td>38.1635758960</td>\n",
       "    </tr>\n",
       "    <tr>\n",
       "      <th>Argentina</th>\n",
       "      <td>18087.1962616822</td>\n",
       "      <td>41446246.0000000000</td>\n",
       "      <td>64.41</td>\n",
       "      <td>32.2966988087</td>\n",
       "      <td>52.8807301188</td>\n",
       "      <td>0.2105499167</td>\n",
       "      <td>27.3188306108</td>\n",
       "    </tr>\n",
       "    <tr>\n",
       "      <th>Armenia</th>\n",
       "      <td>7526.8364191129</td>\n",
       "      <td>2976566.0000000009</td>\n",
       "      <td>11.46</td>\n",
       "      <td>12.4405654902</td>\n",
       "      <td>69.0775493726</td>\n",
       "      <td>0.1337053027</td>\n",
       "      <td>9.4712040237</td>\n",
       "    </tr>\n",
       "    <tr>\n",
       "      <th>Australia</th>\n",
       "      <td>42834.0167597384</td>\n",
       "      <td>23129300.0000000000</td>\n",
       "      <td>100.00</td>\n",
       "      <td>44.6881422566</td>\n",
       "      <td>71.3353829524</td>\n",
       "      <td>0.0758328841</td>\n",
       "      <td>15.5550449816</td>\n",
       "    </tr>\n",
       "    <tr>\n",
       "      <th>Austria</th>\n",
       "      <td>44056.2544168020</td>\n",
       "      <td>8479823.0000000000</td>\n",
       "      <td>600.59</td>\n",
       "      <td>16.0050032938</td>\n",
       "      <td>69.2367093423</td>\n",
       "      <td>0.0141052156</td>\n",
       "      <td>37.5570135174</td>\n",
       "    </tr>\n",
       "  </tbody>\n",
       "</table>\n",
       "</div>"
      ],
      "text/plain": [
       "                  gdp_pc_pp                  pop  protection              v     resilience          risk      fa_in_gdp\n",
       "country                                                                                                                \n",
       "Albania     9960.9407258136   2897366.0000000023       15.54  33.8132339888  71.0211454641  1.1855183194  38.1635758960\n",
       "Argentina  18087.1962616822  41446246.0000000000       64.41  32.2966988087  52.8807301188  0.2105499167  27.3188306108\n",
       "Armenia     7526.8364191129   2976566.0000000009       11.46  12.4405654902  69.0775493726  0.1337053027   9.4712040237\n",
       "Australia  42834.0167597384  23129300.0000000000      100.00  44.6881422566  71.3353829524  0.0758328841  15.5550449816\n",
       "Austria    44056.2544168020   8479823.0000000000      600.59  16.0050032938  69.2367093423  0.0141052156  37.5570135174"
      ]
     },
     "execution_count": 27,
     "metadata": {},
     "output_type": "execute_result"
    }
   ],
   "source": [
    "#Outputs table with main results\n",
    "to_output = ['gdp_pc_pp', 'pop',\"protection\",\"v\",\"resilience\",\"risk\"]\n",
    "a=df_with_results[to_output].copy()\n",
    "\n",
    "a[\"fa_in_gdp\"] =  df_with_results[\"fa\"]/ df_with_results[\"avg_prod_k\"]\n",
    "\n",
    "\n",
    "a.loc[:,[\"fa_in_gdp\",\"v\",\"resilience\",\"risk\"]]=100*a[[\"fa_in_gdp\",\"v\",\"resilience\",\"risk\"]]\n",
    "desc=pd.read_csv(\"inputs/inputs_info.csv\").set_index('key')[\"descriptor\"]\n",
    "a.rename(columns=desc).dropna().to_excel(\"results/results.xlsx\")\n",
    "a.head()"
   ]
  },
  {
   "cell_type": "markdown",
   "metadata": {},
   "source": [
    "#### countries for which pov traps matter"
   ]
  },
  {
   "cell_type": "code",
   "execution_count": 28,
   "metadata": {
    "collapsed": false
   },
   "outputs": [
    {
     "data": {
      "text/plain": [
       "country\n",
       "Rwanda          0.1258713663\n",
       "Liberia         0.1060752803\n",
       "Cambodia        0.0840468680\n",
       "Sierra Leone    0.0795179865\n",
       "Pakistan        0.0719065915\n",
       "dtype: float64"
      ]
     },
     "execution_count": 28,
     "metadata": {},
     "output_type": "execute_result"
    }
   ],
   "source": [
    "((df_with_results.resilience_no_shock - df_with_results.resilience)).sort_values(ascending=False).head()"
   ]
  },
  {
   "cell_type": "markdown",
   "metadata": {},
   "source": [
    "## sensitivity anlysis"
   ]
  },
  {
   "cell_type": "code",
   "execution_count": 29,
   "metadata": {
    "collapsed": false
   },
   "outputs": [],
   "source": [
    "####Sensitivity analysis following instructions in alt_params.csv\n",
    "\n",
    "country_sens_list=[\"Malawi\",\"Sweden\"]\n",
    "\n",
    "#reads paramters to be varied\n",
    "alt_params=pd.read_csv(\"inputs/alt_params.csv\")\n",
    "\n",
    "df_sensit = pd.DataFrame(columns=df.columns)\n",
    "\n",
    "for c in country_sens_list:\n",
    "\n",
    "    for p in alt_params.index.tolist():\n",
    "        param = alt_params.ix[p,\"param\"]\n",
    "        \n",
    "        new_value = alt_params.ix[p,\"value\"]\n",
    "        if new_value[0] in \"/*\":\n",
    "            new_value = str(df.ix[c,param])+new_value         \n",
    "        new_value = eval(new_value)\n",
    "        \n",
    "        if alt_params.ix[p,\"unit\"]==\"%\":\n",
    "            suffix = \" $({name}={nv:2.0f}\\%)$\".format(name=alt_params.ix[p,\"formated_name\"],nv=100*new_value) \n",
    "        else    :\n",
    "            suffix = \" $({name}={nv:2.0f}{unit})$\".format(name=alt_params.ix[p,\"formated_name\"],nv=new_value, unit =alt_params.ix[p,\"unit\"] )\n",
    "        d = c+suffix\n",
    "        df_sensit.ix[d] = df.ix[c]\n",
    "        df_sensit.ix[d,param] =new_value\n",
    "        df_sensit.ix[d,\"original_country\"]=c\n",
    "        \n",
    "        #sets reference values \n",
    "        df_sensit =def_ref_values(df_sensit)\n",
    "        \n",
    "    \n",
    "    #special treatment for fa\n",
    "    #df_sensit.ix[d,param] =new_value\n",
    "    \n",
    "for c in df.dropna().index: #senstitivity for all countries  (actually very long)    \n",
    "    for param in [\"income_elast\"]:\n",
    "        for new_value in [1, 2]:\n",
    "            d = c+\" $(\\eta=\"+str(new_value)+\")$\"\n",
    "            df_sensit.ix[d] = df.ix[c]\n",
    "            df_sensit.ix[d,param] =new_value\n",
    "            df_sensit.ix[d,\"original_country\"]=c\n",
    "\n",
    "df_sensit=df_sensit.sort_index().sort_index(axis=1)            \n",
    "            \n",
    "df_sensit.index.name=\"country\"; #after adding indices pandas forgets their \n",
    "df_sensit.drop(\"iso3\", axis=1).to_csv(\"results/df_sensit_input.csv\")\n",
    "\n",
    "fa_ratios_sensib= df_sensit[[\"original_country\"]].merge(fa_ratios,right_index=True,left_on=\"original_country\").drop([\"original_country\"], axis=1)\n",
    "fa_ratios_sensib.to_csv(\"results/fa_ratios_sensib.csv\")\n",
    "\n",
    "compute_resiliences(df_sensit, fa_ratios=fa_ratios_sensib).to_csv(\"results/df_sensit_results.csv\")"
   ]
  },
  {
   "cell_type": "markdown",
   "metadata": {},
   "source": [
    "# Simple OLSs"
   ]
  },
  {
   "cell_type": "markdown",
   "metadata": {},
   "source": [
    "## Resilience"
   ]
  },
  {
   "cell_type": "code",
   "execution_count": 30,
   "metadata": {
    "collapsed": false
   },
   "outputs": [],
   "source": [
    "from statsmodels.formula.api import ols\n",
    "from statsmodels.stats.anova import anova_lm"
   ]
  },
  {
   "cell_type": "code",
   "execution_count": 31,
   "metadata": {
    "collapsed": false
   },
   "outputs": [
    {
     "data": {
      "text/html": [
       "<table class=\"simpletable\">\n",
       "<caption>OLS Regression Results</caption>\n",
       "<tr>\n",
       "  <th>Dep. Variable:</th>       <td>resilience</td>    <th>  R-squared:         </th> <td>   0.935</td>\n",
       "</tr>\n",
       "<tr>\n",
       "  <th>Model:</th>                   <td>OLS</td>       <th>  Adj. R-squared:    </th> <td>   0.921</td>\n",
       "</tr>\n",
       "<tr>\n",
       "  <th>Method:</th>             <td>Least Squares</td>  <th>  F-statistic:       </th> <td>   70.59</td>\n",
       "</tr>\n",
       "<tr>\n",
       "  <th>Date:</th>             <td>Mon, 09 May 2016</td> <th>  Prob (F-statistic):</th> <td>1.45e-37</td>\n",
       "</tr>\n",
       "<tr>\n",
       "  <th>Time:</th>                 <td>18:48:40</td>     <th>  Log-Likelihood:    </th> <td>  171.27</td>\n",
       "</tr>\n",
       "<tr>\n",
       "  <th>No. Observations:</th>      <td>    90</td>      <th>  AIC:               </th> <td>  -310.5</td>\n",
       "</tr>\n",
       "<tr>\n",
       "  <th>Df Residuals:</th>          <td>    74</td>      <th>  BIC:               </th> <td>  -270.5</td>\n",
       "</tr>\n",
       "<tr>\n",
       "  <th>Df Model:</th>              <td>    15</td>      <th>                     </th>     <td> </td>   \n",
       "</tr>\n",
       "<tr>\n",
       "  <th>Covariance Type:</th>      <td>nonrobust</td>    <th>                     </th>     <td> </td>   \n",
       "</tr>\n",
       "</table>\n",
       "<table class=\"simpletable\">\n",
       "<tr>\n",
       "         <td></td>            <th>coef</th>     <th>std err</th>      <th>t</th>      <th>P>|t|</th> <th>[95.0% Conf. Int.]</th> \n",
       "</tr>\n",
       "<tr>\n",
       "  <th>Intercept</th>       <td>    0.4399</td> <td>    0.037</td> <td>   11.997</td> <td> 0.000</td> <td>    0.367     0.513</td>\n",
       "</tr>\n",
       "<tr>\n",
       "  <th>axfin_p</th>         <td>   -0.0858</td> <td>    0.087</td> <td>   -0.987</td> <td> 0.327</td> <td>   -0.259     0.087</td>\n",
       "</tr>\n",
       "<tr>\n",
       "  <th>axfin_r</th>         <td>    0.1218</td> <td>    0.071</td> <td>    1.715</td> <td> 0.090</td> <td>   -0.020     0.263</td>\n",
       "</tr>\n",
       "<tr>\n",
       "  <th>axhealth</th>        <td>    0.1096</td> <td>    0.016</td> <td>    7.037</td> <td> 0.000</td> <td>    0.079     0.141</td>\n",
       "</tr>\n",
       "<tr>\n",
       "  <th>bashs</th>           <td>   -0.0573</td> <td>    0.038</td> <td>   -1.512</td> <td> 0.135</td> <td>   -0.133     0.018</td>\n",
       "</tr>\n",
       "<tr>\n",
       "  <th>finance_pre</th>     <td>    0.0759</td> <td>    0.029</td> <td>    2.640</td> <td> 0.010</td> <td>    0.019     0.133</td>\n",
       "</tr>\n",
       "<tr>\n",
       "  <th>ophe</th>            <td>    0.1634</td> <td>    0.032</td> <td>    5.160</td> <td> 0.000</td> <td>    0.100     0.226</td>\n",
       "</tr>\n",
       "<tr>\n",
       "  <th>avg_prod_k</th>      <td>   -0.4650</td> <td>    0.040</td> <td>  -11.755</td> <td> 0.000</td> <td>   -0.544    -0.386</td>\n",
       "</tr>\n",
       "<tr>\n",
       "  <th>pe</th>              <td>   -0.2124</td> <td>    0.013</td> <td>  -16.147</td> <td> 0.000</td> <td>   -0.239    -0.186</td>\n",
       "</tr>\n",
       "<tr>\n",
       "  <th>plgp</th>            <td>    0.0455</td> <td>    0.045</td> <td>    1.003</td> <td> 0.319</td> <td>   -0.045     0.136</td>\n",
       "</tr>\n",
       "<tr>\n",
       "  <th>prepare_scaleup</th> <td>   -0.0067</td> <td>    0.029</td> <td>   -0.228</td> <td> 0.820</td> <td>   -0.065     0.052</td>\n",
       "</tr>\n",
       "<tr>\n",
       "  <th>pv</th>              <td>   -0.0449</td> <td>    0.005</td> <td>   -8.564</td> <td> 0.000</td> <td>   -0.055    -0.034</td>\n",
       "</tr>\n",
       "<tr>\n",
       "  <th>rating</th>          <td>   -0.0042</td> <td>    0.028</td> <td>   -0.149</td> <td> 0.882</td> <td>   -0.060     0.052</td>\n",
       "</tr>\n",
       "<tr>\n",
       "  <th>share1</th>          <td>    1.8887</td> <td>    0.288</td> <td>    6.547</td> <td> 0.000</td> <td>    1.314     2.463</td>\n",
       "</tr>\n",
       "<tr>\n",
       "  <th>social_p</th>        <td>    0.1752</td> <td>    0.032</td> <td>    5.483</td> <td> 0.000</td> <td>    0.112     0.239</td>\n",
       "</tr>\n",
       "<tr>\n",
       "  <th>social_r</th>        <td>    0.1290</td> <td>    0.053</td> <td>    2.434</td> <td> 0.017</td> <td>    0.023     0.235</td>\n",
       "</tr>\n",
       "<tr>\n",
       "  <th>unemp</th>           <td>    0.0300</td> <td>    0.080</td> <td>    0.376</td> <td> 0.708</td> <td>   -0.129     0.189</td>\n",
       "</tr>\n",
       "</table>\n",
       "<table class=\"simpletable\">\n",
       "<tr>\n",
       "  <th>Omnibus:</th>       <td> 8.609</td> <th>  Durbin-Watson:     </th> <td>   2.105</td>\n",
       "</tr>\n",
       "<tr>\n",
       "  <th>Prob(Omnibus):</th> <td> 0.014</td> <th>  Jarque-Bera (JB):  </th> <td>   8.364</td>\n",
       "</tr>\n",
       "<tr>\n",
       "  <th>Skew:</th>          <td> 0.633</td> <th>  Prob(JB):          </th> <td>  0.0153</td>\n",
       "</tr>\n",
       "<tr>\n",
       "  <th>Kurtosis:</th>      <td> 3.791</td> <th>  Cond. No.          </th> <td>1.22e+16</td>\n",
       "</tr>\n",
       "</table>"
      ],
      "text/plain": [
       "<class 'statsmodels.iolib.summary.Summary'>\n",
       "\"\"\"\n",
       "                            OLS Regression Results                            \n",
       "==============================================================================\n",
       "Dep. Variable:             resilience   R-squared:                       0.935\n",
       "Model:                            OLS   Adj. R-squared:                  0.921\n",
       "Method:                 Least Squares   F-statistic:                     70.59\n",
       "Date:                Mon, 09 May 2016   Prob (F-statistic):           1.45e-37\n",
       "Time:                        18:48:40   Log-Likelihood:                 171.27\n",
       "No. Observations:                  90   AIC:                            -310.5\n",
       "Df Residuals:                      74   BIC:                            -270.5\n",
       "Df Model:                          15                                         \n",
       "Covariance Type:            nonrobust                                         \n",
       "===================================================================================\n",
       "                      coef    std err          t      P>|t|      [95.0% Conf. Int.]\n",
       "-----------------------------------------------------------------------------------\n",
       "Intercept           0.4399      0.037     11.997      0.000         0.367     0.513\n",
       "axfin_p            -0.0858      0.087     -0.987      0.327        -0.259     0.087\n",
       "axfin_r             0.1218      0.071      1.715      0.090        -0.020     0.263\n",
       "axhealth            0.1096      0.016      7.037      0.000         0.079     0.141\n",
       "bashs              -0.0573      0.038     -1.512      0.135        -0.133     0.018\n",
       "finance_pre         0.0759      0.029      2.640      0.010         0.019     0.133\n",
       "ophe                0.1634      0.032      5.160      0.000         0.100     0.226\n",
       "avg_prod_k         -0.4650      0.040    -11.755      0.000        -0.544    -0.386\n",
       "pe                 -0.2124      0.013    -16.147      0.000        -0.239    -0.186\n",
       "plgp                0.0455      0.045      1.003      0.319        -0.045     0.136\n",
       "prepare_scaleup    -0.0067      0.029     -0.228      0.820        -0.065     0.052\n",
       "pv                 -0.0449      0.005     -8.564      0.000        -0.055    -0.034\n",
       "rating             -0.0042      0.028     -0.149      0.882        -0.060     0.052\n",
       "share1              1.8887      0.288      6.547      0.000         1.314     2.463\n",
       "social_p            0.1752      0.032      5.483      0.000         0.112     0.239\n",
       "social_r            0.1290      0.053      2.434      0.017         0.023     0.235\n",
       "unemp               0.0300      0.080      0.376      0.708        -0.129     0.189\n",
       "==============================================================================\n",
       "Omnibus:                        8.609   Durbin-Watson:                   2.105\n",
       "Prob(Omnibus):                  0.014   Jarque-Bera (JB):                8.364\n",
       "Skew:                           0.633   Prob(JB):                       0.0153\n",
       "Kurtosis:                       3.791   Cond. No.                     1.22e+16\n",
       "==============================================================================\n",
       "\n",
       "Warnings:\n",
       "[1] Standard Errors assume that the covariance matrix of the errors is correctly specified.\n",
       "[2] The smallest eigenvalue is 3.18e-30. This might indicate that there are\n",
       "strong multicollinearity problems or that the design matrix is singular.\n",
       "\"\"\""
      ]
     },
     "execution_count": 31,
     "metadata": {},
     "output_type": "execute_result"
    }
   ],
   "source": [
    "experiments_cols=[\n",
    "'axfin_p', 'axfin_r', 'axhealth', 'bashs', 'finance_pre', 'ophe', 'avg_prod_k', \n",
    "       'pe',  'plgp',  'prepare_scaleup',  'pv', 'rating', 'share1', 'social_p', 'social_r', 'unemp']\n",
    "varin = \"resilience\"\n",
    "\n",
    "formula = varin+\" ~ \" + \"+\".join(experiments_cols)\n",
    "olsmodel=ols(formula,data=df_with_results).fit()\n",
    "olsmodel.summary()\n",
    "\n",
    "pd.DataFrame( [olsmodel.params, olsmodel.pvalues], index=[\"coeff\", \"pval\"]).T\n",
    "olsmodel.summary()\n",
    "# table=anova_lm(olsmodel)\n",
    "# table['sum_sq_pc']=table['sum_sq']/table['sum_sq'].sum()\n",
    "# b=table.sort_values(by=\"sum_sq_pc\", ascending=False)[\"sum_sq_pc\"].reset_index()\n",
    "# b[\"desc\"]=b[\"index\"].replace(pd.read_csv(\"inputs_info.csv\",usecols=[\"key\",\"descriptor\"],index_col=\"key\",squeeze=True))\n",
    "# b=b.set_index(\"desc\").drop(\"index\",axis=1)\n",
    "# b.to_csv(\"anova.csv\")\n",
    "# b.head(12)"
   ]
  },
  {
   "cell_type": "markdown",
   "metadata": {},
   "source": [
    "# Sorts information"
   ]
  },
  {
   "cell_type": "code",
   "execution_count": 32,
   "metadata": {
    "collapsed": false
   },
   "outputs": [],
   "source": [
    "outputs = [\"risk\", \"resilience\", \"risk_to_assets\"]\n",
    "\n",
    "info = pd.DataFrame(columns=df.columns, index=outputs)\n",
    "df_with_results=compute_resiliences(df)\n",
    "ref = df_with_results[outputs].dropna()\n",
    "\n",
    "for v in df:\n",
    "    df_ = df.dropna().copy()\n",
    "    try : \n",
    "        df_[v] = df[v].mean()\n",
    "    except TypeError:\n",
    "        pass\n",
    "    \n",
    "    g=compute_resiliences(def_ref_values(df_))[outputs]\n",
    "    info[v] = (((g - ref)/ref).abs()).median()\n",
    "info = info.T.sort_values(\"resilience\", ascending=False).rename(index=desc)"
   ]
  },
  {
   "cell_type": "code",
   "execution_count": 33,
   "metadata": {
    "collapsed": false
   },
   "outputs": [],
   "source": [
    "with pd.ExcelWriter(\"results/information.xlsx\", engine='xlsxwriter') as writer:\n",
    "    \n",
    "    workbook=writer.book\n",
    "    \n",
    "    info.to_excel(writer,sheet_name=\"information\")\n",
    "    worksheet=writer.sheets[\"information\"]\n",
    "    #width of the columns\n",
    "    worksheet.set_column(0, 0, 20)\n",
    "    worksheet.set_column(1, 1, 20)\n",
    "    worksheet.set_column(2, 2, 20)\n",
    "    worksheet.set_column(3, 3, 20)\n",
    "\n",
    "    #filter\n",
    "    worksheet.autofilter('A1:D1')\n",
    "\n",
    "    #freeze panes\n",
    "    writer.sheets[\"information\"].freeze_panes(1, 1)"
   ]
  },
  {
   "cell_type": "code",
   "execution_count": 34,
   "metadata": {
    "collapsed": false
   },
   "outputs": [
    {
     "data": {
      "text/html": [
       "<div>\n",
       "<table border=\"1\" class=\"dataframe\">\n",
       "  <thead>\n",
       "    <tr style=\"text-align: right;\">\n",
       "      <th></th>\n",
       "      <th>risk</th>\n",
       "      <th>resilience</th>\n",
       "      <th>risk_to_assets</th>\n",
       "    </tr>\n",
       "  </thead>\n",
       "  <tbody>\n",
       "    <tr>\n",
       "      <th>Productivity of capital</th>\n",
       "      <td>0.2990793855</td>\n",
       "      <td>0.1394005999</td>\n",
       "      <td>0.4081305547</td>\n",
       "    </tr>\n",
       "    <tr>\n",
       "      <th>Income share of bottom quintile</th>\n",
       "      <td>0.0546375906</td>\n",
       "      <td>0.0591664270</td>\n",
       "      <td>0.0038789935</td>\n",
       "    </tr>\n",
       "    <tr>\n",
       "      <th>Social protection for poor people</th>\n",
       "      <td>0.0423038012</td>\n",
       "      <td>0.0418049524</td>\n",
       "      <td>0.0000000000</td>\n",
       "    </tr>\n",
       "    <tr>\n",
       "      <th>Asset-vulnerability bias</th>\n",
       "      <td>0.0380658585</td>\n",
       "      <td>0.0378938121</td>\n",
       "      <td>0.0000000000</td>\n",
       "    </tr>\n",
       "    <tr>\n",
       "      <th>Ready to scale-up social protection</th>\n",
       "      <td>0.0219936021</td>\n",
       "      <td>0.0217804724</td>\n",
       "      <td>0.0000000000</td>\n",
       "    </tr>\n",
       "    <tr>\n",
       "      <th>Vulnerability without early warning</th>\n",
       "      <td>0.4873716093</td>\n",
       "      <td>0.0172262287</td>\n",
       "      <td>0.4715445172</td>\n",
       "    </tr>\n",
       "    <tr>\n",
       "      <th>Contingent finance</th>\n",
       "      <td>0.0112904375</td>\n",
       "      <td>0.0112905401</td>\n",
       "      <td>0.0000000000</td>\n",
       "    </tr>\n",
       "  </tbody>\n",
       "</table>\n",
       "</div>"
      ],
      "text/plain": [
       "                                             risk    resilience  risk_to_assets\n",
       "Productivity of capital              0.2990793855  0.1394005999    0.4081305547\n",
       "Income share of bottom quintile      0.0546375906  0.0591664270    0.0038789935\n",
       "Social protection for poor people    0.0423038012  0.0418049524    0.0000000000\n",
       "Asset-vulnerability bias             0.0380658585  0.0378938121    0.0000000000\n",
       "Ready to scale-up social protection  0.0219936021  0.0217804724    0.0000000000\n",
       "Vulnerability without early warning  0.4873716093  0.0172262287    0.4715445172\n",
       "Contingent finance                   0.0112904375  0.0112905401    0.0000000000"
      ]
     },
     "execution_count": 34,
     "metadata": {},
     "output_type": "execute_result"
    }
   ],
   "source": [
    "info.sort_values(\"resilience\", ascending=False).head(7)"
   ]
  },
  {
   "cell_type": "code",
   "execution_count": 35,
   "metadata": {
    "collapsed": true
   },
   "outputs": [],
   "source": [
    "import matplotlib.pyplot as plt\n",
    "\n",
    "\n",
    "def plot_barh(a,color=\"#9ecae1\", xlabel=\"\"):\n",
    "    #params \n",
    "    n=len(a)\n",
    "    height=.38\n",
    "    pos=np.arange(n)\n",
    "\n",
    "    #new fig\n",
    "    fig, ax = plt.subplots(figsize=(5,n/1.75))\n",
    "    rects=plt.barh(pos-height/2,(100*a), height=height, color=color, clip_on=False);\n",
    "\n",
    "    #Department labels\n",
    "    ax.set_yticks(pos)\n",
    "    ax.set_yticklabels(a.index)\n",
    "\n",
    "    #X axis\n",
    "    ax.xaxis.set_ticklabels([])\n",
    "    ax.set_xlabel(xlabel);\n",
    "\n",
    "    #X labels\n",
    "    autolabel(ax,rects,\"gray\",2)\n",
    "\n",
    "    #no spines\n",
    "    ax.spines['right'].set_color('none')\n",
    "    ax.spines['top'].set_color('none')\n",
    "    ax.spines['bottom'].set_color('none')\n",
    "    ax.spines['left'].set_color(\"none\")\n",
    "\n",
    "    #no ticks\n",
    "    for tic in ax.xaxis.get_major_ticks() + ax.yaxis.get_major_ticks():\n",
    "        tic.tick1On = tic.tick2On = False\n",
    "    plt.tight_layout()\n",
    "    return ax    "
   ]
  },
  {
   "cell_type": "code",
   "execution_count": 36,
   "metadata": {
    "collapsed": false
   },
   "outputs": [],
   "source": [
    "def spine_and_ticks(ax):\n",
    "    ax.spines['top'].set_color('none')\n",
    "    ax.spines['right'].set_color(\"none\")\n",
    "\n",
    "    #removes ticks \n",
    "    ax.xaxis.set_ticks_position('bottom')\n",
    "    ax.yaxis.set_ticks_position('left')\n",
    "from autolabel import *    \n",
    "   \n",
    "    \n",
    "    \n",
    "def plot_barh(a,color=\"#9ecae1\", xlabel=\"\"):\n",
    "    #params \n",
    "    n=len(a)\n",
    "    height=.38\n",
    "    pos=np.arange(n)\n",
    "\n",
    "    #new fig\n",
    "    fig, ax = plt.subplots(figsize=(6,n/1.75))\n",
    "    rects=plt.barh(pos-height/2,(100*a), height=height, color=color, clip_on=False);\n",
    "\n",
    "    #Department labels\n",
    "    ax.set_yticks(pos)\n",
    "    ax.set_yticklabels(a.index)\n",
    "\n",
    "    #X axis\n",
    "    ax.xaxis.set_ticklabels([])\n",
    "#     ax.set_title(xlabel);\n",
    "\n",
    "    #X labels\n",
    "    autolabel(ax,rects,\"gray\",2)\n",
    "#     ax.set_xlabel(\"Average error (%)\")\n",
    "\n",
    "    #no spines\n",
    "    ax.spines['right'].set_color('none')\n",
    "    ax.spines['top'].set_color('none')\n",
    "    ax.spines['bottom'].set_color('none')\n",
    "    ax.spines['left'].set_color(\"none\")\n",
    "\n",
    "    #no ticks\n",
    "    for tic in ax.xaxis.get_major_ticks() + ax.yaxis.get_major_ticks():\n",
    "        tic.tick1On = tic.tick2On = False\n",
    "    plt.tight_layout()\n",
    "    return ax    \n",
    "    \n",
    "    \n"
   ]
  },
  {
   "cell_type": "code",
   "execution_count": 37,
   "metadata": {
    "collapsed": true
   },
   "outputs": [],
   "source": [
    "font = {'family' : 'serif',\n",
    "    'weight' : 'normal',\n",
    "    'size'   : 15}\n",
    "\n",
    "plt.rc('font', **font)"
   ]
  },
  {
   "cell_type": "code",
   "execution_count": 38,
   "metadata": {
    "collapsed": false
   },
   "outputs": [
    {
     "data": {
      "image/png": "[encoded data removed]",
      "text/plain": [
       "<matplotlib.figure.Figure at 0xb9621d0>"
      ]
     },
     "metadata": {},
     "output_type": "display_data"
    }
   ],
   "source": [
    "plot_barh(info.sort_values(\"risk\", ascending=True).risk.tail(10), color=\"#756bb1\", xlabel=\"Average error (%)\")\n",
    "plt.savefig(\"img/risk_info.png\", bbox_inches=\"tight\")"
   ]
  },
  {
   "cell_type": "code",
   "execution_count": 39,
   "metadata": {
    "collapsed": false
   },
   "outputs": [
    {
     "data": {
      "image/png": "[encoded data removed]",
      "text/plain": [
       "<matplotlib.figure.Figure at 0xb97e320>"
      ]
     },
     "metadata": {},
     "output_type": "display_data"
    }
   ],
   "source": [
    "plot_barh(info.sort_values(\"resilience\", ascending=True).resilience.tail(10), color=\"#de2d26\")\n",
    "plt.savefig(\"img/ser_info.png\", bbox_inches=\"tight\")"
   ]
  },
  {
   "cell_type": "code",
   "execution_count": 40,
   "metadata": {
    "collapsed": false
   },
   "outputs": [
    {
     "data": {
      "image/png": "[encoded data removed]",
      "text/plain": [
       "<matplotlib.figure.Figure at 0xb962b38>"
      ]
     },
     "metadata": {},
     "output_type": "display_data"
    }
   ],
   "source": [
    "plot_barh(info.sort_values(\"risk_to_assets\", ascending=True).risk_to_assets.tail(10), color=\"#3182bd\")\n",
    "plt.savefig(\"img/risk_to_assets_info.png\", bbox_inches=\"tight\")"
   ]
  }
 ],
 "metadata": {
  "kernelspec": {
   "display_name": "Python 3",
   "language": "python",
   "name": "python3"
  },
  "language_info": {
   "codemirror_mode": {
    "name": "ipython",
    "version": 3
   },
   "file_extension": ".py",
   "mimetype": "text/x-python",
   "name": "python",
   "nbconvert_exporter": "python",
   "pygments_lexer": "ipython3",
   "version": "3.4.4"
  }
 },
 "nbformat": 4,
 "nbformat_minor": 0
}
