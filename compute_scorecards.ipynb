{
 "cells": [
  {
   "cell_type": "code",
   "execution_count": 14,
   "metadata": {
    "collapsed": true
   },
   "outputs": [],
   "source": [
    "%reset-f"
   ]
  },
  {
   "cell_type": "code",
   "execution_count": 15,
   "metadata": {
    "collapsed": false
   },
   "outputs": [
    {
     "name": "stdout",
     "output_type": "stream",
     "text": [
      "The autoreload extension is already loaded. To reload it, use:\n",
      "  %reload_ext autoreload\n"
     ]
    }
   ],
   "source": [
    "%load_ext autoreload\n",
    "%autoreload 2\n",
    "%matplotlib inline\n",
    "\n",
    "import pandas as pd\n",
    "import numpy as np\n",
    "import statsmodels.formula.api as sm\n",
    "\n",
    "import warnings\n",
    "warnings.filterwarnings(\"always\",category=UserWarning)\n",
    "from res_ind_lib import *\n",
    "import os, time\n",
    "\n"
   ]
  },
  {
   "cell_type": "code",
   "execution_count": 16,
   "metadata": {
    "collapsed": true
   },
   "outputs": [],
   "source": [
    "#Folder where outputs are stored\n",
    "out_folder = \"scorecards/\"\n",
    "os.makedirs(out_folder,exist_ok=True)"
   ]
  },
  {
   "cell_type": "code",
   "execution_count": 17,
   "metadata": {
    "collapsed": false
   },
   "outputs": [],
   "source": [
    "debug=False\n",
    "concat_sensit = True\n"
   ]
  },
  {
   "cell_type": "markdown",
   "metadata": {},
   "source": [
    "# Functions"
   ]
  },
  {
   "cell_type": "code",
   "execution_count": 18,
   "metadata": {
    "collapsed": false
   },
   "outputs": [],
   "source": [
    "#saves derivatives in excel tabs with signs in colors (very usefull for understanding the model)\n",
    "def make_excel_report(derivatives, filename =\"signs.xlsx\" ):\n",
    "    writer= pd.ExcelWriter(filename, engine='xlsxwriter')\n",
    "    workbook=writer.book\n",
    "    # Add a format. Light red fill with dark red text.\n",
    "    red = workbook.add_format({'bg_color': '#FFC7CE',\n",
    "                                   'font_color': '#9C0006'})\n",
    "\n",
    "    blue = workbook.add_format({'bg_color': '#92c5de',\n",
    "                                   'font_color': '#000061'})\n",
    "    for outname in score_card_set:\n",
    "    #for outname in [\"resilience\"]:\n",
    "        derivatives[outname].to_excel(writer,sheet_name=outname)\n",
    "        writer.sheets[outname].conditional_format('B2:BB600', {'type':'cell',\n",
    "                                        'criteria': '>',\n",
    "                                        'value':    0,\n",
    "                                        'format':   blue})\n",
    "        writer.sheets[outname].conditional_format('B2:BB600', {'type':'cell',\n",
    "                                        'criteria': '<',\n",
    "                                        'value':    0,\n",
    "                                        'format':   red})\n",
    "        writer.sheets[outname].freeze_panes(1, 1)\n",
    "\n",
    "    return writer"
   ]
  },
  {
   "cell_type": "markdown",
   "metadata": {},
   "source": [
    "# Data"
   ]
  },
  {
   "cell_type": "code",
   "execution_count": 19,
   "metadata": {
    "collapsed": false
   },
   "outputs": [],
   "source": [
    "df_original=pd.read_csv(\"results/df_original.csv\",index_col=\"country\").dropna()\n",
    "\n",
    "#appends \"countries\" from the sensitivity analysis\n",
    "df_sensit=pd.read_csv(\"results/df_sensit_input.csv\",index_col=\"country\").dropna()\n",
    "\n",
    "#df_original=df_original.append(df_sensit)\n",
    "\n",
    "\n",
    "df_with_results=pd.read_csv(\"results/df.csv\",index_col=\"country\")\n",
    "\n",
    "#Rankings (how the country sits with respect to all other in the sample, for each input. not used)\n",
    "ranks = df_with_results.dropna(how=\"all\",axis=1).dropna().rank(method=\"min\",ascending =False) \n",
    "ranks.to_csv(\"results/rankings.csv\")\n",
    "\n",
    "df_sensit_with_results = pd.read_csv(\"results/df_sensit_results.csv\").set_index(\"country\")\n",
    "df_sensit = pd.read_csv(\"results/df_sensit_input.csv\").set_index(\"country\")\n",
    "\n",
    "\n",
    "#fa_ratios for both countries and the sensitivity analysis\n",
    "fa_ratios = pd.read_csv(\"inputs/fa_ratios.csv\",index_col=\"country\")\n",
    "fa_ratios_sensit=pd.read_csv(\"inputs/fa_ratios_sensib.csv\",index_col=\"country\")\n",
    "fa_ratios_sensit.columns = fa_ratios_sensit.columns.astype(float)\n",
    "\n",
    "#tranforms all data to floats\n",
    "fa_ratios.columns = fa_ratios.columns.astype(float)\n",
    "fa_ratios=fa_ratios.astype(float)\n",
    "fa_ratios;\n",
    "\n",
    "\n",
    "if concat_sensit:\n",
    "    #appends sensitivity anlysis\n",
    "    df_with_results=df_with_results.append(df_sensit_with_results)\n",
    "    fa_ratios=fa_ratios.append(fa_ratios_sensit)\n",
    "    df_original = df_original.append(df_sensit)\n",
    "\n"
   ]
  },
  {
   "cell_type": "markdown",
   "metadata": {},
   "source": [
    "# Computes all derivatives"
   ]
  },
  {
   "cell_type": "code",
   "execution_count": 20,
   "metadata": {
    "collapsed": false
   },
   "outputs": [],
   "source": [
    "deriv_set = np.setdiff1d( df_original.columns.values,\n",
    "    [\"pop\",\"iso3\",\"original_country\",\"gdp_pc_pp\",\"pov_head\",\"avg_prod_k_ref\",\n",
    "     \"income_elast\",\"faref\",\"avg_prod_k\", \"peref\",\"share1_ref\"\n",
    "     ,\"bashs\",\"ophe\",\"fa_ref\",\"protectionref\"])\n",
    "\n",
    "\n",
    "pd.DataFrame(data=deriv_set).to_csv(\"inputs/deriv_set.csv\",index=False,header=False)\n",
    "\n",
    "\n",
    "     "
   ]
  },
  {
   "cell_type": "code",
   "execution_count": 21,
   "metadata": {
    "collapsed": false
   },
   "outputs": [],
   "source": [
    "#Checks that info has information for all variables in deriv_set\n",
    "info = pd.read_csv(\"inputs/inputs_info.csv\").set_index(\"key\")\n",
    "for d in deriv_set:\n",
    "    if d not in info.index.values:\n",
    "        raise Exception(d+\" is not documented in inputs_info.csv\")\n"
   ]
  },
  {
   "cell_type": "code",
   "execution_count": 22,
   "metadata": {
    "collapsed": false
   },
   "outputs": [
    {
     "name": "stdout",
     "output_type": "stream",
     "text": [
      "working on  v_s\n",
      "ambigous sign for H\n",
      "ambigous sign for T_rebuild_K\n",
      "ambigous sign for pe\n",
      "ambigous sign for protection\n",
      "ambigous sign for pv\n",
      "ambigous sign for share1\n",
      "ambigous sign for v\n"
     ]
    }
   ],
   "source": [
    "#new dataframe with countries in rows and (resilience type,input) as column\n",
    "#score_card_set = [\"resilience\",\"resilience_no_shock\",\"resilience_no_shock_no_uspcale\",\"resilience_no_shock_no_SP\"] \n",
    "score_card_set = [\"resilience\",\"risk\", \"fa\", \"v_p\", \"v_r\", \"risk_to_assets\", \"fap\", \"far\"]\n",
    "\n",
    "# derivatives= compute_derivative(df_original,score_card_set,deriv_set, fa_ratios=fa_ratios, verbose_output=True)\n",
    "\n",
    "derivatives= compute_derivative(df_original,score_card_set,deriv_set,verbose_output=True)\n",
    "\n",
    "#derivatives_nofr= compute_derivative(df_original,score_card_set,deriv_set, verbose_output=True)\n",
    "derivatives[\"resilience\"].to_csv(\"results/deriv.csv\")\n",
    "derivatives[\"risk\"].to_csv(\"results/deriv_risk.csv\")\n",
    "\n"
   ]
  },
  {
   "cell_type": "code",
   "execution_count": 23,
   "metadata": {
    "collapsed": false
   },
   "outputs": [],
   "source": [
    "if debug:\n",
    "    print(derivatives.risk.protection.argmax(),derivatives.risk.protection.max())\n",
    "    derivatives.risk.protection.hist()\n",
    "    print(derivatives.risk.protection.sort_values(ascending=True).head())\n",
    "    print(derivatives.risk.protection[[\"Sweden\",\"Spain\"]])\n",
    "    \n",
    "    derivatives.resilience.protection.hist(bins=100)\n",
    "    print(derivatives.resilience.protection.sort_values(ascending=False).head(),derivatives.resilience.protection.argmax())"
   ]
  },
  {
   "cell_type": "code",
   "execution_count": 24,
   "metadata": {
    "collapsed": false
   },
   "outputs": [],
   "source": [
    "\n",
    "writer = make_excel_report(derivatives, \"results/signs.xlsx\" )\n",
    "try :\n",
    "    writer.save()\n",
    "except PermissionError:\n",
    "    warnings.warn(\"Cannot write excel file. Check that it's not opened and try again\")"
   ]
  },
  {
   "cell_type": "code",
   "execution_count": 25,
   "metadata": {
    "collapsed": false
   },
   "outputs": [],
   "source": [
    "if not concat_sensit:\n",
    "    deri_sensit = compute_derivative(df_sensit.select_dtypes(exclude=[object]),score_card_set,deriv_set, fa_ratios=fa_ratios_sensit, verbose_output=False)\n",
    "#derivatives_nofr= compute_derivative(df_original,score_card_set,deriv_set, verbose_output=True)\n",
    "\n",
    "\n",
    "    deri_sensit[\"resilience\"].to_csv(\"results/deriv_sensit.csv\")\n",
    "    deri_sensit[\"risk\"].to_csv(\"results/deriv_risk_sensit.csv\")\n",
    "\n",
    "    writer = make_excel_report(deri_sensit, \"results/signs_sensit.xlsx\" )\n",
    "    try :\n",
    "        writer.save()\n",
    "    except PermissionError:\n",
    "        warnings.warn(\"Cannot write excel file. Check that it's not opened and try again\")    \n",
    "\n",
    "    "
   ]
  },
  {
   "cell_type": "code",
   "execution_count": null,
   "metadata": {
    "collapsed": false
   },
   "outputs": [],
   "source": []
  },
  {
   "cell_type": "markdown",
   "metadata": {},
   "source": [
    "# Write Excel scorecards"
   ]
  },
  {
   "cell_type": "code",
   "execution_count": 26,
   "metadata": {
    "collapsed": false
   },
   "outputs": [],
   "source": [
    "if False:\n",
    "    abs_derivative = signs*derivatives[\"resilience\"] #abs value\n",
    "    step_for_one = (0.01/abs_derivative).replace([-np.inf,np.inf],[np.nan,np.nan])\n",
    "\n",
    "\n",
    "    headr = list(itertools.product(derivatives.dropna().index.values,['level', \"ranking\",'der','for_one']))\n",
    "    scores=  pd.DataFrame(index=deriv_set, columns=pd.MultiIndex.from_tuples(headr))\n",
    "\n",
    "\n",
    "    for c in derivatives.dropna().index:\n",
    "        scores[(c,'level')]=df_original.ix[c]\n",
    "        scores[(c,'der')]=abs_derivative.ix[c]\n",
    "        scores[(c,'for_one')]=step_for_one.ix[c]\n",
    "        scores[(c,'ranking')]=ranks.ix[df_original.ix[c,\"original_country\"]]\n",
    "\n",
    "\n",
    "    for c in derivatives.dropna().index:\n",
    "    #for c in [\"France\"]:\n",
    "        with pd.ExcelWriter('scorecards/'+c.lower().replace(\" \",\"_\").replace(\"\\\\\",\"\")+'.xlsx', engine='xlsxwriter') as writer:\n",
    "            percent = writer.book.add_format()\n",
    "            percent.set_num_format(\"0.0%\")\n",
    "\n",
    "            outs = df_with_results.ix[df_with_results.index==c,score_card_set]\n",
    "            outs.transpose().to_excel(writer)\n",
    "            scores[c].reset_index().rename(columns={\"index\":\"input\"}).to_excel(writer,startrow =2+len(score_card_set),index=False)\n"
   ]
  },
  {
   "cell_type": "code",
   "execution_count": null,
   "metadata": {
    "collapsed": true
   },
   "outputs": [],
   "source": []
  }
 ],
 "metadata": {
  "kernelspec": {
   "display_name": "Python 3",
   "language": "python",
   "name": "python3"
  },
  "language_info": {
   "codemirror_mode": {
    "name": "ipython",
    "version": 3
   },
   "file_extension": ".py",
   "mimetype": "text/x-python",
   "name": "python",
   "nbconvert_exporter": "python",
   "pygments_lexer": "ipython3",
   "version": "3.4.4"
  }
 },
 "nbformat": 4,
 "nbformat_minor": 0
}
