{
 "cells": [
  {
   "cell_type": "markdown",
   "metadata": {},
   "source": [
    "#transforms all the EPS in PNG"
   ]
  },
  {
   "cell_type": "code",
   "execution_count": 7,
   "metadata": {
    "collapsed": false
   },
   "outputs": [
    {
     "name": "stdout",
     "output_type": "stream",
     "text": [
      "Converting scorecards....\n",
      "conversion to png done\n"
     ]
    }
   ],
   "source": [
    "\n",
    "\n",
    "import sys, glob\n",
    "from subprocess import call, Popen    \n",
    "\n",
    "glob.os.chdir(\"scorecards/\")\n",
    "\n",
    "q=Popen(\"mogrify -density 150 -format png *.eps\");\n",
    "print(\"Converting scorecards....\")\n",
    "sys.stdout.flush()\n",
    "q.communicate()\n",
    "print(\"conversion to png done\")"
   ]
  },
  {
   "cell_type": "markdown",
   "metadata": {},
   "source": [
    "#Moves the pgn to a png/ subfolder"
   ]
  },
  {
   "cell_type": "code",
   "execution_count": 8,
   "metadata": {
    "collapsed": false
   },
   "outputs": [],
   "source": [
    "glob.os.makedirs(\"png/\",exist_ok=True)\n",
    "\n",
    "import os\n",
    "import shutil\n",
    "sourcepath='.'\n",
    "source = os.listdir(sourcepath)\n",
    "destinationpath = 'png'\n",
    "for files in source:\n",
    "    if files.endswith('.png'):\n",
    "        shutil.move(os.path.join(sourcepath,files), os.path.join(destinationpath,files))"
   ]
  },
  {
   "cell_type": "code",
   "execution_count": 9,
   "metadata": {
    "collapsed": true
   },
   "outputs": [],
   "source": [
    "glob.os.chdir(\"..\")"
   ]
  },
  {
   "cell_type": "code",
   "execution_count": null,
   "metadata": {
    "collapsed": true
   },
   "outputs": [],
   "source": []
  }
 ],
 "metadata": {
  "kernelspec": {
   "display_name": "Python 3",
   "language": "python",
   "name": "python3"
  },
  "language_info": {
   "codemirror_mode": {
    "name": "ipython",
    "version": 3
   },
   "file_extension": ".py",
   "mimetype": "text/x-python",
   "name": "python",
   "nbconvert_exporter": "python",
   "pygments_lexer": "ipython3",
   "version": "3.4.1"
  }
 },
 "nbformat": 4,
 "nbformat_minor": 0
}
